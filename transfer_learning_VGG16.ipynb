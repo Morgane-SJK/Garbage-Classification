{
  "nbformat": 4,
  "nbformat_minor": 0,
  "metadata": {
    "colab": {
      "name": "transfer_learning_VGG16.ipynb",
      "provenance": [],
      "collapsed_sections": [],
      "toc_visible": true
    },
    "kernelspec": {
      "name": "python3",
      "display_name": "Python 3"
    },
    "language_info": {
      "name": "python"
    },
    "accelerator": "GPU"
  },
  "cells": [
    {
      "cell_type": "markdown",
      "source": [
        "# Transfer Learning avec le modèle de classification pré-entraîné VGG16"
      ],
      "metadata": {
        "id": "TpHBbUJs6tiF"
      }
    },
    {
      "cell_type": "markdown",
      "source": [
        "Dans ce Notebook, nous essayons d'entraîner un modèle VGG16 pour la classification des images de notre dataset Garbage. 5 modèles en tout ont été testés. \n",
        "\n",
        "Aucune GridSearch n'a été appliquée encore pour trouver les meilleurs hyper-paramètres. Cette stratégie sera utilisée une fois que nous aurons testé d'autres modèles pré-entraînés (VGG19, ResNet50, DenseNet...)."
      ],
      "metadata": {
        "id": "2I4i9nY1xqFR"
      }
    },
    {
      "cell_type": "markdown",
      "source": [
        "Imports des bibliothèques pour le projet"
      ],
      "metadata": {
        "id": "nAOJDENmQAlS"
      }
    },
    {
      "cell_type": "code",
      "source": [
        "import time\n",
        "import itertools\n",
        "import os\n",
        "import numpy as np\n",
        "import pandas as pd\n",
        "\n",
        "\"\"\"\n",
        "plot de graphes\n",
        "\"\"\"\n",
        "import matplotlib.pyplot as plt\n",
        "\n",
        "\"\"\"\n",
        "Création et gestion des modèles de classification d'images avec Keras\n",
        "\"\"\"\n",
        "from tensorflow import keras\n",
        "\n",
        "#Accès aux images à classifier, qui sont réparties dans différents dossiers\n",
        "from keras.preprocessing.image import ImageDataGenerator\n",
        "\n",
        "#Différents types de couches pour les CNN\n",
        "from keras.layers import Flatten, Dense, Activation\n",
        "\n",
        "#Création de l'architecture des modèles avec Model\n",
        "from keras.models import Model \n",
        "\n",
        "#Affichage de l'architecture des modèle\n",
        "#from keras.utils.vis_utils import plot_model\n",
        "\n",
        "#Gestion des arrêtes anticipés\n",
        "from keras.callbacks import EarlyStopping\n",
        "\n",
        "\"\"\"\n",
        "Utilisation du modèle VGG16\n",
        "\"\"\"\n",
        "from keras.applications.vgg16 import VGG16\n",
        "from keras.applications.vgg16 import preprocess_input as preprocess_vgg16\n",
        "\n",
        "\"\"\"\n",
        "Mesures de performance des modèles avec Sklearn\n",
        "\"\"\"\n",
        "from sklearn.metrics import accuracy_score, precision_score, recall_score, f1_score, confusion_matrix"
      ],
      "metadata": {
        "id": "MeZ26KuvQFri"
      },
      "execution_count": null,
      "outputs": []
    },
    {
      "cell_type": "markdown",
      "source": [
        "# Set up : fonctions utiles et initialisation"
      ],
      "metadata": {
        "id": "EAHKYvp_9XAr"
      }
    },
    {
      "cell_type": "code",
      "source": [
        "def plot_accuracy_loss(history):\n",
        "    \"\"\"\n",
        "    Retourne 2 graphes : un qui présente l'accuracy sur les sets de train et validation et le deuxième avec la loss\n",
        "    \"\"\"\n",
        "    fig, (ax1, ax2) = plt.subplots(1, 2, figsize=(15,5))\n",
        "\n",
        "    #Accuracy\n",
        "    accuracy = history.history['accuracy']\n",
        "    val_accuracy = history.history['val_accuracy']\n",
        "    ax1.plot(range(len(accuracy)), accuracy, label='train')\n",
        "    ax1.plot(range(len(val_accuracy)), val_accuracy, label='validation')\n",
        "    ax1.legend()\n",
        "    ax1.set_xlabel('Epochs')\n",
        "    ax1.set_ylabel('Accuracy')\n",
        "    ax1.set_title('Training and Validation Accuracy')\n",
        "\n",
        "    #Loss\n",
        "    loss = history.history['loss']\n",
        "    val_loss = history.history['val_loss']\n",
        "    ax2.plot(range(len(loss)), loss, label='train')\n",
        "    ax2.plot(range(len(val_loss)), val_loss, label='validation')\n",
        "    ax2.legend()\n",
        "    ax2.set_xlabel('Epochs')\n",
        "    ax2.set_ylabel('Loss')\n",
        "    ax2.set_title('Training and Validation Loss')\n",
        "\n",
        "\n",
        "def plot_confusion_matrix(cm, classes,\n",
        "                          title='Confusion matrix',\n",
        "                          cmap=plt.cm.Blues):\n",
        "    \"\"\"\n",
        "    Affiche la matrice de confusion du modèle sur les données de test\n",
        "    \"\"\"\n",
        "    fig = plt.figure(figsize=(10,10))\n",
        "    plt.imshow(cm, interpolation='nearest', cmap=cmap)\n",
        "    plt.title(title)\n",
        "    plt.colorbar()\n",
        "    tick_marks = np.arange(len(classes))\n",
        "    plt.xticks(tick_marks, classes, rotation=45)\n",
        "    plt.yticks(tick_marks, classes)\n",
        "    fmt = '.2f'\n",
        "    thresh = cm.max() / 2.\n",
        "    for i, j in itertools.product(range(cm.shape[0]), range(cm.shape[1])):\n",
        "        plt.text(j, i, format(cm[i, j], fmt),\n",
        "                 horizontalalignment=\"center\",\n",
        "                 color=\"white\" if cm[i, j] > thresh else \"black\")\n",
        "    plt.tight_layout()\n",
        "    plt.ylabel('True label')\n",
        "    plt.xlabel('Predicted label')\n",
        "    plt.show()\n",
        "\n",
        "def study_model(model, classes, test_generator, executionTime, plot_cm=False):\n",
        "    \"\"\"\n",
        "    Retourne des informations sur la performance du modèle\n",
        "    \"\"\"\n",
        "\n",
        "    #Durée d'entraînement\n",
        "    print(f\"Durée d'entraînement : {round(executionTime, 2)} secondes\")\n",
        "\n",
        "    #Performances sur le set de test\n",
        "    preds = model.predict(test_generator)  # preds are proba for each class\n",
        "    preds_classes = [i.argmax() for i in preds]\n",
        "    y_true = test_generator.classes\n",
        "    acc_test = accuracy_score(y_true, preds_classes)\n",
        "    prec_test = precision_score(y_true, preds_classes, average='weighted')\n",
        "    rec_test = recall_score(y_true, preds_classes, average='weighted')\n",
        "    f1_test = f1_score(y_true, preds_classes, average='weighted')\n",
        "    results = pd.DataFrame([[acc_test, prec_test, rec_test, f1_test]], columns=['accuracy', 'precision', 'recall', 'f1-score'])\n",
        "    print(\"\\nPerformances sur le set de test : \\n\")\n",
        "    print(results)\n",
        "\n",
        "    #Matrice de confusion\n",
        "    if (plot_cm):\n",
        "      cm = confusion_matrix(y_true, preds_classes)\n",
        "      plot_confusion_matrix(cm, classes)"
      ],
      "metadata": {
        "id": "788E77rli05f"
      },
      "execution_count": null,
      "outputs": []
    },
    {
      "cell_type": "code",
      "source": [
        "#infos du dataset\n",
        "labels = os.listdir(\"./Garbage classification\")\n",
        "nClasses = len(labels) #6\n",
        "inputFolder = \"./Garbage_train_test_val\"\n",
        "\n",
        "#Utilisation de VGG16 : format d'images accepté = (224,224)\n",
        "modelName = \"VGG16\"\n",
        "img_width = 224\n",
        "img_height = 224\n",
        "\n",
        "#Hyper-paramètres\n",
        "batch_size = 32\n",
        "epochs_nb = 50\n",
        "\n",
        "#Création des générateurs\n",
        "train_datagen   =  ImageDataGenerator(preprocessing_function = preprocess_vgg16)\n",
        "test_datagen = ImageDataGenerator(preprocessing_function = preprocess_vgg16)\n",
        "train_generator = train_datagen.flow_from_directory(directory=r'./{}/train'.format(inputFolder),target_size=(img_width, img_height),color_mode='rgb',batch_size=batch_size,class_mode='categorical',shuffle=True,seed=42)\n",
        "test_generator = test_datagen.flow_from_directory(directory=r'./{}/test'.format(inputFolder),target_size=(img_width, img_height),color_mode='rgb',batch_size=batch_size,class_mode='categorical',shuffle=False)\n",
        "validation_generator = test_datagen.flow_from_directory(directory=r'./{}/val'.format(inputFolder),target_size=(img_width, img_height),color_mode='rgb',batch_size=batch_size,class_mode='categorical',shuffle=False)"
      ],
      "metadata": {
        "id": "HeWZ441m2zAu",
        "colab": {
          "base_uri": "https://localhost:8080/"
        },
        "outputId": "a20f9489-7677-47e9-9c97-c7c492c1c8ec"
      },
      "execution_count": null,
      "outputs": [
        {
          "output_type": "stream",
          "name": "stdout",
          "text": [
            "Found 1766 images belonging to 6 classes.\n",
            "Found 384 images belonging to 6 classes.\n",
            "Found 377 images belonging to 6 classes.\n"
          ]
        }
      ]
    },
    {
      "cell_type": "markdown",
      "source": [
        "# Modèle 1"
      ],
      "metadata": {
        "id": "xhnFNrm3EE4U"
      }
    },
    {
      "cell_type": "markdown",
      "source": [
        "Nous téléchargeons le modèle **VGG16 pré-entraîné sur ImageNet** et ne modifions que la partie classification (correspondant aux couches entièrements connectées). Les poids des couches convolutives de VGG16 sont donc conservées (layer.trainable = False)."
      ],
      "metadata": {
        "id": "fQoOK6eByfUh"
      }
    },
    {
      "cell_type": "code",
      "source": [
        "def VGG16_Architecture(img_width, img_height, nClasses):\n",
        "  \n",
        "  model = VGG16(include_top = False, weights = 'imagenet', input_shape = (img_width, img_height, 3))\n",
        "  \n",
        "  #Partie convolutive : on garde les paramètres des couches de VGG16 entraîné sur imagenet\n",
        "  for layer in model.layers:\n",
        "    layer.trainable = False\n",
        "    lastLayer = model.output\n",
        "\n",
        "  x = Flatten()(lastLayer)\n",
        "\n",
        "  #Partie classification : on ajoute une couche entièrement connectée ainsi que la dernière avec le bon nombre de classes\n",
        "  #Seule cette partie sera entraînée par le modèle\n",
        "  x = Dense(256)(x)\n",
        "  x = Activation('relu')(x)\n",
        "  x = Dense(nClasses)(x)\n",
        "  x = Activation('softmax')(x)\n",
        "\n",
        "  model = Model(model.input, x)\n",
        "\n",
        "  return model"
      ],
      "metadata": {
        "id": "_qxDSpyyEfVn"
      },
      "execution_count": null,
      "outputs": []
    },
    {
      "cell_type": "code",
      "source": [
        "#Création et compilation du modèle\n",
        "model = VGG16_Architecture(img_width, img_height, nClasses)\n",
        "model.compile(loss='categorical_crossentropy', optimizer=keras.optimizers.RMSprop(lr=2e-5), metrics=['accuracy'])"
      ],
      "metadata": {
        "colab": {
          "base_uri": "https://localhost:8080/"
        },
        "id": "vGvLlNN95pAb",
        "outputId": "f83c222b-ccb3-4a7f-a7a4-e7aed1af94e7"
      },
      "execution_count": null,
      "outputs": [
        {
          "output_type": "stream",
          "name": "stderr",
          "text": [
            "/usr/local/lib/python3.7/dist-packages/keras/optimizer_v2/rmsprop.py:130: UserWarning: The `lr` argument is deprecated, use `learning_rate` instead.\n",
            "  super(RMSprop, self).__init__(name, **kwargs)\n"
          ]
        }
      ]
    },
    {
      "cell_type": "code",
      "source": [
        "startTime=time.time()\n",
        "history = model.fit(train_generator, epochs = epochs_nb, validation_data  = validation_generator)\n",
        "executionTime = (time.time() - startTime)"
      ],
      "metadata": {
        "id": "xm7HEiwh5u-y",
        "colab": {
          "base_uri": "https://localhost:8080/"
        },
        "outputId": "7401b8fa-4738-49bd-bb9a-e8222c288463"
      },
      "execution_count": null,
      "outputs": [
        {
          "output_type": "stream",
          "name": "stdout",
          "text": [
            "Epoch 1/50\n",
            "56/56 [==============================] - 41s 517ms/step - loss: 4.6425 - accuracy: 0.4734 - val_loss: 3.2489 - val_accuracy: 0.5889\n",
            "Epoch 2/50\n",
            "56/56 [==============================] - 18s 313ms/step - loss: 0.8204 - accuracy: 0.8386 - val_loss: 2.7944 - val_accuracy: 0.6233\n",
            "Epoch 3/50\n",
            "56/56 [==============================] - 17s 310ms/step - loss: 0.1412 - accuracy: 0.9649 - val_loss: 2.5779 - val_accuracy: 0.6711\n",
            "Epoch 4/50\n",
            "56/56 [==============================] - 17s 310ms/step - loss: 0.0231 - accuracy: 0.9943 - val_loss: 2.5816 - val_accuracy: 0.6817\n",
            "Epoch 5/50\n",
            "56/56 [==============================] - 17s 305ms/step - loss: 0.0172 - accuracy: 0.9983 - val_loss: 2.4622 - val_accuracy: 0.6923\n",
            "Epoch 6/50\n",
            "56/56 [==============================] - 17s 305ms/step - loss: 0.0190 - accuracy: 0.9977 - val_loss: 2.4620 - val_accuracy: 0.7162\n",
            "Epoch 7/50\n",
            "56/56 [==============================] - 17s 308ms/step - loss: 0.0076 - accuracy: 0.9989 - val_loss: 2.4208 - val_accuracy: 0.7321\n",
            "Epoch 8/50\n",
            "56/56 [==============================] - 18s 313ms/step - loss: 0.0227 - accuracy: 0.9977 - val_loss: 2.3575 - val_accuracy: 0.7454\n",
            "Epoch 9/50\n",
            "56/56 [==============================] - 17s 310ms/step - loss: 0.0179 - accuracy: 0.9983 - val_loss: 2.3956 - val_accuracy: 0.7427\n",
            "Epoch 10/50\n",
            "56/56 [==============================] - 18s 313ms/step - loss: 0.0177 - accuracy: 0.9983 - val_loss: 2.3154 - val_accuracy: 0.7480\n",
            "Epoch 11/50\n",
            "56/56 [==============================] - 17s 308ms/step - loss: 0.0204 - accuracy: 0.9983 - val_loss: 2.3468 - val_accuracy: 0.7427\n",
            "Epoch 12/50\n",
            "56/56 [==============================] - 17s 307ms/step - loss: 0.0074 - accuracy: 0.9989 - val_loss: 2.3166 - val_accuracy: 0.7533\n",
            "Epoch 13/50\n",
            "56/56 [==============================] - 18s 313ms/step - loss: 0.0212 - accuracy: 0.9977 - val_loss: 2.3408 - val_accuracy: 0.7480\n",
            "Epoch 14/50\n",
            "56/56 [==============================] - 17s 309ms/step - loss: 0.0222 - accuracy: 0.9977 - val_loss: 2.3241 - val_accuracy: 0.7480\n",
            "Epoch 15/50\n",
            "56/56 [==============================] - 17s 305ms/step - loss: 0.0206 - accuracy: 0.9983 - val_loss: 2.4366 - val_accuracy: 0.7507\n",
            "Epoch 16/50\n",
            "56/56 [==============================] - 18s 311ms/step - loss: 0.0126 - accuracy: 0.9983 - val_loss: 2.3669 - val_accuracy: 0.7454\n",
            "Epoch 17/50\n",
            "56/56 [==============================] - 17s 309ms/step - loss: 0.0166 - accuracy: 0.9983 - val_loss: 2.2971 - val_accuracy: 0.7533\n",
            "Epoch 18/50\n",
            "56/56 [==============================] - 18s 312ms/step - loss: 0.0150 - accuracy: 0.9989 - val_loss: 2.3806 - val_accuracy: 0.7480\n",
            "Epoch 19/50\n",
            "56/56 [==============================] - 18s 312ms/step - loss: 0.0083 - accuracy: 0.9989 - val_loss: 2.2992 - val_accuracy: 0.7533\n",
            "Epoch 20/50\n",
            "56/56 [==============================] - 18s 311ms/step - loss: 0.0188 - accuracy: 0.9983 - val_loss: 2.3680 - val_accuracy: 0.7533\n",
            "Epoch 21/50\n",
            "56/56 [==============================] - 18s 311ms/step - loss: 0.0148 - accuracy: 0.9983 - val_loss: 2.3056 - val_accuracy: 0.7586\n",
            "Epoch 22/50\n",
            "56/56 [==============================] - 17s 309ms/step - loss: 0.0187 - accuracy: 0.9983 - val_loss: 2.3788 - val_accuracy: 0.7586\n",
            "Epoch 23/50\n",
            "56/56 [==============================] - 17s 305ms/step - loss: 0.0177 - accuracy: 0.9983 - val_loss: 2.4010 - val_accuracy: 0.7507\n",
            "Epoch 24/50\n",
            "56/56 [==============================] - 17s 306ms/step - loss: 0.0181 - accuracy: 0.9983 - val_loss: 2.3083 - val_accuracy: 0.7533\n",
            "Epoch 25/50\n",
            "56/56 [==============================] - 17s 309ms/step - loss: 0.0199 - accuracy: 0.9983 - val_loss: 2.3905 - val_accuracy: 0.7507\n",
            "Epoch 26/50\n",
            "56/56 [==============================] - 17s 306ms/step - loss: 0.0071 - accuracy: 0.9989 - val_loss: 2.3315 - val_accuracy: 0.7533\n",
            "Epoch 27/50\n",
            "56/56 [==============================] - 17s 308ms/step - loss: 0.0193 - accuracy: 0.9983 - val_loss: 2.3825 - val_accuracy: 0.7560\n",
            "Epoch 28/50\n",
            "56/56 [==============================] - 17s 307ms/step - loss: 0.0173 - accuracy: 0.9983 - val_loss: 2.3886 - val_accuracy: 0.7507\n",
            "Epoch 29/50\n",
            "56/56 [==============================] - 17s 303ms/step - loss: 0.0090 - accuracy: 0.9989 - val_loss: 2.3252 - val_accuracy: 0.7586\n",
            "Epoch 30/50\n",
            "56/56 [==============================] - 17s 304ms/step - loss: 0.0194 - accuracy: 0.9983 - val_loss: 2.3459 - val_accuracy: 0.7533\n",
            "Epoch 31/50\n",
            "56/56 [==============================] - 17s 305ms/step - loss: 0.0183 - accuracy: 0.9983 - val_loss: 2.4318 - val_accuracy: 0.7480\n",
            "Epoch 32/50\n",
            "56/56 [==============================] - 17s 304ms/step - loss: 0.0247 - accuracy: 0.9977 - val_loss: 2.5052 - val_accuracy: 0.7454\n",
            "Epoch 33/50\n",
            "56/56 [==============================] - 17s 306ms/step - loss: 0.0193 - accuracy: 0.9983 - val_loss: 2.3381 - val_accuracy: 0.7560\n",
            "Epoch 34/50\n",
            "56/56 [==============================] - 17s 303ms/step - loss: 0.0236 - accuracy: 0.9977 - val_loss: 2.4008 - val_accuracy: 0.7560\n",
            "Epoch 35/50\n",
            "56/56 [==============================] - 17s 304ms/step - loss: 0.0103 - accuracy: 0.9989 - val_loss: 2.4049 - val_accuracy: 0.7480\n",
            "Epoch 36/50\n",
            "56/56 [==============================] - 17s 305ms/step - loss: 0.0185 - accuracy: 0.9983 - val_loss: 2.3508 - val_accuracy: 0.7613\n",
            "Epoch 37/50\n",
            "56/56 [==============================] - 17s 305ms/step - loss: 0.0126 - accuracy: 0.9989 - val_loss: 2.4448 - val_accuracy: 0.7560\n",
            "Epoch 38/50\n",
            "56/56 [==============================] - 17s 300ms/step - loss: 0.0239 - accuracy: 0.9977 - val_loss: 2.4477 - val_accuracy: 0.7560\n",
            "Epoch 39/50\n",
            "56/56 [==============================] - 17s 302ms/step - loss: 0.0242 - accuracy: 0.9977 - val_loss: 2.4682 - val_accuracy: 0.7560\n",
            "Epoch 40/50\n",
            "56/56 [==============================] - 17s 299ms/step - loss: 0.0083 - accuracy: 0.9989 - val_loss: 2.3727 - val_accuracy: 0.7560\n",
            "Epoch 41/50\n",
            "56/56 [==============================] - 17s 299ms/step - loss: 0.0205 - accuracy: 0.9983 - val_loss: 2.4767 - val_accuracy: 0.7401\n",
            "Epoch 42/50\n",
            "56/56 [==============================] - 17s 296ms/step - loss: 0.0138 - accuracy: 0.9989 - val_loss: 2.4057 - val_accuracy: 0.7586\n",
            "Epoch 43/50\n",
            "56/56 [==============================] - 17s 301ms/step - loss: 0.0106 - accuracy: 0.9989 - val_loss: 2.4082 - val_accuracy: 0.7454\n",
            "Epoch 44/50\n",
            "56/56 [==============================] - 17s 299ms/step - loss: 0.0139 - accuracy: 0.9989 - val_loss: 2.3880 - val_accuracy: 0.7586\n",
            "Epoch 45/50\n",
            "56/56 [==============================] - 17s 298ms/step - loss: 0.0145 - accuracy: 0.9983 - val_loss: 2.3815 - val_accuracy: 0.7507\n",
            "Epoch 46/50\n",
            "56/56 [==============================] - 17s 298ms/step - loss: 0.0244 - accuracy: 0.9977 - val_loss: 2.3971 - val_accuracy: 0.7480\n",
            "Epoch 47/50\n",
            "56/56 [==============================] - 17s 300ms/step - loss: 0.0144 - accuracy: 0.9989 - val_loss: 2.4827 - val_accuracy: 0.7560\n",
            "Epoch 48/50\n",
            "56/56 [==============================] - 17s 299ms/step - loss: 0.0244 - accuracy: 0.9977 - val_loss: 2.4383 - val_accuracy: 0.7533\n",
            "Epoch 49/50\n",
            "56/56 [==============================] - 17s 299ms/step - loss: 0.0139 - accuracy: 0.9983 - val_loss: 2.4422 - val_accuracy: 0.7427\n",
            "Epoch 50/50\n",
            "56/56 [==============================] - 17s 299ms/step - loss: 0.0142 - accuracy: 0.9989 - val_loss: 2.4050 - val_accuracy: 0.7560\n"
          ]
        }
      ]
    },
    {
      "cell_type": "code",
      "source": [
        "study_model(model, labels, test_generator, executionTime)"
      ],
      "metadata": {
        "colab": {
          "base_uri": "https://localhost:8080/"
        },
        "id": "pnFXPTN3kh_h",
        "outputId": "7b230d01-3f4b-4d1d-a3a2-c37fb935f45a"
      },
      "execution_count": null,
      "outputs": [
        {
          "output_type": "stream",
          "name": "stdout",
          "text": [
            "Durée d'entraînement : 893.78 secondes\n",
            "\n",
            "Performances sur le set de test : \n",
            "\n",
            "   accuracy  precision    recall  f1-score\n",
            "0  0.739583   0.742118  0.739583  0.733886\n"
          ]
        }
      ]
    },
    {
      "cell_type": "code",
      "source": [
        "plot_accuracy_loss(history)"
      ],
      "metadata": {
        "colab": {
          "base_uri": "https://localhost:8080/",
          "height": 350
        },
        "id": "hyagiyVvCUq3",
        "outputId": "d0d962ec-6422-47cb-f355-5c21437a68fe"
      },
      "execution_count": null,
      "outputs": [
        {
          "output_type": "display_data",
          "data": {
            "image/png": "[encoded data removed]",
            "text/plain": [
              "<Figure size 1080x360 with 2 Axes>"
            ]
          },
          "metadata": {
            "needs_background": "light"
          }
        }
      ]
    },
    {
      "cell_type": "markdown",
      "source": [
        "L'entraînement a duré 15min avec le GPU de Google Colab.\n",
        "\n",
        "L'accuracy obtenue sur le set de test est de presque 74%.\n",
        "\n",
        "On remarque nettement un **surapprentissage** à partir de la 10ème epoch environ. En effet, l'accuracy sur le train set atteint les 100% tandis que sur le set de validation celle-ci stagne à 75%.\n",
        "\n",
        "De même, en observant la validation loss, on remarque qu'elle remonte à partir de la 10ème epoch environ, ce qui démontre un surapprentissage."
      ],
      "metadata": {
        "id": "ATcyFn4eDKPf"
      }
    },
    {
      "cell_type": "markdown",
      "source": [
        "# Modèle 2 : modification de l'optimiseur"
      ],
      "metadata": {
        "id": "5QgGj0EwEraS"
      }
    },
    {
      "cell_type": "markdown",
      "source": [
        "un autre optimizer : Adam"
      ],
      "metadata": {
        "id": "KpwIBRgbEw9e"
      }
    },
    {
      "cell_type": "code",
      "source": [
        "#Création et compilation du modèle\n",
        "model2 = VGG16_Architecture(img_width, img_height, nClasses)\n",
        "model2.compile(loss='categorical_crossentropy', optimizer=keras.optimizers.Adam(learning_rate=2e-5), metrics=['accuracy'])"
      ],
      "metadata": {
        "id": "FcTW6zpnEwYa"
      },
      "execution_count": null,
      "outputs": []
    },
    {
      "cell_type": "code",
      "source": [
        "startTime=time.time()\n",
        "history = model2.fit(train_generator, epochs = epochs_nb, validation_data  = validation_generator)\n",
        "executionTime = (time.time() - startTime)"
      ],
      "metadata": {
        "id": "ps-7ZQw5Fld3",
        "colab": {
          "base_uri": "https://localhost:8080/"
        },
        "outputId": "c2a5532b-e667-453c-97da-198c81eb8839"
      },
      "execution_count": null,
      "outputs": [
        {
          "output_type": "stream",
          "name": "stdout",
          "text": [
            "Epoch 1/50\n",
            "56/56 [==============================] - 18s 307ms/step - loss: 5.1113 - accuracy: 0.4513 - val_loss: 3.1250 - val_accuracy: 0.6074\n",
            "Epoch 2/50\n",
            "56/56 [==============================] - 17s 297ms/step - loss: 0.6897 - accuracy: 0.8601 - val_loss: 2.5462 - val_accuracy: 0.6472\n",
            "Epoch 3/50\n",
            "56/56 [==============================] - 17s 298ms/step - loss: 0.1145 - accuracy: 0.9711 - val_loss: 2.4609 - val_accuracy: 0.6499\n",
            "Epoch 4/50\n",
            "56/56 [==============================] - 17s 298ms/step - loss: 0.0265 - accuracy: 0.9949 - val_loss: 2.4399 - val_accuracy: 0.6525\n",
            "Epoch 5/50\n",
            "56/56 [==============================] - 17s 297ms/step - loss: 0.0112 - accuracy: 0.9989 - val_loss: 2.4222 - val_accuracy: 0.6525\n",
            "Epoch 6/50\n",
            "56/56 [==============================] - 17s 295ms/step - loss: 0.0144 - accuracy: 0.9983 - val_loss: 2.4013 - val_accuracy: 0.6472\n",
            "Epoch 7/50\n",
            "56/56 [==============================] - 17s 301ms/step - loss: 0.0151 - accuracy: 0.9983 - val_loss: 2.4097 - val_accuracy: 0.6525\n",
            "Epoch 8/50\n",
            "56/56 [==============================] - 17s 295ms/step - loss: 0.0147 - accuracy: 0.9983 - val_loss: 2.3863 - val_accuracy: 0.6525\n",
            "Epoch 9/50\n",
            "56/56 [==============================] - 17s 297ms/step - loss: 0.0072 - accuracy: 0.9994 - val_loss: 2.3940 - val_accuracy: 0.6525\n",
            "Epoch 10/50\n",
            "56/56 [==============================] - 17s 297ms/step - loss: 0.0100 - accuracy: 0.9989 - val_loss: 2.3701 - val_accuracy: 0.6525\n",
            "Epoch 11/50\n",
            "56/56 [==============================] - 17s 297ms/step - loss: 0.0171 - accuracy: 0.9977 - val_loss: 2.3701 - val_accuracy: 0.6605\n",
            "Epoch 12/50\n",
            "56/56 [==============================] - 17s 297ms/step - loss: 0.0136 - accuracy: 0.9983 - val_loss: 2.3668 - val_accuracy: 0.6631\n",
            "Epoch 13/50\n",
            "56/56 [==============================] - 17s 300ms/step - loss: 0.0150 - accuracy: 0.9977 - val_loss: 2.3604 - val_accuracy: 0.6658\n",
            "Epoch 14/50\n",
            "56/56 [==============================] - 17s 299ms/step - loss: 0.0175 - accuracy: 0.9977 - val_loss: 2.3615 - val_accuracy: 0.6684\n",
            "Epoch 15/50\n",
            "56/56 [==============================] - 17s 301ms/step - loss: 0.0133 - accuracy: 0.9977 - val_loss: 2.3591 - val_accuracy: 0.6658\n",
            "Epoch 16/50\n",
            "56/56 [==============================] - 17s 303ms/step - loss: 0.0134 - accuracy: 0.9977 - val_loss: 2.3549 - val_accuracy: 0.6658\n",
            "Epoch 17/50\n",
            "56/56 [==============================] - 17s 293ms/step - loss: 0.0080 - accuracy: 0.9983 - val_loss: 2.3546 - val_accuracy: 0.6605\n",
            "Epoch 18/50\n",
            "56/56 [==============================] - 17s 294ms/step - loss: 0.0132 - accuracy: 0.9983 - val_loss: 2.3531 - val_accuracy: 0.6684\n",
            "Epoch 19/50\n",
            "56/56 [==============================] - 17s 295ms/step - loss: 0.0106 - accuracy: 0.9989 - val_loss: 2.3335 - val_accuracy: 0.6605\n",
            "Epoch 20/50\n",
            "56/56 [==============================] - 16s 292ms/step - loss: 0.0143 - accuracy: 0.9977 - val_loss: 2.3475 - val_accuracy: 0.6631\n",
            "Epoch 21/50\n",
            "56/56 [==============================] - 17s 294ms/step - loss: 0.0113 - accuracy: 0.9989 - val_loss: 2.3226 - val_accuracy: 0.6737\n",
            "Epoch 22/50\n",
            "56/56 [==============================] - 17s 293ms/step - loss: 0.0113 - accuracy: 0.9989 - val_loss: 2.3447 - val_accuracy: 0.6684\n",
            "Epoch 23/50\n",
            "56/56 [==============================] - 17s 298ms/step - loss: 0.0137 - accuracy: 0.9983 - val_loss: 2.3170 - val_accuracy: 0.6605\n",
            "Epoch 24/50\n",
            "56/56 [==============================] - 17s 299ms/step - loss: 0.0174 - accuracy: 0.9977 - val_loss: 2.3191 - val_accuracy: 0.6737\n",
            "Epoch 25/50\n",
            "56/56 [==============================] - 17s 297ms/step - loss: 0.0098 - accuracy: 0.9989 - val_loss: 2.3383 - val_accuracy: 0.6764\n",
            "Epoch 26/50\n",
            "56/56 [==============================] - 17s 296ms/step - loss: 0.0196 - accuracy: 0.9983 - val_loss: 2.3374 - val_accuracy: 0.6737\n",
            "Epoch 27/50\n",
            "56/56 [==============================] - 17s 295ms/step - loss: 0.0179 - accuracy: 0.9983 - val_loss: 2.3076 - val_accuracy: 0.6631\n",
            "Epoch 28/50\n",
            "56/56 [==============================] - 17s 294ms/step - loss: 0.0155 - accuracy: 0.9983 - val_loss: 2.3373 - val_accuracy: 0.6790\n",
            "Epoch 29/50\n",
            "56/56 [==============================] - 17s 295ms/step - loss: 0.0128 - accuracy: 0.9989 - val_loss: 2.3346 - val_accuracy: 0.6764\n",
            "Epoch 30/50\n",
            "56/56 [==============================] - 17s 299ms/step - loss: 0.0172 - accuracy: 0.9977 - val_loss: 2.3065 - val_accuracy: 0.6684\n",
            "Epoch 31/50\n",
            "56/56 [==============================] - 17s 299ms/step - loss: 0.0150 - accuracy: 0.9983 - val_loss: 2.3141 - val_accuracy: 0.6790\n",
            "Epoch 32/50\n",
            "56/56 [==============================] - 17s 296ms/step - loss: 0.0136 - accuracy: 0.9989 - val_loss: 2.2923 - val_accuracy: 0.6631\n",
            "Epoch 33/50\n",
            "56/56 [==============================] - 17s 296ms/step - loss: 0.0170 - accuracy: 0.9983 - val_loss: 2.3029 - val_accuracy: 0.6737\n",
            "Epoch 34/50\n",
            "56/56 [==============================] - 17s 294ms/step - loss: 0.0135 - accuracy: 0.9983 - val_loss: 2.3612 - val_accuracy: 0.6711\n",
            "Epoch 35/50\n",
            "56/56 [==============================] - 17s 294ms/step - loss: 0.0205 - accuracy: 0.9983 - val_loss: 2.2817 - val_accuracy: 0.6711\n",
            "Epoch 36/50\n",
            "56/56 [==============================] - 17s 295ms/step - loss: 0.0180 - accuracy: 0.9983 - val_loss: 2.3233 - val_accuracy: 0.6817\n",
            "Epoch 37/50\n",
            "56/56 [==============================] - 17s 294ms/step - loss: 0.0194 - accuracy: 0.9983 - val_loss: 2.2823 - val_accuracy: 0.6844\n",
            "Epoch 38/50\n",
            "56/56 [==============================] - 17s 294ms/step - loss: 0.0043 - accuracy: 0.9989 - val_loss: 2.3038 - val_accuracy: 0.6684\n",
            "Epoch 39/50\n",
            "56/56 [==============================] - 17s 296ms/step - loss: 0.0179 - accuracy: 0.9983 - val_loss: 2.3020 - val_accuracy: 0.6844\n",
            "Epoch 40/50\n",
            "56/56 [==============================] - 17s 302ms/step - loss: 0.0121 - accuracy: 0.9983 - val_loss: 2.2864 - val_accuracy: 0.6737\n",
            "Epoch 41/50\n",
            "56/56 [==============================] - 17s 299ms/step - loss: 0.0141 - accuracy: 0.9983 - val_loss: 2.2672 - val_accuracy: 0.6737\n",
            "Epoch 42/50\n",
            "56/56 [==============================] - 17s 297ms/step - loss: 0.0130 - accuracy: 0.9989 - val_loss: 2.3328 - val_accuracy: 0.6790\n",
            "Epoch 43/50\n",
            "56/56 [==============================] - 16s 296ms/step - loss: 0.0150 - accuracy: 0.9989 - val_loss: 2.2798 - val_accuracy: 0.6790\n",
            "Epoch 44/50\n",
            "56/56 [==============================] - 17s 295ms/step - loss: 0.0079 - accuracy: 0.9989 - val_loss: 2.3025 - val_accuracy: 0.6817\n",
            "Epoch 45/50\n",
            "56/56 [==============================] - 17s 294ms/step - loss: 0.0238 - accuracy: 0.9983 - val_loss: 2.2577 - val_accuracy: 0.6764\n",
            "Epoch 46/50\n",
            "56/56 [==============================] - 17s 294ms/step - loss: 0.0148 - accuracy: 0.9983 - val_loss: 2.2757 - val_accuracy: 0.6844\n",
            "Epoch 47/50\n",
            "56/56 [==============================] - 17s 296ms/step - loss: 0.0100 - accuracy: 0.9983 - val_loss: 2.2740 - val_accuracy: 0.6870\n",
            "Epoch 48/50\n",
            "56/56 [==============================] - 17s 296ms/step - loss: 0.0193 - accuracy: 0.9989 - val_loss: 2.2979 - val_accuracy: 0.6764\n",
            "Epoch 49/50\n",
            "56/56 [==============================] - 17s 295ms/step - loss: 0.0153 - accuracy: 0.9983 - val_loss: 2.2493 - val_accuracy: 0.6764\n",
            "Epoch 50/50\n",
            "56/56 [==============================] - 17s 297ms/step - loss: 0.0264 - accuracy: 0.9977 - val_loss: 2.2583 - val_accuracy: 0.6817\n"
          ]
        }
      ]
    },
    {
      "cell_type": "code",
      "source": [
        "study_model(model2, labels, test_generator, executionTime)"
      ],
      "metadata": {
        "colab": {
          "base_uri": "https://localhost:8080/"
        },
        "id": "j0s_Kk2YFpOr",
        "outputId": "405af50c-3095-4d63-d081-49a4eb0e3628"
      },
      "execution_count": null,
      "outputs": [
        {
          "output_type": "stream",
          "name": "stdout",
          "text": [
            "Durée d'entraînement : 849.12 secondes\n",
            "\n",
            "Performances sur le set de test : \n",
            "\n",
            "   accuracy  precision    recall  f1-score\n",
            "0  0.677083   0.676145  0.677083  0.675381\n"
          ]
        }
      ]
    },
    {
      "cell_type": "code",
      "source": [
        "plot_accuracy_loss(history)"
      ],
      "metadata": {
        "colab": {
          "base_uri": "https://localhost:8080/",
          "height": 350
        },
        "id": "vVTX7qrdH8AU",
        "outputId": "3758eb58-6970-423e-825a-57ad7fac5966"
      },
      "execution_count": null,
      "outputs": [
        {
          "output_type": "display_data",
          "data": {
            "image/png": "[encoded data removed]",
            "text/plain": [
              "<Figure size 1080x360 with 2 Axes>"
            ]
          },
          "metadata": {
            "needs_background": "light"
          }
        }
      ]
    },
    {
      "cell_type": "markdown",
      "source": [
        "Nous remarquons que changer l'optimiseur n'a pas résolu le problème du surapprentissage. \n",
        "\n",
        "Les résultats sont même moins bons qu'avec le modèle précédent (67,7% d'accuracy sur le test set)."
      ],
      "metadata": {
        "id": "_XgeR9f5H-rz"
      }
    },
    {
      "cell_type": "markdown",
      "source": [
        "# Modèle 3 : architecture moins profonde"
      ],
      "metadata": {
        "id": "pO1_h8D8IFkU"
      }
    },
    {
      "cell_type": "markdown",
      "source": [
        "En réduisant le nombre de neurones sur la couche entièrement connectée de notre modèle, nous pouvons diminuer le risque de surapprentissage car le modèle contiendra moins de paramètres."
      ],
      "metadata": {
        "id": "fk6A_mccvx6H"
      }
    },
    {
      "cell_type": "code",
      "source": [
        "def VGG16_Architecture_2(img_width, img_height, nClasses):\n",
        "  \n",
        "  model = VGG16(include_top = False, weights = 'imagenet', input_shape = (img_width, img_height, 3))\n",
        "  \n",
        "  #Partie convolutive : on garde les paramètres des couches de VGG16 entraîné sur imagenet\n",
        "  for layer in model.layers:\n",
        "    layer.trainable = False\n",
        "    lastLayer = model.output\n",
        "\n",
        "  x = Flatten()(lastLayer)\n",
        "\n",
        "  #Partie classification : on diminue le nombre de neurones afin de réduire les risques d'overfitting\n",
        "  x = Dense(128)(x)\n",
        "  x = Activation('relu')(x)\n",
        "  x = Dense(nClasses)(x)\n",
        "  x = Activation('softmax')(x)\n",
        "\n",
        "  model = Model(model.input, x)\n",
        "\n",
        "  return model"
      ],
      "metadata": {
        "id": "xDUajcqqIKE9"
      },
      "execution_count": null,
      "outputs": []
    },
    {
      "cell_type": "code",
      "source": [
        "model3 = VGG16_Architecture_2(img_width, img_height, nClasses)\n",
        "model3.compile(loss='categorical_crossentropy', optimizer=keras.optimizers.RMSprop(lr=2e-5), metrics=['accuracy'])"
      ],
      "metadata": {
        "colab": {
          "base_uri": "https://localhost:8080/"
        },
        "id": "FgRcJ_vBIZFk",
        "outputId": "aab43b28-8b80-48d9-a644-3629fcfc595d"
      },
      "execution_count": null,
      "outputs": [
        {
          "output_type": "stream",
          "name": "stderr",
          "text": [
            "/usr/local/lib/python3.7/dist-packages/keras/optimizer_v2/rmsprop.py:130: UserWarning: The `lr` argument is deprecated, use `learning_rate` instead.\n",
            "  super(RMSprop, self).__init__(name, **kwargs)\n"
          ]
        }
      ]
    },
    {
      "cell_type": "code",
      "source": [
        "startTime=time.time()\n",
        "history = model3.fit(train_generator, epochs = epochs_nb, validation_data  = validation_generator)\n",
        "executionTime = (time.time() - startTime)"
      ],
      "metadata": {
        "id": "-8mN41YYIzGA",
        "colab": {
          "base_uri": "https://localhost:8080/"
        },
        "outputId": "ef45c6f5-1efd-4b25-e031-2aa3be22aff9"
      },
      "execution_count": null,
      "outputs": [
        {
          "output_type": "stream",
          "name": "stdout",
          "text": [
            "Epoch 1/50\n",
            "56/56 [==============================] - 18s 308ms/step - loss: 5.1844 - accuracy: 0.4020 - val_loss: 3.3093 - val_accuracy: 0.5623\n",
            "Epoch 2/50\n",
            "56/56 [==============================] - 18s 313ms/step - loss: 1.2916 - accuracy: 0.7605 - val_loss: 2.6303 - val_accuracy: 0.6393\n",
            "Epoch 3/50\n",
            "56/56 [==============================] - 17s 299ms/step - loss: 0.3352 - accuracy: 0.9162 - val_loss: 2.4940 - val_accuracy: 0.6340\n",
            "Epoch 4/50\n",
            "56/56 [==============================] - 17s 294ms/step - loss: 0.0680 - accuracy: 0.9841 - val_loss: 2.3403 - val_accuracy: 0.6764\n",
            "Epoch 5/50\n",
            "56/56 [==============================] - 17s 297ms/step - loss: 0.0176 - accuracy: 0.9972 - val_loss: 2.2277 - val_accuracy: 0.6844\n",
            "Epoch 6/50\n",
            "56/56 [==============================] - 17s 295ms/step - loss: 0.0079 - accuracy: 0.9989 - val_loss: 2.2067 - val_accuracy: 0.7056\n",
            "Epoch 7/50\n",
            "56/56 [==============================] - 17s 296ms/step - loss: 0.0112 - accuracy: 0.9983 - val_loss: 2.1986 - val_accuracy: 0.7241\n",
            "Epoch 8/50\n",
            "56/56 [==============================] - 17s 300ms/step - loss: 0.0099 - accuracy: 0.9983 - val_loss: 2.2131 - val_accuracy: 0.7374\n",
            "Epoch 9/50\n",
            "56/56 [==============================] - 17s 299ms/step - loss: 0.0075 - accuracy: 0.9989 - val_loss: 2.1561 - val_accuracy: 0.7374\n",
            "Epoch 10/50\n",
            "56/56 [==============================] - 16s 292ms/step - loss: 0.0125 - accuracy: 0.9983 - val_loss: 2.2090 - val_accuracy: 0.7639\n",
            "Epoch 11/50\n",
            "56/56 [==============================] - 17s 298ms/step - loss: 0.0101 - accuracy: 0.9983 - val_loss: 2.1939 - val_accuracy: 0.7666\n",
            "Epoch 12/50\n",
            "56/56 [==============================] - 17s 294ms/step - loss: 0.0150 - accuracy: 0.9977 - val_loss: 2.1881 - val_accuracy: 0.7719\n",
            "Epoch 13/50\n",
            "56/56 [==============================] - 17s 298ms/step - loss: 0.0101 - accuracy: 0.9989 - val_loss: 2.2005 - val_accuracy: 0.7666\n",
            "Epoch 14/50\n",
            "56/56 [==============================] - 17s 296ms/step - loss: 0.0152 - accuracy: 0.9977 - val_loss: 2.2419 - val_accuracy: 0.7613\n",
            "Epoch 15/50\n",
            "56/56 [==============================] - 17s 297ms/step - loss: 0.0099 - accuracy: 0.9983 - val_loss: 2.2063 - val_accuracy: 0.7825\n",
            "Epoch 16/50\n",
            "56/56 [==============================] - 17s 296ms/step - loss: 0.0131 - accuracy: 0.9983 - val_loss: 2.2059 - val_accuracy: 0.7825\n",
            "Epoch 17/50\n",
            "56/56 [==============================] - 17s 305ms/step - loss: 0.0099 - accuracy: 0.9983 - val_loss: 2.2004 - val_accuracy: 0.7825\n",
            "Epoch 18/50\n",
            "56/56 [==============================] - 17s 300ms/step - loss: 0.0105 - accuracy: 0.9983 - val_loss: 2.2169 - val_accuracy: 0.7772\n",
            "Epoch 19/50\n",
            "56/56 [==============================] - 17s 297ms/step - loss: 0.0112 - accuracy: 0.9983 - val_loss: 2.2376 - val_accuracy: 0.7772\n",
            "Epoch 20/50\n",
            "56/56 [==============================] - 17s 300ms/step - loss: 0.0072 - accuracy: 0.9989 - val_loss: 2.2278 - val_accuracy: 0.7798\n",
            "Epoch 21/50\n",
            "56/56 [==============================] - 17s 307ms/step - loss: 0.0082 - accuracy: 0.9989 - val_loss: 2.2713 - val_accuracy: 0.7745\n",
            "Epoch 22/50\n",
            "56/56 [==============================] - 18s 311ms/step - loss: 0.0074 - accuracy: 0.9989 - val_loss: 2.2283 - val_accuracy: 0.7825\n",
            "Epoch 23/50\n",
            "56/56 [==============================] - 17s 310ms/step - loss: 0.0157 - accuracy: 0.9977 - val_loss: 2.2293 - val_accuracy: 0.7772\n",
            "Epoch 24/50\n",
            "56/56 [==============================] - 17s 304ms/step - loss: 0.0112 - accuracy: 0.9983 - val_loss: 2.2486 - val_accuracy: 0.7825\n",
            "Epoch 25/50\n",
            "56/56 [==============================] - 17s 303ms/step - loss: 0.0115 - accuracy: 0.9983 - val_loss: 2.2625 - val_accuracy: 0.7745\n",
            "Epoch 26/50\n",
            "56/56 [==============================] - 17s 304ms/step - loss: 0.0120 - accuracy: 0.9983 - val_loss: 2.2471 - val_accuracy: 0.7772\n",
            "Epoch 27/50\n",
            "56/56 [==============================] - 17s 296ms/step - loss: 0.0114 - accuracy: 0.9983 - val_loss: 2.2592 - val_accuracy: 0.7692\n",
            "Epoch 28/50\n",
            "56/56 [==============================] - 17s 295ms/step - loss: 0.0141 - accuracy: 0.9983 - val_loss: 2.2601 - val_accuracy: 0.7666\n",
            "Epoch 29/50\n",
            "56/56 [==============================] - 17s 294ms/step - loss: 0.0157 - accuracy: 0.9977 - val_loss: 2.2663 - val_accuracy: 0.7745\n",
            "Epoch 30/50\n",
            "56/56 [==============================] - 17s 296ms/step - loss: 0.0158 - accuracy: 0.9983 - val_loss: 2.2624 - val_accuracy: 0.7719\n",
            "Epoch 31/50\n",
            "56/56 [==============================] - 17s 293ms/step - loss: 0.0088 - accuracy: 0.9983 - val_loss: 2.2650 - val_accuracy: 0.7719\n",
            "Epoch 32/50\n",
            "56/56 [==============================] - 17s 296ms/step - loss: 0.0081 - accuracy: 0.9989 - val_loss: 2.2807 - val_accuracy: 0.7586\n",
            "Epoch 33/50\n",
            "56/56 [==============================] - 17s 293ms/step - loss: 0.0082 - accuracy: 0.9989 - val_loss: 2.2734 - val_accuracy: 0.7666\n",
            "Epoch 34/50\n",
            "56/56 [==============================] - 17s 293ms/step - loss: 0.0146 - accuracy: 0.9977 - val_loss: 2.2834 - val_accuracy: 0.7639\n",
            "Epoch 35/50\n",
            "56/56 [==============================] - 17s 298ms/step - loss: 0.0113 - accuracy: 0.9983 - val_loss: 2.2995 - val_accuracy: 0.7613\n",
            "Epoch 36/50\n",
            "56/56 [==============================] - 17s 297ms/step - loss: 0.0066 - accuracy: 0.9989 - val_loss: 2.2989 - val_accuracy: 0.7639\n",
            "Epoch 37/50\n",
            "56/56 [==============================] - 17s 293ms/step - loss: 0.0107 - accuracy: 0.9983 - val_loss: 2.2998 - val_accuracy: 0.7639\n",
            "Epoch 38/50\n",
            "56/56 [==============================] - 17s 296ms/step - loss: 0.0100 - accuracy: 0.9983 - val_loss: 2.3121 - val_accuracy: 0.7586\n",
            "Epoch 39/50\n",
            "56/56 [==============================] - 17s 298ms/step - loss: 0.0102 - accuracy: 0.9983 - val_loss: 2.3157 - val_accuracy: 0.7507\n",
            "Epoch 40/50\n",
            "56/56 [==============================] - 17s 296ms/step - loss: 0.0117 - accuracy: 0.9983 - val_loss: 2.3123 - val_accuracy: 0.7613\n",
            "Epoch 41/50\n",
            "56/56 [==============================] - 17s 295ms/step - loss: 0.0106 - accuracy: 0.9983 - val_loss: 2.3211 - val_accuracy: 0.7586\n",
            "Epoch 42/50\n",
            "56/56 [==============================] - 17s 296ms/step - loss: 0.0144 - accuracy: 0.9977 - val_loss: 2.3188 - val_accuracy: 0.7639\n",
            "Epoch 43/50\n",
            "56/56 [==============================] - 17s 294ms/step - loss: 0.0106 - accuracy: 0.9983 - val_loss: 2.3381 - val_accuracy: 0.7613\n",
            "Epoch 44/50\n",
            "56/56 [==============================] - 17s 298ms/step - loss: 0.0103 - accuracy: 0.9989 - val_loss: 2.3323 - val_accuracy: 0.7613\n",
            "Epoch 45/50\n",
            "56/56 [==============================] - 17s 299ms/step - loss: 0.0113 - accuracy: 0.9983 - val_loss: 2.3339 - val_accuracy: 0.7639\n",
            "Epoch 46/50\n",
            "56/56 [==============================] - 17s 298ms/step - loss: 0.0144 - accuracy: 0.9977 - val_loss: 2.3395 - val_accuracy: 0.7639\n",
            "Epoch 47/50\n",
            "56/56 [==============================] - 17s 297ms/step - loss: 0.0139 - accuracy: 0.9977 - val_loss: 2.3474 - val_accuracy: 0.7666\n",
            "Epoch 48/50\n",
            "56/56 [==============================] - 17s 298ms/step - loss: 0.0149 - accuracy: 0.9977 - val_loss: 2.3472 - val_accuracy: 0.7666\n",
            "Epoch 49/50\n",
            "56/56 [==============================] - 17s 296ms/step - loss: 0.0150 - accuracy: 0.9983 - val_loss: 2.3487 - val_accuracy: 0.7666\n",
            "Epoch 50/50\n",
            "56/56 [==============================] - 17s 299ms/step - loss: 0.0091 - accuracy: 0.9989 - val_loss: 2.3610 - val_accuracy: 0.7613\n"
          ]
        }
      ]
    },
    {
      "cell_type": "code",
      "source": [
        "study_model(model3, labels, test_generator, executionTime)"
      ],
      "metadata": {
        "colab": {
          "base_uri": "https://localhost:8080/"
        },
        "id": "ZA2o6DGDJXt5",
        "outputId": "6558a080-5a86-4734-a69e-e36c97a0fa19"
      },
      "execution_count": null,
      "outputs": [
        {
          "output_type": "stream",
          "name": "stdout",
          "text": [
            "Durée d'entraînement : 847.09 secondes\n",
            "\n",
            "Performances sur le set de test : \n",
            "\n",
            "   accuracy  precision   recall  f1-score\n",
            "0   0.71875   0.720777  0.71875  0.718164\n"
          ]
        }
      ]
    },
    {
      "cell_type": "code",
      "source": [
        "plot_accuracy_loss(history)"
      ],
      "metadata": {
        "colab": {
          "base_uri": "https://localhost:8080/",
          "height": 350
        },
        "id": "nv4vlL39JcZQ",
        "outputId": "4110187d-4c01-40f5-afeb-e183992a8322"
      },
      "execution_count": null,
      "outputs": [
        {
          "output_type": "display_data",
          "data": {
            "image/png": "[encoded data removed]",
            "text/plain": [
              "<Figure size 1080x360 with 2 Axes>"
            ]
          },
          "metadata": {
            "needs_background": "light"
          }
        }
      ]
    },
    {
      "cell_type": "markdown",
      "source": [
        "Avec une architecture moins profonde, les performances semblent légèrement meilleures sur le set de validation mais elles sont moins bonnes sur le set de test. Le surapprentissage est toujours présent.\n",
        "\n",
        "Afin de palier ce problème, nous devons appliquer une **stratégie d'augmentation de données**. "
      ],
      "metadata": {
        "id": "lSBuVLEzJAdE"
      }
    },
    {
      "cell_type": "markdown",
      "source": [
        "# Modèle 4 : avec augmentation de données"
      ],
      "metadata": {
        "id": "fCUpA6SVxY1Y"
      }
    },
    {
      "cell_type": "markdown",
      "source": [
        "Les transformations que nous appliquons à l'image sont : décalage en largeur et hauteur, retournement horizontal et vertical, rotations, modification de luminosité et zoom. \n",
        "\n",
        "Ces transformations ont été testées préalablement sur les images du dataset (cf le notebook Data_Visualization.ipynb)."
      ],
      "metadata": {
        "id": "rI8n_-L2wFzQ"
      }
    },
    {
      "cell_type": "code",
      "source": [
        "train_datagen_da = ImageDataGenerator(preprocessing_function = preprocess_vgg16,\n",
        "                                      width_shift_range=0.2, \n",
        "                                      height_shift_range=0.2, \n",
        "                                      horizontal_flip=True, \n",
        "                                      vertical_flip=True,\n",
        "                                      rotation_range = 90,\n",
        "                                      brightness_range = [0.8, 1.2],\n",
        "                                      zoom_range = [0.8, 1],\n",
        "                                      fill_mode='nearest')\n",
        "\n",
        "train_generator = train_datagen_da.flow_from_directory(directory=r'./{}/train'.format(inputFolder),target_size=(img_width, img_height),color_mode='rgb',batch_size=batch_size,class_mode='categorical',shuffle=True,seed=42)"
      ],
      "metadata": {
        "colab": {
          "base_uri": "https://localhost:8080/"
        },
        "id": "ifbrDdmDxmVV",
        "outputId": "c7a33192-e0bd-4a4c-8aef-a08d1e1433b2"
      },
      "execution_count": null,
      "outputs": [
        {
          "output_type": "stream",
          "name": "stdout",
          "text": [
            "Found 1766 images belonging to 6 classes.\n"
          ]
        }
      ]
    },
    {
      "cell_type": "code",
      "source": [
        "model4 = VGG16_Architecture(img_width, img_height, nClasses)\n",
        "model4.compile(loss='categorical_crossentropy', optimizer=keras.optimizers.RMSprop(lr=2e-5), metrics=['accuracy'])"
      ],
      "metadata": {
        "colab": {
          "base_uri": "https://localhost:8080/"
        },
        "id": "nncT934cyGqA",
        "outputId": "3d544006-b8ea-41c2-d88a-49aeaedd217c"
      },
      "execution_count": null,
      "outputs": [
        {
          "output_type": "stream",
          "name": "stderr",
          "text": [
            "/usr/local/lib/python3.7/dist-packages/keras/optimizer_v2/rmsprop.py:130: UserWarning: The `lr` argument is deprecated, use `learning_rate` instead.\n",
            "  super(RMSprop, self).__init__(name, **kwargs)\n"
          ]
        }
      ]
    },
    {
      "cell_type": "code",
      "source": [
        "startTime=time.time()\n",
        "history = model4.fit(train_generator, epochs = epochs_nb, validation_data  = validation_generator)\n",
        "executionTime = (time.time() - startTime)"
      ],
      "metadata": {
        "colab": {
          "base_uri": "https://localhost:8080/"
        },
        "id": "y4n0ZGoKPooH",
        "outputId": "cb8f1e2b-4503-42a0-d19e-673bf423f192"
      },
      "execution_count": null,
      "outputs": [
        {
          "output_type": "stream",
          "name": "stdout",
          "text": [
            "Epoch 1/50\n",
            "56/56 [==============================] - 63s 900ms/step - loss: 4.9624 - accuracy: 0.4202 - val_loss: 3.4633 - val_accuracy: 0.5146\n",
            "Epoch 2/50\n",
            "56/56 [==============================] - 40s 717ms/step - loss: 3.0610 - accuracy: 0.5396 - val_loss: 3.0159 - val_accuracy: 0.5544\n",
            "Epoch 3/50\n",
            "56/56 [==============================] - 40s 718ms/step - loss: 2.4416 - accuracy: 0.6149 - val_loss: 2.1619 - val_accuracy: 0.6340\n",
            "Epoch 4/50\n",
            "56/56 [==============================] - 40s 715ms/step - loss: 2.1188 - accuracy: 0.6472 - val_loss: 1.8088 - val_accuracy: 0.6844\n",
            "Epoch 5/50\n",
            "56/56 [==============================] - 40s 713ms/step - loss: 1.5761 - accuracy: 0.6925 - val_loss: 1.6510 - val_accuracy: 0.7029\n",
            "Epoch 6/50\n",
            "56/56 [==============================] - 41s 729ms/step - loss: 1.6960 - accuracy: 0.6920 - val_loss: 1.5627 - val_accuracy: 0.7294\n",
            "Epoch 7/50\n",
            "56/56 [==============================] - 41s 722ms/step - loss: 1.4799 - accuracy: 0.7163 - val_loss: 1.3936 - val_accuracy: 0.7480\n",
            "Epoch 8/50\n",
            "56/56 [==============================] - 41s 728ms/step - loss: 1.3662 - accuracy: 0.7095 - val_loss: 1.3102 - val_accuracy: 0.7480\n",
            "Epoch 9/50\n",
            "56/56 [==============================] - 41s 728ms/step - loss: 1.2702 - accuracy: 0.7378 - val_loss: 1.2934 - val_accuracy: 0.7427\n",
            "Epoch 10/50\n",
            "56/56 [==============================] - 41s 734ms/step - loss: 1.1356 - accuracy: 0.7424 - val_loss: 1.2816 - val_accuracy: 0.7135\n",
            "Epoch 11/50\n",
            "56/56 [==============================] - 41s 726ms/step - loss: 1.0395 - accuracy: 0.7627 - val_loss: 1.1405 - val_accuracy: 0.7480\n",
            "Epoch 12/50\n",
            "56/56 [==============================] - 40s 720ms/step - loss: 1.0553 - accuracy: 0.7605 - val_loss: 1.0790 - val_accuracy: 0.7560\n",
            "Epoch 13/50\n",
            "56/56 [==============================] - 41s 722ms/step - loss: 0.9254 - accuracy: 0.7752 - val_loss: 1.0434 - val_accuracy: 0.7586\n",
            "Epoch 14/50\n",
            "56/56 [==============================] - 41s 725ms/step - loss: 0.8950 - accuracy: 0.7905 - val_loss: 1.0047 - val_accuracy: 0.7639\n",
            "Epoch 15/50\n",
            "56/56 [==============================] - 41s 724ms/step - loss: 0.9197 - accuracy: 0.7826 - val_loss: 0.9420 - val_accuracy: 0.7851\n",
            "Epoch 16/50\n",
            "56/56 [==============================] - 40s 718ms/step - loss: 0.8332 - accuracy: 0.7905 - val_loss: 0.9490 - val_accuracy: 0.7692\n",
            "Epoch 17/50\n",
            "56/56 [==============================] - 40s 714ms/step - loss: 0.7516 - accuracy: 0.7882 - val_loss: 0.9452 - val_accuracy: 0.7825\n",
            "Epoch 18/50\n",
            "56/56 [==============================] - 40s 712ms/step - loss: 0.7529 - accuracy: 0.8007 - val_loss: 1.0025 - val_accuracy: 0.7798\n",
            "Epoch 19/50\n",
            "56/56 [==============================] - 40s 711ms/step - loss: 0.7354 - accuracy: 0.8177 - val_loss: 0.9136 - val_accuracy: 0.7613\n",
            "Epoch 20/50\n",
            "56/56 [==============================] - 40s 712ms/step - loss: 0.7463 - accuracy: 0.8029 - val_loss: 0.8546 - val_accuracy: 0.7878\n",
            "Epoch 21/50\n",
            "56/56 [==============================] - 40s 711ms/step - loss: 0.6913 - accuracy: 0.8222 - val_loss: 0.8067 - val_accuracy: 0.7905\n",
            "Epoch 22/50\n",
            "56/56 [==============================] - 40s 714ms/step - loss: 0.7562 - accuracy: 0.8143 - val_loss: 0.7580 - val_accuracy: 0.8143\n",
            "Epoch 23/50\n",
            "56/56 [==============================] - 40s 714ms/step - loss: 0.6530 - accuracy: 0.8392 - val_loss: 0.8163 - val_accuracy: 0.8090\n",
            "Epoch 24/50\n",
            "56/56 [==============================] - 40s 712ms/step - loss: 0.5942 - accuracy: 0.8375 - val_loss: 0.8148 - val_accuracy: 0.8064\n",
            "Epoch 25/50\n",
            "56/56 [==============================] - 40s 711ms/step - loss: 0.6524 - accuracy: 0.8426 - val_loss: 0.7568 - val_accuracy: 0.8064\n",
            "Epoch 26/50\n",
            "56/56 [==============================] - 40s 712ms/step - loss: 0.6381 - accuracy: 0.8205 - val_loss: 0.7628 - val_accuracy: 0.8064\n",
            "Epoch 27/50\n",
            "56/56 [==============================] - 40s 710ms/step - loss: 0.5930 - accuracy: 0.8448 - val_loss: 0.7750 - val_accuracy: 0.8037\n",
            "Epoch 28/50\n",
            "56/56 [==============================] - 40s 705ms/step - loss: 0.5798 - accuracy: 0.8465 - val_loss: 0.7694 - val_accuracy: 0.8223\n",
            "Epoch 29/50\n",
            "56/56 [==============================] - 40s 703ms/step - loss: 0.5659 - accuracy: 0.8477 - val_loss: 0.7496 - val_accuracy: 0.8143\n",
            "Epoch 30/50\n",
            "56/56 [==============================] - 40s 711ms/step - loss: 0.5497 - accuracy: 0.8477 - val_loss: 0.7830 - val_accuracy: 0.8223\n",
            "Epoch 31/50\n",
            "56/56 [==============================] - 40s 711ms/step - loss: 0.5343 - accuracy: 0.8482 - val_loss: 0.7579 - val_accuracy: 0.8170\n",
            "Epoch 32/50\n",
            "56/56 [==============================] - 41s 730ms/step - loss: 0.5319 - accuracy: 0.8528 - val_loss: 0.7034 - val_accuracy: 0.8223\n",
            "Epoch 33/50\n",
            "56/56 [==============================] - 41s 724ms/step - loss: 0.4813 - accuracy: 0.8601 - val_loss: 0.7148 - val_accuracy: 0.8302\n",
            "Epoch 34/50\n",
            "56/56 [==============================] - 40s 714ms/step - loss: 0.5004 - accuracy: 0.8522 - val_loss: 0.6859 - val_accuracy: 0.8355\n",
            "Epoch 35/50\n",
            "56/56 [==============================] - 40s 710ms/step - loss: 0.5313 - accuracy: 0.8647 - val_loss: 0.6866 - val_accuracy: 0.8355\n",
            "Epoch 36/50\n",
            "56/56 [==============================] - 40s 712ms/step - loss: 0.4709 - accuracy: 0.8601 - val_loss: 0.6782 - val_accuracy: 0.8462\n",
            "Epoch 37/50\n",
            "56/56 [==============================] - 40s 714ms/step - loss: 0.4409 - accuracy: 0.8834 - val_loss: 0.7003 - val_accuracy: 0.8329\n",
            "Epoch 38/50\n",
            "56/56 [==============================] - 40s 712ms/step - loss: 0.4129 - accuracy: 0.8817 - val_loss: 0.6846 - val_accuracy: 0.8329\n",
            "Epoch 39/50\n",
            "56/56 [==============================] - 40s 710ms/step - loss: 0.4662 - accuracy: 0.8766 - val_loss: 0.6472 - val_accuracy: 0.8488\n",
            "Epoch 40/50\n",
            "56/56 [==============================] - 40s 703ms/step - loss: 0.4980 - accuracy: 0.8647 - val_loss: 0.6192 - val_accuracy: 0.8515\n",
            "Epoch 41/50\n",
            "56/56 [==============================] - 40s 721ms/step - loss: 0.4970 - accuracy: 0.8669 - val_loss: 0.6081 - val_accuracy: 0.8515\n",
            "Epoch 42/50\n",
            "56/56 [==============================] - 40s 720ms/step - loss: 0.4582 - accuracy: 0.8692 - val_loss: 0.6525 - val_accuracy: 0.8435\n",
            "Epoch 43/50\n",
            "56/56 [==============================] - 39s 702ms/step - loss: 0.4509 - accuracy: 0.8788 - val_loss: 0.6309 - val_accuracy: 0.8462\n",
            "Epoch 44/50\n",
            "56/56 [==============================] - 39s 702ms/step - loss: 0.4298 - accuracy: 0.8862 - val_loss: 0.6758 - val_accuracy: 0.8355\n",
            "Epoch 45/50\n",
            "56/56 [==============================] - 40s 704ms/step - loss: 0.3868 - accuracy: 0.8851 - val_loss: 0.6886 - val_accuracy: 0.8302\n",
            "Epoch 46/50\n",
            "56/56 [==============================] - 40s 705ms/step - loss: 0.4169 - accuracy: 0.8805 - val_loss: 0.6579 - val_accuracy: 0.8435\n",
            "Epoch 47/50\n",
            "56/56 [==============================] - 40s 720ms/step - loss: 0.3860 - accuracy: 0.8918 - val_loss: 0.6373 - val_accuracy: 0.8541\n",
            "Epoch 48/50\n",
            "56/56 [==============================] - 40s 713ms/step - loss: 0.3814 - accuracy: 0.8981 - val_loss: 0.6107 - val_accuracy: 0.8541\n",
            "Epoch 49/50\n",
            "56/56 [==============================] - 40s 711ms/step - loss: 0.4050 - accuracy: 0.8867 - val_loss: 0.6507 - val_accuracy: 0.8435\n",
            "Epoch 50/50\n",
            "56/56 [==============================] - 40s 712ms/step - loss: 0.4084 - accuracy: 0.8805 - val_loss: 0.5666 - val_accuracy: 0.8541\n"
          ]
        }
      ]
    },
    {
      "cell_type": "code",
      "source": [
        "study_model(model4, labels, test_generator, executionTime)"
      ],
      "metadata": {
        "colab": {
          "base_uri": "https://localhost:8080/"
        },
        "id": "AhMeNpfFS1VG",
        "outputId": "1fc00a4c-1a66-41c8-e3eb-2ae0419b388a"
      },
      "execution_count": null,
      "outputs": [
        {
          "output_type": "stream",
          "name": "stdout",
          "text": [
            "Durée d'entraînement : 2034.08 secondes\n",
            "\n",
            "Performances sur le set de test : \n",
            "\n",
            "   accuracy  precision    recall  f1-score\n",
            "0  0.815104   0.816222  0.815104   0.81392\n"
          ]
        }
      ]
    },
    {
      "cell_type": "code",
      "source": [
        "plot_accuracy_loss(history)"
      ],
      "metadata": {
        "colab": {
          "base_uri": "https://localhost:8080/",
          "height": 350
        },
        "id": "pmWbfWYaS4no",
        "outputId": "b153f4d2-519a-44e1-c73e-f6ebb78e3ec7"
      },
      "execution_count": null,
      "outputs": [
        {
          "output_type": "display_data",
          "data": {
            "image/png": "[encoded data removed]",
            "text/plain": [
              "<Figure size 1080x360 with 2 Axes>"
            ]
          },
          "metadata": {
            "needs_background": "light"
          }
        }
      ]
    },
    {
      "cell_type": "markdown",
      "source": [
        "**Temps d'exécution plus long**\n",
        "\n",
        "L'entraînement a duré deux fois plus de temps que sur les autres modèles : dû au fait qu'il y a + d'images dans le set d'entraînement.\n",
        "\n",
        "**Disparition du surapprentissage**\n",
        "\n",
        "On remarque que l'overfitting a totalement disparu : les deux courbes d'accuracy entre le train et le validation set sont très proches l'une de l'autre. D'autre part, la loss est toujours en train de diminuer à la fin de la 50ème epoch.\n",
        "\n",
        "**Meilleures performances**\n",
        "\n",
        "Les performances sur le test set sont meilleures : l'accuracy est montée à plus de 81%.\n",
        "\n",
        "**Absence de convergence**\n",
        "\n",
        "Le modèle n'a pas totalement convergé : en effet l'accuracy monte encore lorsque l'on stoppe l'entraînement. Il faudrait entraîner ce modèle sur encore plus d'epochs."
      ],
      "metadata": {
        "id": "tLIG_U9Yc3nq"
      }
    },
    {
      "cell_type": "markdown",
      "source": [
        "# Modèle 5 : entraînement sur plus d'epochs"
      ],
      "metadata": {
        "id": "X6AbAwmlUIYM"
      }
    },
    {
      "cell_type": "markdown",
      "source": [
        "Cette fois-ci, le modèle est entraîné sur **80 epochs**.\n",
        "\n",
        "On ajoute un **early stopping** afin de stopper l'entraînement lorsque la validation loss remonte. Si la validation loss cesse de diminuer sur plus de 10 epochs successives (*patience*=10), l'entraînement est stoppé."
      ],
      "metadata": {
        "id": "N7Wt6dFdwfzB"
      }
    },
    {
      "cell_type": "code",
      "source": [
        "model5 = VGG16_Architecture(img_width, img_height, nClasses)\n",
        "model5.compile(loss='categorical_crossentropy', optimizer=keras.optimizers.RMSprop(lr=2e-5), metrics=['accuracy'])\n",
        "es = EarlyStopping(monitor='val_loss', mode='min', verbose=1, patience=10)\n",
        "cb_list=[es]\n",
        "epochs_nb = 80"
      ],
      "metadata": {
        "colab": {
          "base_uri": "https://localhost:8080/"
        },
        "id": "TMKltOBagQmo",
        "outputId": "eed4216e-f19c-4da3-bf47-e47d6b8b2612"
      },
      "execution_count": null,
      "outputs": [
        {
          "output_type": "stream",
          "name": "stderr",
          "text": [
            "/usr/local/lib/python3.7/dist-packages/keras/optimizer_v2/rmsprop.py:130: UserWarning: The `lr` argument is deprecated, use `learning_rate` instead.\n",
            "  super(RMSprop, self).__init__(name, **kwargs)\n"
          ]
        }
      ]
    },
    {
      "cell_type": "code",
      "source": [
        "startTime=time.time()\n",
        "history = model5.fit(train_generator, epochs = epochs_nb, validation_data  = validation_generator, callbacks=cb_list)\n",
        "executionTime = (time.time() - startTime)"
      ],
      "metadata": {
        "colab": {
          "base_uri": "https://localhost:8080/"
        },
        "id": "MfjseRyUgZRj",
        "outputId": "df75a9a3-c571-4c6c-c4a9-53f3aad728bf"
      },
      "execution_count": null,
      "outputs": [
        {
          "output_type": "stream",
          "name": "stdout",
          "text": [
            "Epoch 1/80\n",
            "56/56 [==============================] - 43s 744ms/step - loss: 5.0062 - accuracy: 0.4043 - val_loss: 3.7230 - val_accuracy: 0.5066\n",
            "Epoch 2/80\n",
            "56/56 [==============================] - 41s 723ms/step - loss: 3.1599 - accuracy: 0.5340 - val_loss: 2.6859 - val_accuracy: 0.6313\n",
            "Epoch 3/80\n",
            "56/56 [==============================] - 40s 714ms/step - loss: 2.3679 - accuracy: 0.6376 - val_loss: 2.2144 - val_accuracy: 0.6605\n",
            "Epoch 4/80\n",
            "56/56 [==============================] - 40s 709ms/step - loss: 2.0361 - accuracy: 0.6574 - val_loss: 2.0223 - val_accuracy: 0.6923\n",
            "Epoch 5/80\n",
            "56/56 [==============================] - 40s 706ms/step - loss: 1.8937 - accuracy: 0.6829 - val_loss: 1.8549 - val_accuracy: 0.7109\n",
            "Epoch 6/80\n",
            "56/56 [==============================] - 40s 707ms/step - loss: 1.5812 - accuracy: 0.7050 - val_loss: 1.8242 - val_accuracy: 0.7109\n",
            "Epoch 7/80\n",
            "56/56 [==============================] - 39s 699ms/step - loss: 1.4609 - accuracy: 0.7180 - val_loss: 1.5056 - val_accuracy: 0.7374\n",
            "Epoch 8/80\n",
            "56/56 [==============================] - 39s 701ms/step - loss: 1.3199 - accuracy: 0.7475 - val_loss: 1.5085 - val_accuracy: 0.7321\n",
            "Epoch 9/80\n",
            "56/56 [==============================] - 39s 700ms/step - loss: 1.2304 - accuracy: 0.7429 - val_loss: 1.4411 - val_accuracy: 0.7401\n",
            "Epoch 10/80\n",
            "56/56 [==============================] - 39s 701ms/step - loss: 1.1511 - accuracy: 0.7571 - val_loss: 1.3057 - val_accuracy: 0.7745\n",
            "Epoch 11/80\n",
            "56/56 [==============================] - 39s 700ms/step - loss: 1.1987 - accuracy: 0.7492 - val_loss: 1.1920 - val_accuracy: 0.7745\n",
            "Epoch 12/80\n",
            "56/56 [==============================] - 39s 699ms/step - loss: 0.9842 - accuracy: 0.7633 - val_loss: 1.0827 - val_accuracy: 0.7772\n",
            "Epoch 13/80\n",
            "56/56 [==============================] - 39s 701ms/step - loss: 1.0071 - accuracy: 0.7741 - val_loss: 1.0813 - val_accuracy: 0.7798\n",
            "Epoch 14/80\n",
            "56/56 [==============================] - 40s 704ms/step - loss: 0.9158 - accuracy: 0.7831 - val_loss: 1.0648 - val_accuracy: 0.7825\n",
            "Epoch 15/80\n",
            "56/56 [==============================] - 39s 702ms/step - loss: 0.9749 - accuracy: 0.7820 - val_loss: 0.9888 - val_accuracy: 0.7905\n",
            "Epoch 16/80\n",
            "56/56 [==============================] - 39s 703ms/step - loss: 0.8265 - accuracy: 0.7939 - val_loss: 1.0443 - val_accuracy: 0.7692\n",
            "Epoch 17/80\n",
            "56/56 [==============================] - 40s 708ms/step - loss: 0.8040 - accuracy: 0.7967 - val_loss: 1.0365 - val_accuracy: 0.7745\n",
            "Epoch 18/80\n",
            "56/56 [==============================] - 40s 708ms/step - loss: 0.8514 - accuracy: 0.7984 - val_loss: 1.0012 - val_accuracy: 0.7851\n",
            "Epoch 19/80\n",
            "56/56 [==============================] - 40s 704ms/step - loss: 0.7226 - accuracy: 0.8143 - val_loss: 0.9446 - val_accuracy: 0.7958\n",
            "Epoch 20/80\n",
            "56/56 [==============================] - 39s 700ms/step - loss: 0.6908 - accuracy: 0.8284 - val_loss: 0.9250 - val_accuracy: 0.7878\n",
            "Epoch 21/80\n",
            "56/56 [==============================] - 39s 702ms/step - loss: 0.7766 - accuracy: 0.8205 - val_loss: 0.9134 - val_accuracy: 0.7984\n",
            "Epoch 22/80\n",
            "56/56 [==============================] - 39s 695ms/step - loss: 0.7060 - accuracy: 0.8165 - val_loss: 0.8693 - val_accuracy: 0.8037\n",
            "Epoch 23/80\n",
            "56/56 [==============================] - 39s 697ms/step - loss: 0.6180 - accuracy: 0.8318 - val_loss: 0.8616 - val_accuracy: 0.8090\n",
            "Epoch 24/80\n",
            "56/56 [==============================] - 39s 695ms/step - loss: 0.6480 - accuracy: 0.8318 - val_loss: 0.9456 - val_accuracy: 0.7878\n",
            "Epoch 25/80\n",
            "56/56 [==============================] - 39s 695ms/step - loss: 0.5843 - accuracy: 0.8443 - val_loss: 0.8786 - val_accuracy: 0.8037\n",
            "Epoch 26/80\n",
            "56/56 [==============================] - 39s 697ms/step - loss: 0.5996 - accuracy: 0.8516 - val_loss: 0.9315 - val_accuracy: 0.7905\n",
            "Epoch 27/80\n",
            "56/56 [==============================] - 39s 699ms/step - loss: 0.5805 - accuracy: 0.8488 - val_loss: 0.8709 - val_accuracy: 0.8011\n",
            "Epoch 28/80\n",
            "56/56 [==============================] - 39s 697ms/step - loss: 0.5249 - accuracy: 0.8556 - val_loss: 0.8408 - val_accuracy: 0.8090\n",
            "Epoch 29/80\n",
            "56/56 [==============================] - 39s 696ms/step - loss: 0.5455 - accuracy: 0.8488 - val_loss: 0.8319 - val_accuracy: 0.8090\n",
            "Epoch 30/80\n",
            "56/56 [==============================] - 39s 696ms/step - loss: 0.5573 - accuracy: 0.8516 - val_loss: 0.8668 - val_accuracy: 0.8196\n",
            "Epoch 31/80\n",
            "56/56 [==============================] - 39s 698ms/step - loss: 0.5583 - accuracy: 0.8505 - val_loss: 0.8302 - val_accuracy: 0.8249\n",
            "Epoch 32/80\n",
            "56/56 [==============================] - 39s 699ms/step - loss: 0.5208 - accuracy: 0.8567 - val_loss: 0.8973 - val_accuracy: 0.8117\n",
            "Epoch 33/80\n",
            "56/56 [==============================] - 39s 697ms/step - loss: 0.5366 - accuracy: 0.8505 - val_loss: 0.8775 - val_accuracy: 0.8064\n",
            "Epoch 34/80\n",
            "56/56 [==============================] - 39s 702ms/step - loss: 0.5400 - accuracy: 0.8647 - val_loss: 0.8182 - val_accuracy: 0.8143\n",
            "Epoch 35/80\n",
            "56/56 [==============================] - 39s 701ms/step - loss: 0.4663 - accuracy: 0.8760 - val_loss: 0.8123 - val_accuracy: 0.8223\n",
            "Epoch 36/80\n",
            "56/56 [==============================] - 39s 699ms/step - loss: 0.4915 - accuracy: 0.8596 - val_loss: 0.8831 - val_accuracy: 0.8117\n",
            "Epoch 37/80\n",
            "56/56 [==============================] - 39s 700ms/step - loss: 0.4506 - accuracy: 0.8805 - val_loss: 0.7752 - val_accuracy: 0.8382\n",
            "Epoch 38/80\n",
            "56/56 [==============================] - 39s 699ms/step - loss: 0.4887 - accuracy: 0.8715 - val_loss: 0.7748 - val_accuracy: 0.8462\n",
            "Epoch 39/80\n",
            "56/56 [==============================] - 39s 697ms/step - loss: 0.5055 - accuracy: 0.8715 - val_loss: 0.7939 - val_accuracy: 0.8302\n",
            "Epoch 40/80\n",
            "56/56 [==============================] - 39s 693ms/step - loss: 0.4548 - accuracy: 0.8743 - val_loss: 0.8026 - val_accuracy: 0.8329\n",
            "Epoch 41/80\n",
            "56/56 [==============================] - 39s 698ms/step - loss: 0.4538 - accuracy: 0.8817 - val_loss: 0.8346 - val_accuracy: 0.8382\n",
            "Epoch 42/80\n",
            "56/56 [==============================] - 39s 697ms/step - loss: 0.4462 - accuracy: 0.8777 - val_loss: 0.7339 - val_accuracy: 0.8488\n",
            "Epoch 43/80\n",
            "56/56 [==============================] - 39s 694ms/step - loss: 0.4619 - accuracy: 0.8754 - val_loss: 0.7614 - val_accuracy: 0.8382\n",
            "Epoch 44/80\n",
            "56/56 [==============================] - 39s 695ms/step - loss: 0.5023 - accuracy: 0.8749 - val_loss: 0.7468 - val_accuracy: 0.8355\n",
            "Epoch 45/80\n",
            "56/56 [==============================] - 39s 694ms/step - loss: 0.4273 - accuracy: 0.8884 - val_loss: 0.7722 - val_accuracy: 0.8170\n",
            "Epoch 46/80\n",
            "56/56 [==============================] - 41s 723ms/step - loss: 0.4127 - accuracy: 0.8890 - val_loss: 0.7553 - val_accuracy: 0.8355\n",
            "Epoch 47/80\n",
            "56/56 [==============================] - 42s 741ms/step - loss: 0.3816 - accuracy: 0.8958 - val_loss: 0.7853 - val_accuracy: 0.8382\n",
            "Epoch 48/80\n",
            "56/56 [==============================] - 40s 715ms/step - loss: 0.4214 - accuracy: 0.8828 - val_loss: 0.8350 - val_accuracy: 0.8143\n",
            "Epoch 49/80\n",
            "56/56 [==============================] - 40s 716ms/step - loss: 0.3484 - accuracy: 0.8930 - val_loss: 0.8086 - val_accuracy: 0.8302\n",
            "Epoch 50/80\n",
            "56/56 [==============================] - 40s 716ms/step - loss: 0.3896 - accuracy: 0.8913 - val_loss: 0.7557 - val_accuracy: 0.8382\n",
            "Epoch 51/80\n",
            "56/56 [==============================] - 41s 735ms/step - loss: 0.3703 - accuracy: 0.9066 - val_loss: 0.7107 - val_accuracy: 0.8408\n",
            "Epoch 52/80\n",
            "56/56 [==============================] - 40s 718ms/step - loss: 0.3751 - accuracy: 0.9043 - val_loss: 0.6928 - val_accuracy: 0.8355\n",
            "Epoch 53/80\n",
            "56/56 [==============================] - 40s 715ms/step - loss: 0.4305 - accuracy: 0.8834 - val_loss: 0.7323 - val_accuracy: 0.8488\n",
            "Epoch 54/80\n",
            "56/56 [==============================] - 40s 720ms/step - loss: 0.4004 - accuracy: 0.8930 - val_loss: 0.7377 - val_accuracy: 0.8408\n",
            "Epoch 55/80\n",
            "56/56 [==============================] - 40s 716ms/step - loss: 0.4007 - accuracy: 0.8952 - val_loss: 0.7185 - val_accuracy: 0.8276\n",
            "Epoch 56/80\n",
            "56/56 [==============================] - 40s 709ms/step - loss: 0.3513 - accuracy: 0.9043 - val_loss: 0.7383 - val_accuracy: 0.8355\n",
            "Epoch 57/80\n",
            "56/56 [==============================] - 41s 721ms/step - loss: 0.3257 - accuracy: 0.9117 - val_loss: 0.6859 - val_accuracy: 0.8329\n",
            "Epoch 58/80\n",
            "56/56 [==============================] - 41s 726ms/step - loss: 0.3622 - accuracy: 0.8964 - val_loss: 0.7004 - val_accuracy: 0.8329\n",
            "Epoch 59/80\n",
            "56/56 [==============================] - 40s 721ms/step - loss: 0.3225 - accuracy: 0.9054 - val_loss: 0.7037 - val_accuracy: 0.8329\n",
            "Epoch 60/80\n",
            "56/56 [==============================] - 40s 724ms/step - loss: 0.3025 - accuracy: 0.9139 - val_loss: 0.7228 - val_accuracy: 0.8541\n",
            "Epoch 61/80\n",
            "56/56 [==============================] - 40s 718ms/step - loss: 0.2926 - accuracy: 0.9179 - val_loss: 0.7014 - val_accuracy: 0.8541\n",
            "Epoch 62/80\n",
            "56/56 [==============================] - 40s 706ms/step - loss: 0.3311 - accuracy: 0.9173 - val_loss: 0.6961 - val_accuracy: 0.8488\n",
            "Epoch 63/80\n",
            "56/56 [==============================] - 39s 702ms/step - loss: 0.3330 - accuracy: 0.9083 - val_loss: 0.8209 - val_accuracy: 0.8329\n",
            "Epoch 64/80\n",
            "56/56 [==============================] - 40s 706ms/step - loss: 0.3345 - accuracy: 0.9060 - val_loss: 0.7511 - val_accuracy: 0.8408\n",
            "Epoch 65/80\n",
            "56/56 [==============================] - 40s 712ms/step - loss: 0.3145 - accuracy: 0.9111 - val_loss: 0.7965 - val_accuracy: 0.8329\n",
            "Epoch 66/80\n",
            "56/56 [==============================] - 40s 710ms/step - loss: 0.3254 - accuracy: 0.9162 - val_loss: 0.7741 - val_accuracy: 0.8382\n",
            "Epoch 67/80\n",
            "56/56 [==============================] - 40s 707ms/step - loss: 0.3378 - accuracy: 0.9037 - val_loss: 0.7302 - val_accuracy: 0.8382\n",
            "Epoch 00067: early stopping\n"
          ]
        }
      ]
    },
    {
      "cell_type": "markdown",
      "source": [
        "Early stopping à l'Epoch 67 : à partir de l'epoch 57, la validation loss a cessé de diminuer."
      ],
      "metadata": {
        "id": "q9zssEyFsjJB"
      }
    },
    {
      "cell_type": "code",
      "source": [
        "study_model(model5, labels, test_generator, executionTime)"
      ],
      "metadata": {
        "colab": {
          "base_uri": "https://localhost:8080/"
        },
        "id": "83WvkwxMsv5f",
        "outputId": "a4c97f02-3999-4bd9-f9b5-86b050e7862a"
      },
      "execution_count": null,
      "outputs": [
        {
          "output_type": "stream",
          "name": "stdout",
          "text": [
            "Durée d'entraînement : 2663.36 secondes\n",
            "\n",
            "Performances sur le set de test : \n",
            "\n",
            "   accuracy  precision    recall  f1-score\n",
            "0  0.830729   0.834743  0.830729  0.830348\n"
          ]
        }
      ]
    },
    {
      "cell_type": "code",
      "source": [
        "plot_accuracy_loss(history)"
      ],
      "metadata": {
        "colab": {
          "base_uri": "https://localhost:8080/",
          "height": 350
        },
        "id": "sx6t2bFHs4fb",
        "outputId": "c310eb72-cba4-4e69-eab1-a959af70b096"
      },
      "execution_count": null,
      "outputs": [
        {
          "output_type": "display_data",
          "data": {
            "image/png": "[encoded data removed]",
            "text/plain": [
              "<Figure size 1080x360 with 2 Axes>"
            ]
          },
          "metadata": {
            "needs_background": "light"
          }
        }
      ]
    },
    {
      "cell_type": "code",
      "source": [
        "modelname = \"vgg16_da_67\"\n",
        "model5.save(f'./Modeles/{modelname}.h5')"
      ],
      "metadata": {
        "id": "z_v-w94Qs87D"
      },
      "execution_count": null,
      "outputs": []
    },
    {
      "cell_type": "markdown",
      "source": [
        "**Conclusion :**\n",
        "\n",
        "En appliquant la méthode du Transfer Learning avec le modèle VGG16 sur notre dataset, ainsi qu'une stratégie d'augmentation de données, nous obtenons un modèle qui atteint les **83% d'accuracy** sur notre dataset de test."
      ],
      "metadata": {
        "id": "sUVM5-Q_xMuF"
      }
    }
  ]
}