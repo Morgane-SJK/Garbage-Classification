{
  "cells": [
    {
      "cell_type": "markdown",
      "metadata": {
        "id": "TpHBbUJs6tiF"
      },
      "source": [
        "# Transfer Learning avec divers modèles de classification pré-entraînés"
      ]
    },
    {
      "cell_type": "markdown",
      "metadata": {
        "id": "zyHcTs_Hkzn3"
      },
      "source": [
        "Dans ce Notebook, nous souhaitons comparer les performances de différents modèles avec la technique du Transfer Learning. Les modèles sont tous entraînés avec les mêmes hyper-paramètres et le même nombre d'epochs, en appliquant une stratégie d'augmentation de données.\n",
        "\n",
        "Certains modèles seraient peu-être plus performants avec l'utilisation d'autres hyper-paramètres mais le but ici est d'essayer de les départager et d'étudier plus en profondeur le meilleur modèle trouvé lors de la prochaine étape."
      ]
    },
    {
      "cell_type": "markdown",
      "metadata": {
        "id": "nAOJDENmQAlS"
      },
      "source": [
        "Imports des bibliothèques pour le projet"
      ]
    },
    {
      "cell_type": "code",
      "execution_count": 1,
      "metadata": {
        "id": "MeZ26KuvQFri"
      },
      "outputs": [],
      "source": [
        "import time\n",
        "import itertools\n",
        "import os\n",
        "import numpy as np\n",
        "import pandas as pd\n",
        "import sys\n",
        "\n",
        "\"\"\"\n",
        "plot de graphes\n",
        "\"\"\"\n",
        "import matplotlib.pyplot as plt\n",
        "\n",
        "\"\"\"\n",
        "Création et gestion des modèles de classification d'images avec Keras\n",
        "\"\"\"\n",
        "from tensorflow import keras\n",
        "\n",
        "#Accès aux images à classifier, qui sont réparties dans différents dossiers\n",
        "from keras.preprocessing.image import ImageDataGenerator\n",
        "\n",
        "#Différents types de couches pour les CNN\n",
        "from keras.layers import Flatten, Dense, Activation\n",
        "\n",
        "#Création de l'architecture des modèles avec Model\n",
        "from keras.models import Model \n",
        "\n",
        "#Gestion des arrêtes anticipés\n",
        "from keras.callbacks import EarlyStopping\n",
        "\n",
        "#Utilisation de modèles enregistrés\n",
        "from keras.models import load_model\n",
        "\n",
        "\"\"\"\n",
        "Importation des modèles pré-entraînés\n",
        "\"\"\"\n",
        "\n",
        "from keras.applications.vgg16 import VGG16\n",
        "from keras.applications.vgg16 import preprocess_input as preprocess_vgg16\n",
        "\n",
        "from keras.applications.vgg19 import VGG19\n",
        "from keras.applications.vgg19 import preprocess_input as preprocess_vgg19\n",
        "\n",
        "from keras.applications.resnet import ResNet50\n",
        "from keras.applications.resnet import preprocess_input as preprocess_resnet50\n",
        "\n",
        "from keras.applications.xception import Xception\n",
        "from keras.applications.xception import preprocess_input as preprocess_xception\n",
        "\n",
        "from keras.applications.inception_v3 import InceptionV3\n",
        "from keras.applications.inception_v3 import preprocess_input as preprocess_inception_v3\n",
        "\n",
        "from keras.applications.inception_resnet_v2 import InceptionResNetV2\n",
        "from keras.applications.inception_resnet_v2 import preprocess_input as preprocess_inception_resnet_v2\n",
        "\n",
        "from keras.applications.mobilenet import MobileNet\n",
        "from keras.applications.mobilenet import preprocess_input as preprocess_mobilenet\n",
        "\n",
        "from keras.applications.densenet import DenseNet121, DenseNet201\n",
        "from keras.applications.densenet import preprocess_input as preprocess_densenet\n",
        "\n",
        "from keras.applications.nasnet import NASNetLarge, NASNetMobile\n",
        "from keras.applications.nasnet import preprocess_input as preprocess_nasnet\n",
        "\n",
        "\"\"\"\n",
        "Mesures de performance des modèles avec Sklearn\n",
        "\"\"\"\n",
        "from sklearn.metrics import accuracy_score, precision_score, recall_score, f1_score, confusion_matrix, classification_report"
      ]
    },
    {
      "cell_type": "markdown",
      "metadata": {
        "id": "EAHKYvp_9XAr"
      },
      "source": [
        "# 1) Set up : fonctions utiles et initialisation"
      ]
    },
    {
      "cell_type": "code",
      "execution_count": 3,
      "metadata": {
        "id": "OwQYAto0Nntn"
      },
      "outputs": [],
      "source": [
        "#infos du dataset\n",
        "labels = os.listdir(\"./Garbage classification\")\n",
        "nClasses = len(labels) #6\n",
        "inputFolder = \"./Garbage_train_test_val\"\n",
        "\n",
        "#Hyper-paramètres\n",
        "batch_size = 32\n",
        "epochs_nb = 65\n",
        "\n",
        "modelInputSize =   {\"VGG16\":             [224,224], #[width,height]\n",
        "                    \"VGG19\":             [224,224],\n",
        "                    \"ResNet50\":          [224,224],\n",
        "                    \"Xception\":          [299,299],\n",
        "                    \"InceptionV3\":       [299,299],\n",
        "                    \"InceptionResNetV2\": [299,299],\n",
        "                    \"MobileNet\":         [224,224],\n",
        "                    \"DenseNet121\":       [224,224],\n",
        "                    \"DenseNet201\":       [224,224],\n",
        "                    \"NASNetLarge\":       [331,331],\n",
        "                    \"NASNetMobile\":      [224,224]}"
      ]
    },
    {
      "cell_type": "markdown",
      "metadata": {
        "id": "Ngosg_LpNreX"
      },
      "source": [
        "* **Gestion des différents modèles pré-entraînés**"
      ]
    },
    {
      "cell_type": "code",
      "execution_count": 4,
      "metadata": {
        "id": "r5gqSFt1NvLJ"
      },
      "outputs": [],
      "source": [
        "def modelSettings(modelName):\n",
        "\n",
        "  img_width = modelInputSize[modelName][0]\n",
        "  img_height = modelInputSize[modelName][1]\n",
        "\n",
        "  if (modelName == \"VGG16\"):\n",
        "    preprocessing = preprocess_vgg16\n",
        "\n",
        "  elif (modelName == \"VGG19\"):\n",
        "    preprocessing = preprocess_vgg19\n",
        "\n",
        "  elif (modelName == \"ResNet50\"):\n",
        "    preprocessing = preprocess_resnet50\n",
        "\n",
        "  elif (modelName == \"Xception\"):\n",
        "    preprocessing = preprocess_xception\n",
        "\n",
        "  elif (modelName == \"InceptionV3\"):\n",
        "    preprocessing = preprocess_inception_v3\n",
        "\n",
        "  elif (modelName== \"InceptionResNetV2\"):\n",
        "    preprocessing = preprocess_inception_resnet_v2\n",
        "\n",
        "  elif (modelName == \"MobileNet\"):\n",
        "    preprocessing = preprocess_mobilenet\n",
        "\n",
        "  elif (modelName== \"DenseNet121\" or modelName== \"DenseNet201\"):\n",
        "    preprocessing = preprocess_densenet\n",
        "  \n",
        "  elif (modelName== \"NASNetLarge\" or modelName== \"NASNetMobile\"):\n",
        "    preprocessing = preprocess_nasnet\n",
        "\n",
        "  else :\n",
        "      print(\"Impossible : ce modèle ne fait pas partie des modèles importés pour ce projet.\")\n",
        "      sys.exit()\n",
        "\n",
        "  return img_width, img_height, preprocessing\n",
        "\n",
        "\n",
        "def makeGenerators(modelName, inputFolder, batch_size):\n",
        "\n",
        "  img_width, img_height, preprocessing = modelSettings(modelName)\n",
        "  input_shape = (img_width, img_height, 3)\n",
        "\n",
        "\n",
        "  train_datagen = ImageDataGenerator( preprocessing_function = preprocessing,\n",
        "                                      width_shift_range=0.2, \n",
        "                                      height_shift_range=0.2, \n",
        "                                      horizontal_flip=True, \n",
        "                                      vertical_flip=True,\n",
        "                                      rotation_range = 90,\n",
        "                                      brightness_range = [0.8, 1.2],\n",
        "                                      zoom_range = [0.8, 1],\n",
        "                                      fill_mode='nearest')\n",
        "  test_datagen = ImageDataGenerator(preprocessing_function = preprocessing)\n",
        "\n",
        "  train_generator = train_datagen.flow_from_directory(directory=r'./{}/train'.format(inputFolder),\n",
        "                                                      target_size=(img_width, img_height),\n",
        "                                                      color_mode='rgb',\n",
        "                                                      batch_size=batch_size,\n",
        "                                                      class_mode='categorical',\n",
        "                                                      shuffle=True,\n",
        "                                                      seed=42)\n",
        "  test_generator = test_datagen.flow_from_directory(directory=r'./{}/test'.format(inputFolder),\n",
        "                                                    target_size=(img_width, img_height),\n",
        "                                                    color_mode='rgb',\n",
        "                                                    batch_size=batch_size,\n",
        "                                                    class_mode='categorical',\n",
        "                                                    shuffle=False)\n",
        "  validation_generator = test_datagen.flow_from_directory(directory=r'./{}/val'.format(inputFolder),\n",
        "                                                          target_size=(img_width, img_height),\n",
        "                                                          color_mode='rgb',\n",
        "                                                          batch_size=batch_size,\n",
        "                                                          class_mode='categorical',\n",
        "                                                          shuffle=False)\n",
        "\n",
        "  return input_shape, train_generator, test_generator, validation_generator\n",
        "\n",
        "\n",
        "def testGenerator(modelName, inputFolder):\n",
        "\n",
        "  img_width, img_height, preprocessing = modelSettings(modelName)\n",
        "  input_shape = (img_width, img_height, 3)\n",
        "\n",
        "  test_datagen = ImageDataGenerator(preprocessing_function = preprocessing)\n",
        "\n",
        "  test_generator = test_datagen.flow_from_directory(directory=r'./{}/test'.format(inputFolder),\n",
        "                                                    target_size=(img_width, img_height),\n",
        "                                                    color_mode='rgb',\n",
        "                                                    batch_size=batch_size,\n",
        "                                                    class_mode='categorical',\n",
        "                                                    shuffle=False)\n",
        "\n",
        "  return test_generator\n",
        "\n",
        "\n",
        "def Architecture(model, nClasses):\n",
        "  \n",
        "  #Partie convolutive : on garde les paramètres des couches convolutives\n",
        "  for layer in model.layers:\n",
        "    layer.trainable = False\n",
        "    lastLayer = model.output\n",
        "\n",
        "  x = Flatten()(lastLayer)\n",
        "\n",
        "  #Partie classification : on ajoute une couche entièrement connectée ainsi que la dernière avec le bon nombre de classes\n",
        "  #Seule cette partie sera entraînée par le modèle\n",
        "  x = Dense(256)(x)\n",
        "  x = Activation('relu')(x)\n",
        "  x = Dense(nClasses)(x)\n",
        "  x = Activation('softmax')(x)\n",
        "\n",
        "  model = Model(model.input, x)\n",
        "\n",
        "  return model"
      ]
    },
    {
      "cell_type": "markdown",
      "metadata": {
        "id": "bJ4FQkekHckZ"
      },
      "source": [
        "* **Etude des modèles**"
      ]
    },
    {
      "cell_type": "code",
      "execution_count": 5,
      "metadata": {
        "id": "788E77rli05f"
      },
      "outputs": [],
      "source": [
        "def plot_accuracy_loss(history):\n",
        "    \"\"\"\n",
        "    Retourne 2 graphes : un qui présente l'accuracy sur les sets de train et validation et le deuxième avec la loss\n",
        "    \"\"\"\n",
        "    fig, (ax1, ax2) = plt.subplots(1, 2, figsize=(15,5))\n",
        "\n",
        "    #Accuracy\n",
        "    accuracy = history.history['accuracy']\n",
        "    val_accuracy = history.history['val_accuracy']\n",
        "    ax1.plot(range(len(accuracy)), accuracy, label='train')\n",
        "    ax1.plot(range(len(val_accuracy)), val_accuracy, label='validation')\n",
        "    ax1.legend()\n",
        "    ax1.set_xlabel('Epochs')\n",
        "    ax1.set_ylabel('Accuracy')\n",
        "    ax1.set_title('Training and Validation Accuracy')\n",
        "\n",
        "    #Loss\n",
        "    loss = history.history['loss']\n",
        "    val_loss = history.history['val_loss']\n",
        "    ax2.plot(range(len(loss)), loss, label='train')\n",
        "    ax2.plot(range(len(val_loss)), val_loss, label='validation')\n",
        "    ax2.legend()\n",
        "    ax2.set_xlabel('Epochs')\n",
        "    ax2.set_ylabel('Loss')\n",
        "    ax2.set_title('Training and Validation Loss')\n",
        "\n",
        "\n",
        "def plot_confusion_matrix(cm, classes,\n",
        "                          title='Confusion matrix',\n",
        "                          cmap=plt.cm.Blues):\n",
        "    \"\"\"\n",
        "    Affiche la matrice de confusion du modèle sur les données de test\n",
        "    \"\"\"\n",
        "    fig = plt.figure(figsize=(10,10))\n",
        "    plt.imshow(cm, interpolation='nearest', cmap=cmap)\n",
        "    plt.title(title)\n",
        "    plt.colorbar()\n",
        "    tick_marks = np.arange(len(classes))\n",
        "    plt.xticks(tick_marks, classes, rotation=45)\n",
        "    plt.yticks(tick_marks, classes)\n",
        "    fmt = 'd'\n",
        "    thresh = cm.max() / 2.\n",
        "    for i, j in itertools.product(range(cm.shape[0]), range(cm.shape[1])):\n",
        "        plt.text(j, i, format(cm[i, j], fmt),\n",
        "                 horizontalalignment=\"center\",\n",
        "                 color=\"white\" if cm[i, j] > thresh else \"black\")\n",
        "    plt.tight_layout()\n",
        "    plt.ylabel('True label')\n",
        "    plt.xlabel('Predicted label')\n",
        "    plt.show()\n",
        "\n",
        "def study_model(model, classes, test_generator, executionTime, plot_cm=False):\n",
        "    \"\"\"\n",
        "    Retourne des informations sur la performance du modèle\n",
        "    \"\"\"\n",
        "\n",
        "    #Durée d'entraînement\n",
        "    print(f\"Durée d'entraînement : {round(executionTime, 2)} secondes\")\n",
        "\n",
        "    #Performances sur le set de test\n",
        "    preds = model.predict(test_generator)  # preds are proba for each class\n",
        "    preds_classes = [i.argmax() for i in preds]\n",
        "    y_true = test_generator.classes\n",
        "    acc_test = accuracy_score(y_true, preds_classes)\n",
        "    prec_test = precision_score(y_true, preds_classes, average='weighted')\n",
        "    rec_test = recall_score(y_true, preds_classes, average='weighted')\n",
        "    f1_test = f1_score(y_true, preds_classes, average='weighted')\n",
        "    results = pd.DataFrame([[acc_test, prec_test, rec_test, f1_test]], columns=['accuracy', 'precision', 'recall', 'f1-score'])\n",
        "    print(\"\\nPerformances sur le set de test : \\n\")\n",
        "    print(results)\n",
        "\n",
        "    #Matrice de confusion\n",
        "    if (plot_cm):\n",
        "      cm = confusion_matrix(y_true, preds_classes)\n",
        "      plot_confusion_matrix(cm, classes)"
      ]
    },
    {
      "cell_type": "markdown",
      "metadata": {
        "id": "MBBj8EUSiSC7"
      },
      "source": [
        "# 2) Etude de 9 nouveaux modèles pré-entraînés (en plus de VGG16)"
      ]
    },
    {
      "cell_type": "markdown",
      "metadata": {
        "id": "xhnFNrm3EE4U"
      },
      "source": [
        "## VGG19"
      ]
    },
    {
      "cell_type": "markdown",
      "metadata": {
        "id": "fQoOK6eByfUh"
      },
      "source": [
        "Nous téléchargeons le modèle **VGG19 pré-entraîné sur ImageNet** et ne modifions que la partie classification (correspondant aux couches entièrements connectées). Les poids des couches convolutives de VGG19 sont donc conservées (layer.trainable = False)."
      ]
    },
    {
      "cell_type": "code",
      "execution_count": null,
      "metadata": {
        "colab": {
          "base_uri": "https://localhost:8080/"
        },
        "id": "-NAOqJoEMcEl",
        "outputId": "33b7f893-df87-44be-dce1-341810e071c8"
      },
      "outputs": [
        {
          "name": "stdout",
          "output_type": "stream",
          "text": [
            "Found 1766 images belonging to 6 classes.\n",
            "Found 384 images belonging to 6 classes.\n",
            "Found 377 images belonging to 6 classes.\n",
            "Downloading data from https://storage.googleapis.com/tensorflow/keras-applications/vgg19/vgg19_weights_tf_dim_ordering_tf_kernels_notop.h5\n",
            "80142336/80134624 [==============================] - 1s 0us/step\n",
            "80150528/80134624 [==============================] - 1s 0us/step\n"
          ]
        }
      ],
      "source": [
        "modelName = \"VGG19\"\n",
        "\n",
        "input_shape, train_generator, test_generator, validation_generator =  makeGenerators(modelName, inputFolder, batch_size)\n",
        "model = VGG19(include_top = False, weights = 'imagenet', input_shape = input_shape)\n",
        "model_vgg19 = Architecture(model, nClasses)\n",
        "model_vgg19.compile(loss='categorical_crossentropy', optimizer=keras.optimizers.RMSprop(learning_rate=2e-5), metrics=['accuracy'])"
      ]
    },
    {
      "cell_type": "code",
      "execution_count": null,
      "metadata": {
        "colab": {
          "base_uri": "https://localhost:8080/"
        },
        "id": "pRw3DxNkWGqa",
        "outputId": "5806fbdb-60fa-4f38-d85e-a1a793fbe4ae"
      },
      "outputs": [
        {
          "name": "stdout",
          "output_type": "stream",
          "text": [
            "Epoch 1/65\n",
            "56/56 [==============================] - 530s 9s/step - loss: 4.9077 - accuracy: 0.3958 - val_loss: 3.5087 - val_accuracy: 0.5358\n",
            "Epoch 2/65\n",
            "56/56 [==============================] - 43s 760ms/step - loss: 3.1605 - accuracy: 0.5476 - val_loss: 2.5698 - val_accuracy: 0.6127\n",
            "Epoch 3/65\n",
            "56/56 [==============================] - 41s 725ms/step - loss: 2.3546 - accuracy: 0.6138 - val_loss: 2.1348 - val_accuracy: 0.6631\n",
            "Epoch 4/65\n",
            "56/56 [==============================] - 40s 718ms/step - loss: 1.9221 - accuracy: 0.6676 - val_loss: 1.8578 - val_accuracy: 0.6684\n",
            "Epoch 5/65\n",
            "56/56 [==============================] - 40s 719ms/step - loss: 1.6147 - accuracy: 0.6852 - val_loss: 1.7494 - val_accuracy: 0.6817\n",
            "Epoch 6/65\n",
            "56/56 [==============================] - 40s 718ms/step - loss: 1.4694 - accuracy: 0.7089 - val_loss: 1.6508 - val_accuracy: 0.7003\n",
            "Epoch 7/65\n",
            "56/56 [==============================] - 40s 717ms/step - loss: 1.3359 - accuracy: 0.7282 - val_loss: 1.4812 - val_accuracy: 0.7162\n",
            "Epoch 8/65\n",
            "56/56 [==============================] - 40s 708ms/step - loss: 1.3728 - accuracy: 0.7197 - val_loss: 1.3634 - val_accuracy: 0.7347\n",
            "Epoch 9/65\n",
            "56/56 [==============================] - 40s 713ms/step - loss: 1.1951 - accuracy: 0.7407 - val_loss: 1.2970 - val_accuracy: 0.7241\n",
            "Epoch 10/65\n",
            "56/56 [==============================] - 40s 718ms/step - loss: 1.0664 - accuracy: 0.7588 - val_loss: 1.2232 - val_accuracy: 0.7560\n",
            "Epoch 11/65\n",
            "56/56 [==============================] - 40s 715ms/step - loss: 0.9452 - accuracy: 0.7610 - val_loss: 1.1876 - val_accuracy: 0.7507\n",
            "Epoch 12/65\n",
            "56/56 [==============================] - 40s 710ms/step - loss: 0.9957 - accuracy: 0.7746 - val_loss: 1.1109 - val_accuracy: 0.7533\n",
            "Epoch 13/65\n",
            "56/56 [==============================] - 40s 716ms/step - loss: 0.9495 - accuracy: 0.7707 - val_loss: 1.0291 - val_accuracy: 0.7719\n",
            "Epoch 14/65\n",
            "56/56 [==============================] - 40s 715ms/step - loss: 0.7968 - accuracy: 0.7803 - val_loss: 0.9618 - val_accuracy: 0.7851\n",
            "Epoch 15/65\n",
            "56/56 [==============================] - 40s 709ms/step - loss: 0.8587 - accuracy: 0.7814 - val_loss: 0.9055 - val_accuracy: 0.7798\n",
            "Epoch 16/65\n",
            "56/56 [==============================] - 40s 713ms/step - loss: 0.8117 - accuracy: 0.7911 - val_loss: 0.8985 - val_accuracy: 0.7984\n",
            "Epoch 17/65\n",
            "56/56 [==============================] - 40s 716ms/step - loss: 0.7544 - accuracy: 0.7990 - val_loss: 0.8766 - val_accuracy: 0.8064\n",
            "Epoch 18/65\n",
            "56/56 [==============================] - 40s 720ms/step - loss: 0.7136 - accuracy: 0.8109 - val_loss: 0.8494 - val_accuracy: 0.8037\n",
            "Epoch 19/65\n",
            "56/56 [==============================] - 40s 721ms/step - loss: 0.6685 - accuracy: 0.8284 - val_loss: 0.8284 - val_accuracy: 0.8090\n",
            "Epoch 20/65\n",
            "56/56 [==============================] - 41s 726ms/step - loss: 0.7109 - accuracy: 0.8126 - val_loss: 0.8484 - val_accuracy: 0.8064\n",
            "Epoch 21/65\n",
            "56/56 [==============================] - 41s 730ms/step - loss: 0.6495 - accuracy: 0.8222 - val_loss: 0.8288 - val_accuracy: 0.8117\n",
            "Epoch 22/65\n",
            "56/56 [==============================] - 40s 717ms/step - loss: 0.7025 - accuracy: 0.8239 - val_loss: 0.8202 - val_accuracy: 0.7931\n",
            "Epoch 23/65\n",
            "56/56 [==============================] - 40s 720ms/step - loss: 0.7253 - accuracy: 0.8279 - val_loss: 0.7431 - val_accuracy: 0.8064\n",
            "Epoch 24/65\n",
            "56/56 [==============================] - 40s 719ms/step - loss: 0.6285 - accuracy: 0.8273 - val_loss: 0.7944 - val_accuracy: 0.7958\n",
            "Epoch 25/65\n",
            "56/56 [==============================] - 41s 722ms/step - loss: 0.5378 - accuracy: 0.8499 - val_loss: 0.7420 - val_accuracy: 0.8249\n",
            "Epoch 26/65\n",
            "56/56 [==============================] - 40s 720ms/step - loss: 0.5563 - accuracy: 0.8471 - val_loss: 0.7887 - val_accuracy: 0.8223\n",
            "Epoch 27/65\n",
            "56/56 [==============================] - 41s 725ms/step - loss: 0.5740 - accuracy: 0.8488 - val_loss: 0.7671 - val_accuracy: 0.8196\n",
            "Epoch 28/65\n",
            "56/56 [==============================] - 41s 726ms/step - loss: 0.5761 - accuracy: 0.8369 - val_loss: 0.7677 - val_accuracy: 0.8329\n",
            "Epoch 29/65\n",
            "56/56 [==============================] - 41s 726ms/step - loss: 0.6148 - accuracy: 0.8431 - val_loss: 0.7217 - val_accuracy: 0.8302\n",
            "Epoch 30/65\n",
            "56/56 [==============================] - 40s 720ms/step - loss: 0.4905 - accuracy: 0.8596 - val_loss: 0.6981 - val_accuracy: 0.8276\n",
            "Epoch 31/65\n",
            "56/56 [==============================] - 40s 721ms/step - loss: 0.5270 - accuracy: 0.8539 - val_loss: 0.7220 - val_accuracy: 0.8249\n",
            "Epoch 32/65\n",
            "56/56 [==============================] - 40s 715ms/step - loss: 0.5166 - accuracy: 0.8482 - val_loss: 0.6858 - val_accuracy: 0.8249\n",
            "Epoch 33/65\n",
            "56/56 [==============================] - 41s 727ms/step - loss: 0.5079 - accuracy: 0.8562 - val_loss: 0.6634 - val_accuracy: 0.8302\n",
            "Epoch 34/65\n",
            "56/56 [==============================] - 41s 728ms/step - loss: 0.4402 - accuracy: 0.8647 - val_loss: 0.6750 - val_accuracy: 0.8302\n",
            "Epoch 35/65\n",
            "56/56 [==============================] - 40s 710ms/step - loss: 0.4996 - accuracy: 0.8601 - val_loss: 0.6568 - val_accuracy: 0.8382\n",
            "Epoch 36/65\n",
            "56/56 [==============================] - 40s 714ms/step - loss: 0.5148 - accuracy: 0.8584 - val_loss: 0.6787 - val_accuracy: 0.8355\n",
            "Epoch 37/65\n",
            "56/56 [==============================] - 41s 731ms/step - loss: 0.4941 - accuracy: 0.8652 - val_loss: 0.6844 - val_accuracy: 0.8355\n",
            "Epoch 38/65\n",
            "56/56 [==============================] - 41s 729ms/step - loss: 0.4779 - accuracy: 0.8556 - val_loss: 0.6800 - val_accuracy: 0.8462\n",
            "Epoch 39/65\n",
            "56/56 [==============================] - 40s 720ms/step - loss: 0.4822 - accuracy: 0.8658 - val_loss: 0.7272 - val_accuracy: 0.8382\n",
            "Epoch 40/65\n",
            "56/56 [==============================] - 40s 717ms/step - loss: 0.4790 - accuracy: 0.8749 - val_loss: 0.6754 - val_accuracy: 0.8329\n",
            "Epoch 41/65\n",
            "56/56 [==============================] - 40s 717ms/step - loss: 0.4474 - accuracy: 0.8726 - val_loss: 0.6769 - val_accuracy: 0.8408\n",
            "Epoch 42/65\n",
            "56/56 [==============================] - 40s 718ms/step - loss: 0.4380 - accuracy: 0.8822 - val_loss: 0.6461 - val_accuracy: 0.8488\n",
            "Epoch 43/65\n",
            "56/56 [==============================] - 40s 717ms/step - loss: 0.4074 - accuracy: 0.8805 - val_loss: 0.6794 - val_accuracy: 0.8355\n",
            "Epoch 44/65\n",
            "56/56 [==============================] - 41s 724ms/step - loss: 0.4490 - accuracy: 0.8669 - val_loss: 0.6349 - val_accuracy: 0.8435\n",
            "Epoch 45/65\n",
            "56/56 [==============================] - 42s 741ms/step - loss: 0.4075 - accuracy: 0.8834 - val_loss: 0.6170 - val_accuracy: 0.8462\n",
            "Epoch 46/65\n",
            "56/56 [==============================] - 41s 733ms/step - loss: 0.4131 - accuracy: 0.8896 - val_loss: 0.6104 - val_accuracy: 0.8435\n",
            "Epoch 47/65\n",
            "56/56 [==============================] - 41s 728ms/step - loss: 0.3353 - accuracy: 0.8907 - val_loss: 0.6179 - val_accuracy: 0.8382\n",
            "Epoch 48/65\n",
            "56/56 [==============================] - 42s 740ms/step - loss: 0.3937 - accuracy: 0.8879 - val_loss: 0.6391 - val_accuracy: 0.8382\n",
            "Epoch 49/65\n",
            "56/56 [==============================] - 41s 725ms/step - loss: 0.3881 - accuracy: 0.8890 - val_loss: 0.6621 - val_accuracy: 0.8249\n",
            "Epoch 50/65\n",
            "56/56 [==============================] - 41s 724ms/step - loss: 0.3348 - accuracy: 0.9015 - val_loss: 0.6669 - val_accuracy: 0.8276\n",
            "Epoch 51/65\n",
            "56/56 [==============================] - 40s 717ms/step - loss: 0.3822 - accuracy: 0.9037 - val_loss: 0.6271 - val_accuracy: 0.8408\n",
            "Epoch 52/65\n",
            "56/56 [==============================] - 40s 716ms/step - loss: 0.3557 - accuracy: 0.9009 - val_loss: 0.6402 - val_accuracy: 0.8462\n",
            "Epoch 53/65\n",
            "56/56 [==============================] - 39s 700ms/step - loss: 0.3400 - accuracy: 0.9083 - val_loss: 0.6586 - val_accuracy: 0.8223\n",
            "Epoch 54/65\n",
            "56/56 [==============================] - 39s 700ms/step - loss: 0.3686 - accuracy: 0.8992 - val_loss: 0.6049 - val_accuracy: 0.8302\n",
            "Epoch 55/65\n",
            "56/56 [==============================] - 40s 706ms/step - loss: 0.3624 - accuracy: 0.8958 - val_loss: 0.6435 - val_accuracy: 0.8488\n",
            "Epoch 56/65\n",
            "56/56 [==============================] - 39s 702ms/step - loss: 0.3627 - accuracy: 0.8969 - val_loss: 0.6546 - val_accuracy: 0.8355\n",
            "Epoch 57/65\n",
            "56/56 [==============================] - 39s 696ms/step - loss: 0.3841 - accuracy: 0.9049 - val_loss: 0.6119 - val_accuracy: 0.8355\n",
            "Epoch 58/65\n",
            "56/56 [==============================] - 39s 696ms/step - loss: 0.3741 - accuracy: 0.8998 - val_loss: 0.6430 - val_accuracy: 0.8276\n",
            "Epoch 59/65\n",
            "56/56 [==============================] - 40s 708ms/step - loss: 0.3673 - accuracy: 0.8992 - val_loss: 0.6197 - val_accuracy: 0.8462\n",
            "Epoch 60/65\n",
            "56/56 [==============================] - 40s 710ms/step - loss: 0.3625 - accuracy: 0.9026 - val_loss: 0.6186 - val_accuracy: 0.8568\n",
            "Epoch 61/65\n",
            "56/56 [==============================] - 40s 708ms/step - loss: 0.3091 - accuracy: 0.9117 - val_loss: 0.6853 - val_accuracy: 0.8408\n",
            "Epoch 62/65\n",
            "56/56 [==============================] - 40s 706ms/step - loss: 0.3482 - accuracy: 0.8975 - val_loss: 0.5865 - val_accuracy: 0.8568\n",
            "Epoch 63/65\n",
            "56/56 [==============================] - 40s 704ms/step - loss: 0.3183 - accuracy: 0.9077 - val_loss: 0.6279 - val_accuracy: 0.8515\n",
            "Epoch 64/65\n",
            "56/56 [==============================] - 40s 703ms/step - loss: 0.2962 - accuracy: 0.9100 - val_loss: 0.6386 - val_accuracy: 0.8488\n",
            "Epoch 65/65\n",
            "56/56 [==============================] - 40s 706ms/step - loss: 0.3151 - accuracy: 0.9173 - val_loss: 0.6107 - val_accuracy: 0.8541\n"
          ]
        }
      ],
      "source": [
        "startTime=time.time()\n",
        "history = model_vgg19.fit(train_generator, epochs = epochs_nb, validation_data  = validation_generator)\n",
        "executionTime = (time.time() - startTime)"
      ]
    },
    {
      "cell_type": "code",
      "execution_count": null,
      "metadata": {
        "id": "vWS5LOjli0vj"
      },
      "outputs": [],
      "source": [
        "model_vgg19.save(f'./Modeles/{modelName}.h5')"
      ]
    },
    {
      "cell_type": "code",
      "execution_count": null,
      "metadata": {
        "colab": {
          "base_uri": "https://localhost:8080/"
        },
        "id": "pnFXPTN3kh_h",
        "outputId": "38dd071d-399f-4e10-e2eb-9f5f99232abf"
      },
      "outputs": [
        {
          "name": "stdout",
          "output_type": "stream",
          "text": [
            "Durée d'entraînement : 3123.99 secondes\n",
            "\n",
            "Performances sur le set de test : \n",
            "\n",
            "   accuracy  precision    recall  f1-score\n",
            "0  0.822917   0.826353  0.822917  0.822247\n"
          ]
        }
      ],
      "source": [
        "study_model(model_vgg19, labels, test_generator, executionTime)"
      ]
    },
    {
      "cell_type": "code",
      "execution_count": null,
      "metadata": {
        "colab": {
          "base_uri": "https://localhost:8080/",
          "height": 349
        },
        "id": "hyagiyVvCUq3",
        "outputId": "fb490055-96cc-4ad3-96fe-624041787073"
      },
      "outputs": [
        {
          "data": {
            "image/png": "[encoded data removed]",
            "text/plain": [
              "<Figure size 1080x360 with 2 Axes>"
            ]
          },
          "metadata": {},
          "output_type": "display_data"
        }
      ],
      "source": [
        "plot_accuracy_loss(history)"
      ]
    },
    {
      "cell_type": "markdown",
      "metadata": {
        "id": "aZVzkB53jpYn"
      },
      "source": [
        "Le modèle a-t-il convergé après 65 epochs ? Pas sûr\n",
        "\n",
        "Il est préférable d'entraîner le modèle à nouveau sur quelques epochs."
      ]
    },
    {
      "cell_type": "code",
      "execution_count": null,
      "metadata": {
        "id": "7RCVtlLlj3Ui"
      },
      "outputs": [],
      "source": [
        "model_vgg19_2 = load_model(f\"./Modeles/{modelName}.h5\")\n",
        "model_vgg19_2.compile(loss='categorical_crossentropy', optimizer=keras.optimizers.RMSprop(learning_rate=2e-5), metrics=['accuracy'])\n",
        "es = EarlyStopping(monitor='val_loss', mode='min', verbose=1, patience=10)\n",
        "cb_list=[es]\n",
        "epochs_nb = 35"
      ]
    },
    {
      "cell_type": "code",
      "execution_count": null,
      "metadata": {
        "colab": {
          "base_uri": "https://localhost:8080/"
        },
        "id": "hFNyXblgkpiH",
        "outputId": "e6ce9ad0-68df-4064-fb08-89f1991c0c3c"
      },
      "outputs": [
        {
          "name": "stdout",
          "output_type": "stream",
          "text": [
            "Epoch 1/35\n",
            "56/56 [==============================] - 45s 773ms/step - loss: 0.3146 - accuracy: 0.9173 - val_loss: 0.6602 - val_accuracy: 0.8541\n",
            "Epoch 2/35\n",
            "56/56 [==============================] - 41s 748ms/step - loss: 0.2876 - accuracy: 0.9190 - val_loss: 0.6398 - val_accuracy: 0.8488\n",
            "Epoch 3/35\n",
            "56/56 [==============================] - 41s 732ms/step - loss: 0.3453 - accuracy: 0.9151 - val_loss: 0.6190 - val_accuracy: 0.8541\n",
            "Epoch 4/35\n",
            "56/56 [==============================] - 42s 746ms/step - loss: 0.2995 - accuracy: 0.9207 - val_loss: 0.6227 - val_accuracy: 0.8541\n",
            "Epoch 5/35\n",
            "56/56 [==============================] - 41s 727ms/step - loss: 0.2952 - accuracy: 0.9100 - val_loss: 0.6099 - val_accuracy: 0.8488\n",
            "Epoch 6/35\n",
            "56/56 [==============================] - 41s 748ms/step - loss: 0.3265 - accuracy: 0.9185 - val_loss: 0.5671 - val_accuracy: 0.8647\n",
            "Epoch 7/35\n",
            "56/56 [==============================] - 41s 728ms/step - loss: 0.2566 - accuracy: 0.9281 - val_loss: 0.6443 - val_accuracy: 0.8594\n",
            "Epoch 8/35\n",
            "56/56 [==============================] - 41s 730ms/step - loss: 0.2939 - accuracy: 0.9179 - val_loss: 0.6237 - val_accuracy: 0.8621\n",
            "Epoch 9/35\n",
            "56/56 [==============================] - 41s 734ms/step - loss: 0.2966 - accuracy: 0.9264 - val_loss: 0.5801 - val_accuracy: 0.8700\n",
            "Epoch 10/35\n",
            "56/56 [==============================] - 41s 729ms/step - loss: 0.2583 - accuracy: 0.9264 - val_loss: 0.6232 - val_accuracy: 0.8674\n",
            "Epoch 11/35\n",
            "56/56 [==============================] - 41s 724ms/step - loss: 0.2635 - accuracy: 0.9326 - val_loss: 0.6374 - val_accuracy: 0.8727\n",
            "Epoch 12/35\n",
            "56/56 [==============================] - 41s 723ms/step - loss: 0.3098 - accuracy: 0.9190 - val_loss: 0.6146 - val_accuracy: 0.8621\n",
            "Epoch 13/35\n",
            "56/56 [==============================] - 41s 728ms/step - loss: 0.3000 - accuracy: 0.9185 - val_loss: 0.6232 - val_accuracy: 0.8568\n",
            "Epoch 14/35\n",
            "56/56 [==============================] - 41s 727ms/step - loss: 0.2644 - accuracy: 0.9309 - val_loss: 0.6562 - val_accuracy: 0.8568\n",
            "Epoch 15/35\n",
            "56/56 [==============================] - 40s 717ms/step - loss: 0.2799 - accuracy: 0.9315 - val_loss: 0.6818 - val_accuracy: 0.8488\n",
            "Epoch 16/35\n",
            "56/56 [==============================] - 41s 723ms/step - loss: 0.2654 - accuracy: 0.9304 - val_loss: 0.6389 - val_accuracy: 0.8727\n",
            "Epoch 00016: early stopping\n"
          ]
        }
      ],
      "source": [
        "startTime=time.time()\n",
        "history = model_vgg19_2.fit(train_generator, epochs = epochs_nb, validation_data  = validation_generator, callbacks=cb_list)\n",
        "executionTime2 = (time.time() - startTime)"
      ]
    },
    {
      "cell_type": "code",
      "execution_count": null,
      "metadata": {
        "id": "YFlqG2b_oU6U"
      },
      "outputs": [],
      "source": [
        "model_vgg19_2.save(f'./Modeles/{modelName}_2.h5')"
      ]
    },
    {
      "cell_type": "code",
      "execution_count": null,
      "metadata": {
        "colab": {
          "base_uri": "https://localhost:8080/"
        },
        "id": "MQ1gHhA4ojg4",
        "outputId": "a3a594c9-e800-44d0-f453-60f464a2cfda"
      },
      "outputs": [
        {
          "name": "stdout",
          "output_type": "stream",
          "text": [
            "Durée d'entraînement : 660.5 secondes\n",
            "\n",
            "Performances sur le set de test : \n",
            "\n",
            "   accuracy  precision    recall  f1-score\n",
            "0  0.825521   0.827939  0.825521  0.824667\n"
          ]
        }
      ],
      "source": [
        "study_model(model_vgg19_2, labels, test_generator, executionTime2)"
      ]
    },
    {
      "cell_type": "code",
      "execution_count": null,
      "metadata": {
        "colab": {
          "base_uri": "https://localhost:8080/",
          "height": 349
        },
        "id": "NSNHMtJfodkT",
        "outputId": "a6bd8c5c-60db-409c-a782-72b96161f58d"
      },
      "outputs": [
        {
          "data": {
            "image/png": "[encoded data removed]",
            "text/plain": [
              "<Figure size 1080x360 with 2 Axes>"
            ]
          },
          "metadata": {},
          "output_type": "display_data"
        }
      ],
      "source": [
        "plot_accuracy_loss(history)"
      ]
    },
    {
      "cell_type": "markdown",
      "metadata": {
        "id": "X_cU4UTwpOcM"
      },
      "source": [
        "Les résultats sur les sets d'entraînement et de validation ont légèrement augmenté (passant respectivement de 91 à 93% et de 85 à 87% d'accuracy). Cependant, les résultats sur le set de test ont à peine bougés : **82,5% d'accuracy**. Nous pouvons en conclure que le modèle avait bien convergé.\n",
        "\n",
        "Les performances de VGG19 ne sont pas meilleures que celles de VGG16. De plus, le temps d'entraînement est plus long."
      ]
    },
    {
      "cell_type": "markdown",
      "metadata": {
        "id": "5QgGj0EwEraS"
      },
      "source": [
        "## ResNet50"
      ]
    },
    {
      "cell_type": "code",
      "execution_count": null,
      "metadata": {
        "colab": {
          "base_uri": "https://localhost:8080/"
        },
        "id": "sdzcCDkKOf9A",
        "outputId": "791cda62-1e02-43f5-c08f-e06f8eb2b8d3"
      },
      "outputs": [
        {
          "name": "stdout",
          "output_type": "stream",
          "text": [
            "Found 1766 images belonging to 6 classes.\n",
            "Found 384 images belonging to 6 classes.\n",
            "Found 377 images belonging to 6 classes.\n"
          ]
        }
      ],
      "source": [
        "modelName = \"ResNet50\"\n",
        "epochs_nb = 65\n",
        "\n",
        "input_shape, train_generator, test_generator, validation_generator =  makeGenerators(modelName, inputFolder, batch_size)\n",
        "model = ResNet50(include_top = False, weights = 'imagenet', input_shape = input_shape)\n",
        "model_resnet50 = Architecture(model, nClasses)\n",
        "model_resnet50.compile(loss='categorical_crossentropy', optimizer=keras.optimizers.RMSprop(learning_rate=2e-5), metrics=['accuracy'])"
      ]
    },
    {
      "cell_type": "code",
      "execution_count": null,
      "metadata": {
        "colab": {
          "background_save": true,
          "base_uri": "https://localhost:8080/"
        },
        "id": "jcOG-DHfrMMg",
        "outputId": "60e9b4a1-4f12-4ba4-d8d7-a5bbd60e0f09"
      },
      "outputs": [
        {
          "name": "stdout",
          "output_type": "stream",
          "text": [
            "Epoch 1/65\n",
            "56/56 [==============================] - 48s 774ms/step - loss: 1.2637 - accuracy: 0.6212 - val_loss: 0.6737 - val_accuracy: 0.7560\n",
            "Epoch 2/65\n",
            "56/56 [==============================] - 40s 705ms/step - loss: 0.7157 - accuracy: 0.7639 - val_loss: 0.5755 - val_accuracy: 0.8170\n",
            "Epoch 3/65\n",
            "56/56 [==============================] - 40s 717ms/step - loss: 0.5495 - accuracy: 0.7984 - val_loss: 0.4457 - val_accuracy: 0.8515\n",
            "Epoch 4/65\n",
            "56/56 [==============================] - 39s 699ms/step - loss: 0.5154 - accuracy: 0.8347 - val_loss: 0.5979 - val_accuracy: 0.8302\n",
            "Epoch 5/65\n",
            "56/56 [==============================] - 40s 713ms/step - loss: 0.4391 - accuracy: 0.8505 - val_loss: 0.4202 - val_accuracy: 0.8594\n",
            "Epoch 6/65\n",
            "56/56 [==============================] - 39s 701ms/step - loss: 0.4320 - accuracy: 0.8613 - val_loss: 0.4260 - val_accuracy: 0.8753\n",
            "Epoch 7/65\n",
            "56/56 [==============================] - 39s 702ms/step - loss: 0.3394 - accuracy: 0.8884 - val_loss: 0.4386 - val_accuracy: 0.8727\n",
            "Epoch 8/65\n",
            "56/56 [==============================] - 40s 706ms/step - loss: 0.3524 - accuracy: 0.8851 - val_loss: 0.3596 - val_accuracy: 0.8939\n",
            "Epoch 9/65\n",
            "56/56 [==============================] - 39s 701ms/step - loss: 0.3506 - accuracy: 0.8856 - val_loss: 0.4323 - val_accuracy: 0.8674\n",
            "Epoch 10/65\n",
            "56/56 [==============================] - 40s 709ms/step - loss: 0.3591 - accuracy: 0.8867 - val_loss: 0.4377 - val_accuracy: 0.8700\n",
            "Epoch 11/65\n",
            "56/56 [==============================] - 40s 715ms/step - loss: 0.2938 - accuracy: 0.9015 - val_loss: 0.3431 - val_accuracy: 0.8886\n",
            "Epoch 12/65\n",
            "56/56 [==============================] - 40s 714ms/step - loss: 0.2937 - accuracy: 0.9088 - val_loss: 0.4167 - val_accuracy: 0.8833\n",
            "Epoch 13/65\n",
            "56/56 [==============================] - 40s 704ms/step - loss: 0.2630 - accuracy: 0.9094 - val_loss: 0.5050 - val_accuracy: 0.8594\n",
            "Epoch 14/65\n",
            "56/56 [==============================] - 39s 699ms/step - loss: 0.2625 - accuracy: 0.9122 - val_loss: 0.4529 - val_accuracy: 0.8753\n",
            "Epoch 15/65\n",
            "56/56 [==============================] - 39s 701ms/step - loss: 0.2476 - accuracy: 0.9230 - val_loss: 0.4583 - val_accuracy: 0.8780\n",
            "Epoch 16/65\n",
            "56/56 [==============================] - 39s 697ms/step - loss: 0.2244 - accuracy: 0.9264 - val_loss: 0.4522 - val_accuracy: 0.8939\n",
            "Epoch 17/65\n",
            "56/56 [==============================] - 39s 702ms/step - loss: 0.2209 - accuracy: 0.9281 - val_loss: 0.4743 - val_accuracy: 0.8859\n",
            "Epoch 18/65\n",
            "56/56 [==============================] - 40s 715ms/step - loss: 0.2311 - accuracy: 0.9281 - val_loss: 0.3845 - val_accuracy: 0.8939\n",
            "Epoch 19/65\n",
            "56/56 [==============================] - 40s 708ms/step - loss: 0.2076 - accuracy: 0.9332 - val_loss: 0.3755 - val_accuracy: 0.8912\n",
            "Epoch 20/65\n",
            "56/56 [==============================] - 39s 699ms/step - loss: 0.1782 - accuracy: 0.9451 - val_loss: 0.4266 - val_accuracy: 0.8859\n",
            "Epoch 21/65\n",
            "56/56 [==============================] - 39s 695ms/step - loss: 0.1577 - accuracy: 0.9422 - val_loss: 0.4378 - val_accuracy: 0.8939\n",
            "Epoch 22/65\n",
            "56/56 [==============================] - 39s 698ms/step - loss: 0.1887 - accuracy: 0.9360 - val_loss: 0.4428 - val_accuracy: 0.8992\n",
            "Epoch 23/65\n",
            "56/56 [==============================] - 39s 700ms/step - loss: 0.1801 - accuracy: 0.9405 - val_loss: 0.4709 - val_accuracy: 0.8886\n",
            "Epoch 24/65\n",
            "56/56 [==============================] - 39s 698ms/step - loss: 0.1687 - accuracy: 0.9473 - val_loss: 0.4632 - val_accuracy: 0.8912\n",
            "Epoch 25/65\n",
            "56/56 [==============================] - 40s 708ms/step - loss: 0.1758 - accuracy: 0.9445 - val_loss: 0.3914 - val_accuracy: 0.9045\n",
            "Epoch 26/65\n",
            "56/56 [==============================] - 40s 705ms/step - loss: 0.1707 - accuracy: 0.9473 - val_loss: 0.4130 - val_accuracy: 0.8912\n",
            "Epoch 27/65\n",
            "56/56 [==============================] - 40s 711ms/step - loss: 0.1641 - accuracy: 0.9513 - val_loss: 0.3479 - val_accuracy: 0.9231\n",
            "Epoch 28/65\n",
            "56/56 [==============================] - 40s 715ms/step - loss: 0.1432 - accuracy: 0.9536 - val_loss: 0.4680 - val_accuracy: 0.8939\n",
            "Epoch 29/65\n",
            "56/56 [==============================] - 41s 727ms/step - loss: 0.1541 - accuracy: 0.9502 - val_loss: 0.4747 - val_accuracy: 0.8912\n",
            "Epoch 30/65\n",
            "56/56 [==============================] - 39s 702ms/step - loss: 0.1518 - accuracy: 0.9513 - val_loss: 0.4075 - val_accuracy: 0.9019\n",
            "Epoch 31/65\n",
            "56/56 [==============================] - 40s 705ms/step - loss: 0.1383 - accuracy: 0.9587 - val_loss: 0.3739 - val_accuracy: 0.9125\n",
            "Epoch 32/65\n",
            "56/56 [==============================] - 39s 703ms/step - loss: 0.1216 - accuracy: 0.9581 - val_loss: 0.3448 - val_accuracy: 0.9178\n",
            "Epoch 33/65\n",
            "56/56 [==============================] - 39s 700ms/step - loss: 0.1325 - accuracy: 0.9587 - val_loss: 0.3985 - val_accuracy: 0.9019\n",
            "Epoch 34/65\n",
            "56/56 [==============================] - 40s 716ms/step - loss: 0.1243 - accuracy: 0.9575 - val_loss: 0.4046 - val_accuracy: 0.9045\n",
            "Epoch 35/65\n",
            "56/56 [==============================] - 40s 706ms/step - loss: 0.1209 - accuracy: 0.9609 - val_loss: 0.4166 - val_accuracy: 0.8912\n",
            "Epoch 36/65\n",
            "56/56 [==============================] - 39s 701ms/step - loss: 0.1254 - accuracy: 0.9621 - val_loss: 0.4023 - val_accuracy: 0.9125\n",
            "Epoch 37/65\n",
            "56/56 [==============================] - 40s 707ms/step - loss: 0.1109 - accuracy: 0.9621 - val_loss: 0.4366 - val_accuracy: 0.8966\n",
            "Epoch 38/65\n",
            "56/56 [==============================] - 39s 701ms/step - loss: 0.0964 - accuracy: 0.9694 - val_loss: 0.3957 - val_accuracy: 0.9019\n",
            "Epoch 39/65\n",
            "56/56 [==============================] - 39s 698ms/step - loss: 0.1164 - accuracy: 0.9689 - val_loss: 0.4097 - val_accuracy: 0.9178\n",
            "Epoch 40/65\n",
            "56/56 [==============================] - 40s 711ms/step - loss: 0.1252 - accuracy: 0.9621 - val_loss: 0.4050 - val_accuracy: 0.9098\n",
            "Epoch 41/65\n",
            "56/56 [==============================] - 40s 721ms/step - loss: 0.1191 - accuracy: 0.9655 - val_loss: 0.4126 - val_accuracy: 0.9178\n",
            "Epoch 42/65\n",
            "56/56 [==============================] - 40s 715ms/step - loss: 0.0983 - accuracy: 0.9717 - val_loss: 0.3723 - val_accuracy: 0.9178\n",
            "Epoch 43/65\n",
            "56/56 [==============================] - 40s 707ms/step - loss: 0.0927 - accuracy: 0.9706 - val_loss: 0.4770 - val_accuracy: 0.8939\n",
            "Epoch 44/65\n",
            "56/56 [==============================] - 40s 709ms/step - loss: 0.1195 - accuracy: 0.9643 - val_loss: 0.4164 - val_accuracy: 0.9098\n",
            "Epoch 45/65\n",
            "56/56 [==============================] - 40s 708ms/step - loss: 0.1165 - accuracy: 0.9655 - val_loss: 0.4635 - val_accuracy: 0.8992\n",
            "Epoch 46/65\n",
            "56/56 [==============================] - 40s 708ms/step - loss: 0.0991 - accuracy: 0.9706 - val_loss: 0.4863 - val_accuracy: 0.9019\n",
            "Epoch 47/65\n",
            "56/56 [==============================] - 40s 711ms/step - loss: 0.0832 - accuracy: 0.9757 - val_loss: 0.4082 - val_accuracy: 0.9178\n",
            "Epoch 48/65\n",
            "56/56 [==============================] - 40s 705ms/step - loss: 0.1035 - accuracy: 0.9694 - val_loss: 0.3896 - val_accuracy: 0.9151\n",
            "Epoch 49/65\n",
            "56/56 [==============================] - 40s 708ms/step - loss: 0.1153 - accuracy: 0.9655 - val_loss: 0.4671 - val_accuracy: 0.8966\n",
            "Epoch 50/65\n",
            "56/56 [==============================] - 40s 705ms/step - loss: 0.1105 - accuracy: 0.9655 - val_loss: 0.4576 - val_accuracy: 0.9098\n",
            "Epoch 51/65\n",
            "56/56 [==============================] - 39s 703ms/step - loss: 0.1000 - accuracy: 0.9706 - val_loss: 0.4192 - val_accuracy: 0.9257\n",
            "Epoch 52/65\n",
            "56/56 [==============================] - 40s 707ms/step - loss: 0.0707 - accuracy: 0.9790 - val_loss: 0.4547 - val_accuracy: 0.9204\n",
            "Epoch 53/65\n",
            "56/56 [==============================] - 40s 713ms/step - loss: 0.1115 - accuracy: 0.9638 - val_loss: 0.3798 - val_accuracy: 0.9337\n",
            "Epoch 54/65\n",
            "56/56 [==============================] - 40s 705ms/step - loss: 0.0779 - accuracy: 0.9728 - val_loss: 0.4555 - val_accuracy: 0.9204\n",
            "Epoch 55/65\n",
            "56/56 [==============================] - 40s 705ms/step - loss: 0.1018 - accuracy: 0.9672 - val_loss: 0.3940 - val_accuracy: 0.9231\n",
            "Epoch 56/65\n",
            "56/56 [==============================] - 40s 706ms/step - loss: 0.0895 - accuracy: 0.9706 - val_loss: 0.4460 - val_accuracy: 0.9098\n",
            "Epoch 57/65\n",
            "56/56 [==============================] - 41s 728ms/step - loss: 0.0803 - accuracy: 0.9773 - val_loss: 0.4759 - val_accuracy: 0.8992\n",
            "Epoch 58/65\n",
            "56/56 [==============================] - 41s 731ms/step - loss: 0.0940 - accuracy: 0.9740 - val_loss: 0.3585 - val_accuracy: 0.9178\n",
            "Epoch 59/65\n",
            "56/56 [==============================] - 40s 708ms/step - loss: 0.0759 - accuracy: 0.9773 - val_loss: 0.4500 - val_accuracy: 0.9019\n",
            "Epoch 60/65\n",
            "56/56 [==============================] - 40s 707ms/step - loss: 0.0718 - accuracy: 0.9807 - val_loss: 0.3685 - val_accuracy: 0.9098\n",
            "Epoch 61/65\n",
            "56/56 [==============================] - 40s 705ms/step - loss: 0.0985 - accuracy: 0.9706 - val_loss: 0.3972 - val_accuracy: 0.8966\n",
            "Epoch 62/65\n",
            "56/56 [==============================] - 40s 705ms/step - loss: 0.0700 - accuracy: 0.9751 - val_loss: 0.4272 - val_accuracy: 0.9072\n",
            "Epoch 63/65\n",
            "56/56 [==============================] - 40s 717ms/step - loss: 0.1046 - accuracy: 0.9740 - val_loss: 0.4177 - val_accuracy: 0.9019\n",
            "Epoch 64/65\n",
            "56/56 [==============================] - 41s 735ms/step - loss: 0.0572 - accuracy: 0.9830 - val_loss: 0.4010 - val_accuracy: 0.9125\n",
            "Epoch 65/65\n",
            "56/56 [==============================] - 40s 712ms/step - loss: 0.0658 - accuracy: 0.9802 - val_loss: 0.4568 - val_accuracy: 0.9125\n"
          ]
        },
        {
          "name": "stderr",
          "output_type": "stream",
          "text": [
            "/usr/local/lib/python3.7/dist-packages/keras/engine/functional.py:1410: CustomMaskWarning: Custom mask layers require a config and must override get_config. When loading, the custom mask layer must be passed to the custom_objects argument.\n",
            "  layer_config = serialize_layer_fn(layer)\n"
          ]
        }
      ],
      "source": [
        "startTime=time.time()\n",
        "history = model_resnet50.fit(train_generator, epochs = epochs_nb, validation_data  = validation_generator)\n",
        "executionTime = (time.time() - startTime)\n",
        "model_resnet50.save(f'./Modeles/{modelName}.h5')"
      ]
    },
    {
      "cell_type": "code",
      "execution_count": null,
      "metadata": {
        "colab": {
          "base_uri": "https://localhost:8080/"
        },
        "id": "dLv8Eu4hDz04",
        "outputId": "1dc40912-330e-450c-ff8b-90b8d5deb1ae"
      },
      "outputs": [
        {
          "name": "stdout",
          "output_type": "stream",
          "text": [
            "Durée d'entraînement : 2592 secondes\n",
            "\n",
            "Performances sur le set de test : \n",
            "\n",
            "   accuracy  precision    recall  f1-score\n",
            "0  0.885417   0.887026  0.885417  0.884463\n"
          ]
        }
      ],
      "source": [
        "study_model(model_resnet50, labels, test_generator, executionTime)"
      ]
    },
    {
      "cell_type": "markdown",
      "metadata": {
        "id": "hFjqJcl6Fjsc"
      },
      "source": [
        "Les performances de ResNet50 surpassent largement celles de VGG16 et VGG19 car nous arrivons à une **accuracy de 88,5%** (contre 83% et 82,5%)."
      ]
    },
    {
      "cell_type": "markdown",
      "metadata": {
        "id": "WSQpanxtGHIN"
      },
      "source": [
        "## Xception"
      ]
    },
    {
      "cell_type": "code",
      "execution_count": null,
      "metadata": {
        "colab": {
          "base_uri": "https://localhost:8080/"
        },
        "id": "5GGiobpjGNa0",
        "outputId": "44a5c7cf-606a-4e8d-8b41-eb245090604e"
      },
      "outputs": [
        {
          "name": "stdout",
          "output_type": "stream",
          "text": [
            "Found 1766 images belonging to 6 classes.\n",
            "Found 384 images belonging to 6 classes.\n",
            "Found 377 images belonging to 6 classes.\n",
            "Downloading data from https://storage.googleapis.com/tensorflow/keras-applications/xception/xception_weights_tf_dim_ordering_tf_kernels_notop.h5\n",
            "83689472/83683744 [==============================] - 1s 0us/step\n",
            "83697664/83683744 [==============================] - 1s 0us/step\n"
          ]
        }
      ],
      "source": [
        "modelName = \"Xception\"\n",
        "\n",
        "input_shape, train_generator, test_generator, validation_generator =  makeGenerators(modelName, inputFolder, batch_size)\n",
        "model = Xception(include_top = False, weights = 'imagenet', input_shape = input_shape)\n",
        "model_xception = Architecture(model, nClasses)\n",
        "model_xception.compile(loss='categorical_crossentropy', optimizer=keras.optimizers.RMSprop(learning_rate=2e-5), metrics=['accuracy'])"
      ]
    },
    {
      "cell_type": "code",
      "execution_count": null,
      "metadata": {
        "colab": {
          "base_uri": "https://localhost:8080/"
        },
        "id": "v7BgNfd_GXbd",
        "outputId": "d59e5f11-d993-4e3b-8a6e-b69deddf1ca6"
      },
      "outputs": [
        {
          "name": "stdout",
          "output_type": "stream",
          "text": [
            "Epoch 1/65\n",
            "56/56 [==============================] - 451s 8s/step - loss: 0.8667 - accuracy: 0.6971 - val_loss: 0.5361 - val_accuracy: 0.8090\n",
            "Epoch 2/65\n",
            "56/56 [==============================] - 69s 1s/step - loss: 0.5406 - accuracy: 0.8024 - val_loss: 0.4174 - val_accuracy: 0.8541\n",
            "Epoch 3/65\n",
            "56/56 [==============================] - 70s 1s/step - loss: 0.4489 - accuracy: 0.8409 - val_loss: 0.4657 - val_accuracy: 0.8515\n",
            "Epoch 4/65\n",
            "56/56 [==============================] - 68s 1s/step - loss: 0.4267 - accuracy: 0.8460 - val_loss: 0.4083 - val_accuracy: 0.8674\n",
            "Epoch 5/65\n",
            "56/56 [==============================] - 68s 1s/step - loss: 0.3474 - accuracy: 0.8681 - val_loss: 0.5582 - val_accuracy: 0.8276\n",
            "Epoch 6/65\n",
            "56/56 [==============================] - 68s 1s/step - loss: 0.3323 - accuracy: 0.8845 - val_loss: 0.4224 - val_accuracy: 0.8488\n",
            "Epoch 7/65\n",
            "56/56 [==============================] - 68s 1s/step - loss: 0.3390 - accuracy: 0.8918 - val_loss: 0.4507 - val_accuracy: 0.8621\n",
            "Epoch 8/65\n",
            "56/56 [==============================] - 67s 1s/step - loss: 0.3139 - accuracy: 0.8867 - val_loss: 0.4874 - val_accuracy: 0.8408\n",
            "Epoch 9/65\n",
            "56/56 [==============================] - 68s 1s/step - loss: 0.2892 - accuracy: 0.8998 - val_loss: 0.3683 - val_accuracy: 0.8939\n",
            "Epoch 10/65\n",
            "56/56 [==============================] - 69s 1s/step - loss: 0.2687 - accuracy: 0.9066 - val_loss: 0.3593 - val_accuracy: 0.9019\n",
            "Epoch 11/65\n",
            "56/56 [==============================] - 70s 1s/step - loss: 0.2478 - accuracy: 0.9196 - val_loss: 0.3638 - val_accuracy: 0.8966\n",
            "Epoch 12/65\n",
            "56/56 [==============================] - 69s 1s/step - loss: 0.2415 - accuracy: 0.9156 - val_loss: 0.3415 - val_accuracy: 0.8966\n",
            "Epoch 13/65\n",
            "56/56 [==============================] - 68s 1s/step - loss: 0.2302 - accuracy: 0.9213 - val_loss: 0.3827 - val_accuracy: 0.8912\n",
            "Epoch 14/65\n",
            "56/56 [==============================] - 67s 1s/step - loss: 0.2390 - accuracy: 0.9168 - val_loss: 0.3625 - val_accuracy: 0.9045\n",
            "Epoch 15/65\n",
            "56/56 [==============================] - 67s 1s/step - loss: 0.2040 - accuracy: 0.9219 - val_loss: 0.3612 - val_accuracy: 0.8886\n",
            "Epoch 16/65\n",
            "56/56 [==============================] - 68s 1s/step - loss: 0.2202 - accuracy: 0.9202 - val_loss: 0.4550 - val_accuracy: 0.8647\n",
            "Epoch 17/65\n",
            "56/56 [==============================] - 68s 1s/step - loss: 0.2018 - accuracy: 0.9275 - val_loss: 0.4814 - val_accuracy: 0.8780\n",
            "Epoch 18/65\n",
            "56/56 [==============================] - 67s 1s/step - loss: 0.1911 - accuracy: 0.9270 - val_loss: 0.4124 - val_accuracy: 0.8700\n",
            "Epoch 19/65\n",
            "56/56 [==============================] - 67s 1s/step - loss: 0.1878 - accuracy: 0.9360 - val_loss: 0.4231 - val_accuracy: 0.8992\n",
            "Epoch 20/65\n",
            "56/56 [==============================] - 67s 1s/step - loss: 0.1486 - accuracy: 0.9451 - val_loss: 0.4076 - val_accuracy: 0.8886\n",
            "Epoch 21/65\n",
            "56/56 [==============================] - 67s 1s/step - loss: 0.1632 - accuracy: 0.9422 - val_loss: 0.4590 - val_accuracy: 0.8859\n",
            "Epoch 22/65\n",
            "56/56 [==============================] - 66s 1s/step - loss: 0.1696 - accuracy: 0.9422 - val_loss: 0.4105 - val_accuracy: 0.8939\n",
            "Epoch 23/65\n",
            "56/56 [==============================] - 67s 1s/step - loss: 0.1568 - accuracy: 0.9417 - val_loss: 0.3830 - val_accuracy: 0.8992\n",
            "Epoch 24/65\n",
            "56/56 [==============================] - 67s 1s/step - loss: 0.1451 - accuracy: 0.9513 - val_loss: 0.4201 - val_accuracy: 0.8727\n",
            "Epoch 25/65\n",
            "56/56 [==============================] - 67s 1s/step - loss: 0.1476 - accuracy: 0.9479 - val_loss: 0.4903 - val_accuracy: 0.8700\n",
            "Epoch 26/65\n",
            "56/56 [==============================] - 67s 1s/step - loss: 0.1484 - accuracy: 0.9468 - val_loss: 0.4481 - val_accuracy: 0.8727\n",
            "Epoch 27/65\n",
            "56/56 [==============================] - 66s 1s/step - loss: 0.1295 - accuracy: 0.9547 - val_loss: 0.3953 - val_accuracy: 0.9045\n",
            "Epoch 28/65\n",
            "56/56 [==============================] - 67s 1s/step - loss: 0.1356 - accuracy: 0.9547 - val_loss: 0.4527 - val_accuracy: 0.8992\n",
            "Epoch 29/65\n",
            "56/56 [==============================] - 67s 1s/step - loss: 0.1442 - accuracy: 0.9536 - val_loss: 0.4456 - val_accuracy: 0.8833\n",
            "Epoch 30/65\n",
            "56/56 [==============================] - 67s 1s/step - loss: 0.1353 - accuracy: 0.9598 - val_loss: 0.4720 - val_accuracy: 0.8833\n",
            "Epoch 31/65\n",
            "56/56 [==============================] - 67s 1s/step - loss: 0.1273 - accuracy: 0.9575 - val_loss: 0.4426 - val_accuracy: 0.8833\n",
            "Epoch 32/65\n",
            "56/56 [==============================] - 67s 1s/step - loss: 0.1355 - accuracy: 0.9564 - val_loss: 0.4639 - val_accuracy: 0.8912\n",
            "Epoch 33/65\n",
            "56/56 [==============================] - 67s 1s/step - loss: 0.1148 - accuracy: 0.9570 - val_loss: 0.4574 - val_accuracy: 0.8859\n",
            "Epoch 34/65\n",
            "56/56 [==============================] - 67s 1s/step - loss: 0.0899 - accuracy: 0.9643 - val_loss: 0.4814 - val_accuracy: 0.8727\n",
            "Epoch 35/65\n",
            "56/56 [==============================] - 67s 1s/step - loss: 0.1210 - accuracy: 0.9581 - val_loss: 0.3833 - val_accuracy: 0.9072\n",
            "Epoch 36/65\n",
            "56/56 [==============================] - 69s 1s/step - loss: 0.1158 - accuracy: 0.9581 - val_loss: 0.4538 - val_accuracy: 0.8859\n",
            "Epoch 37/65\n",
            "56/56 [==============================] - 69s 1s/step - loss: 0.1351 - accuracy: 0.9479 - val_loss: 0.4506 - val_accuracy: 0.8753\n",
            "Epoch 38/65\n",
            "56/56 [==============================] - 69s 1s/step - loss: 0.1023 - accuracy: 0.9655 - val_loss: 0.4647 - val_accuracy: 0.9125\n",
            "Epoch 39/65\n",
            "56/56 [==============================] - 69s 1s/step - loss: 0.1154 - accuracy: 0.9609 - val_loss: 0.4349 - val_accuracy: 0.9178\n",
            "Epoch 40/65\n",
            "56/56 [==============================] - 68s 1s/step - loss: 0.1089 - accuracy: 0.9660 - val_loss: 0.5448 - val_accuracy: 0.8939\n",
            "Epoch 41/65\n",
            "56/56 [==============================] - 69s 1s/step - loss: 0.0781 - accuracy: 0.9706 - val_loss: 0.5227 - val_accuracy: 0.8939\n",
            "Epoch 42/65\n",
            "56/56 [==============================] - 68s 1s/step - loss: 0.0887 - accuracy: 0.9717 - val_loss: 0.5050 - val_accuracy: 0.8992\n",
            "Epoch 43/65\n",
            "56/56 [==============================] - 68s 1s/step - loss: 0.1002 - accuracy: 0.9638 - val_loss: 0.5534 - val_accuracy: 0.8992\n",
            "Epoch 44/65\n",
            "56/56 [==============================] - 67s 1s/step - loss: 0.1060 - accuracy: 0.9689 - val_loss: 0.4460 - val_accuracy: 0.8992\n",
            "Epoch 45/65\n",
            "56/56 [==============================] - 67s 1s/step - loss: 0.0960 - accuracy: 0.9632 - val_loss: 0.5205 - val_accuracy: 0.8939\n",
            "Epoch 46/65\n",
            "56/56 [==============================] - 67s 1s/step - loss: 0.1107 - accuracy: 0.9609 - val_loss: 0.4494 - val_accuracy: 0.9072\n",
            "Epoch 47/65\n",
            "56/56 [==============================] - 68s 1s/step - loss: 0.0758 - accuracy: 0.9734 - val_loss: 0.5484 - val_accuracy: 0.8912\n",
            "Epoch 48/65\n",
            "56/56 [==============================] - 68s 1s/step - loss: 0.0978 - accuracy: 0.9643 - val_loss: 0.4245 - val_accuracy: 0.9045\n",
            "Epoch 49/65\n",
            "56/56 [==============================] - 67s 1s/step - loss: 0.0748 - accuracy: 0.9728 - val_loss: 0.4945 - val_accuracy: 0.9045\n",
            "Epoch 50/65\n",
            "56/56 [==============================] - 67s 1s/step - loss: 0.1010 - accuracy: 0.9615 - val_loss: 0.5082 - val_accuracy: 0.8912\n",
            "Epoch 51/65\n",
            "56/56 [==============================] - 67s 1s/step - loss: 0.0820 - accuracy: 0.9711 - val_loss: 0.4674 - val_accuracy: 0.8966\n",
            "Epoch 52/65\n",
            "56/56 [==============================] - 67s 1s/step - loss: 0.0988 - accuracy: 0.9711 - val_loss: 0.4673 - val_accuracy: 0.8966\n",
            "Epoch 53/65\n",
            "56/56 [==============================] - 67s 1s/step - loss: 0.0754 - accuracy: 0.9790 - val_loss: 0.5060 - val_accuracy: 0.8859\n",
            "Epoch 54/65\n",
            "56/56 [==============================] - 67s 1s/step - loss: 0.0777 - accuracy: 0.9740 - val_loss: 0.5326 - val_accuracy: 0.8912\n",
            "Epoch 55/65\n",
            "56/56 [==============================] - 67s 1s/step - loss: 0.0732 - accuracy: 0.9723 - val_loss: 0.4219 - val_accuracy: 0.8912\n",
            "Epoch 56/65\n",
            "56/56 [==============================] - 67s 1s/step - loss: 0.0914 - accuracy: 0.9700 - val_loss: 0.6114 - val_accuracy: 0.8886\n",
            "Epoch 57/65\n",
            "56/56 [==============================] - 67s 1s/step - loss: 0.0848 - accuracy: 0.9740 - val_loss: 0.5445 - val_accuracy: 0.8912\n",
            "Epoch 58/65\n",
            "56/56 [==============================] - 67s 1s/step - loss: 0.0663 - accuracy: 0.9751 - val_loss: 0.5208 - val_accuracy: 0.8992\n",
            "Epoch 59/65\n",
            "56/56 [==============================] - 67s 1s/step - loss: 0.0719 - accuracy: 0.9779 - val_loss: 0.5170 - val_accuracy: 0.8992\n",
            "Epoch 60/65\n",
            "56/56 [==============================] - 67s 1s/step - loss: 0.0805 - accuracy: 0.9734 - val_loss: 0.4918 - val_accuracy: 0.9125\n",
            "Epoch 61/65\n",
            "56/56 [==============================] - 67s 1s/step - loss: 0.0845 - accuracy: 0.9745 - val_loss: 0.5175 - val_accuracy: 0.8912\n",
            "Epoch 62/65\n",
            "56/56 [==============================] - 67s 1s/step - loss: 0.0734 - accuracy: 0.9768 - val_loss: 0.5209 - val_accuracy: 0.8966\n",
            "Epoch 63/65\n",
            "56/56 [==============================] - 67s 1s/step - loss: 0.0819 - accuracy: 0.9734 - val_loss: 0.5052 - val_accuracy: 0.9072\n",
            "Epoch 64/65\n",
            "56/56 [==============================] - 67s 1s/step - loss: 0.0699 - accuracy: 0.9757 - val_loss: 0.4886 - val_accuracy: 0.9019\n",
            "Epoch 65/65\n",
            "56/56 [==============================] - 67s 1s/step - loss: 0.0677 - accuracy: 0.9762 - val_loss: 0.5104 - val_accuracy: 0.9045\n"
          ]
        },
        {
          "name": "stderr",
          "output_type": "stream",
          "text": [
            "/usr/local/lib/python3.7/dist-packages/keras/engine/functional.py:1410: CustomMaskWarning: Custom mask layers require a config and must override get_config. When loading, the custom mask layer must be passed to the custom_objects argument.\n",
            "  layer_config = serialize_layer_fn(layer)\n"
          ]
        }
      ],
      "source": [
        "startTime=time.time()\n",
        "history = model_xception.fit(train_generator, epochs = epochs_nb, validation_data  = validation_generator)\n",
        "executionTime = (time.time() - startTime)\n",
        "model_xception.save(f'./Modeles/{modelName}.h5')"
      ]
    },
    {
      "cell_type": "code",
      "execution_count": null,
      "metadata": {
        "colab": {
          "base_uri": "https://localhost:8080/"
        },
        "id": "ucoM-HuoY7on",
        "outputId": "378296f9-ea3a-464b-d80c-9bd3dba3a293"
      },
      "outputs": [
        {
          "name": "stdout",
          "output_type": "stream",
          "text": [
            "Durée d'entraînement : 4824.38 secondes\n",
            "\n",
            "Performances sur le set de test : \n",
            "\n",
            "   accuracy  precision    recall  f1-score\n",
            "0  0.869792    0.86912  0.869792   0.86805\n"
          ]
        }
      ],
      "source": [
        "study_model(model_xception, labels, test_generator, executionTime)"
      ]
    },
    {
      "cell_type": "code",
      "execution_count": null,
      "metadata": {
        "colab": {
          "base_uri": "https://localhost:8080/",
          "height": 349
        },
        "id": "ne92kYPeZCwV",
        "outputId": "7670efce-d6e0-4c85-e457-13e70280415b"
      },
      "outputs": [
        {
          "data": {
            "image/png": "[encoded data removed]",
            "text/plain": [
              "<Figure size 1080x360 with 2 Axes>"
            ]
          },
          "metadata": {
            "needs_background": "light"
          },
          "output_type": "display_data"
        }
      ],
      "source": [
        "plot_accuracy_loss(history)"
      ]
    },
    {
      "cell_type": "markdown",
      "metadata": {
        "id": "IfHbt1BrpDki"
      },
      "source": [
        "L'accuracy atteint presque les 87%."
      ]
    },
    {
      "cell_type": "markdown",
      "metadata": {
        "id": "LHPHQmLGLbz6"
      },
      "source": [
        "## InceptionV3"
      ]
    },
    {
      "cell_type": "code",
      "execution_count": null,
      "metadata": {
        "colab": {
          "base_uri": "https://localhost:8080/"
        },
        "id": "ze5S7HeDLfh2",
        "outputId": "ed342356-9ca6-4947-fe9a-4560e6f8852e"
      },
      "outputs": [
        {
          "name": "stdout",
          "output_type": "stream",
          "text": [
            "Found 1766 images belonging to 6 classes.\n",
            "Found 384 images belonging to 6 classes.\n",
            "Found 377 images belonging to 6 classes.\n",
            "Downloading data from https://storage.googleapis.com/tensorflow/keras-applications/inception_v3/inception_v3_weights_tf_dim_ordering_tf_kernels_notop.h5\n",
            "87916544/87910968 [==============================] - 2s 0us/step\n",
            "87924736/87910968 [==============================] - 2s 0us/step\n"
          ]
        }
      ],
      "source": [
        "modelName = \"InceptionV3\"\n",
        "\n",
        "input_shape, train_generator, test_generator, validation_generator =  makeGenerators(modelName, inputFolder, batch_size)\n",
        "model = InceptionV3(include_top = False, weights = 'imagenet', input_shape = input_shape)\n",
        "model_inceptionv3 = Architecture(model, nClasses)\n",
        "model_inceptionv3.compile(loss='categorical_crossentropy', optimizer=keras.optimizers.RMSprop(learning_rate=2e-5), metrics=['accuracy'])"
      ]
    },
    {
      "cell_type": "code",
      "execution_count": null,
      "metadata": {
        "colab": {
          "base_uri": "https://localhost:8080/"
        },
        "id": "h-c6eDHPLspb",
        "outputId": "4578b80c-ced1-4afc-ae11-bd7393331246"
      },
      "outputs": [
        {
          "name": "stdout",
          "output_type": "stream",
          "text": [
            "Epoch 1/65\n",
            "56/56 [==============================] - 463s 8s/step - loss: 1.3342 - accuracy: 0.5963 - val_loss: 0.7274 - val_accuracy: 0.7321\n",
            "Epoch 2/65\n",
            "56/56 [==============================] - 48s 860ms/step - loss: 0.7466 - accuracy: 0.7339 - val_loss: 0.4984 - val_accuracy: 0.8170\n",
            "Epoch 3/65\n",
            "56/56 [==============================] - 48s 851ms/step - loss: 0.6064 - accuracy: 0.7803 - val_loss: 0.5334 - val_accuracy: 0.8064\n",
            "Epoch 4/65\n",
            "56/56 [==============================] - 48s 848ms/step - loss: 0.5913 - accuracy: 0.7945 - val_loss: 0.5791 - val_accuracy: 0.7772\n",
            "Epoch 5/65\n",
            "56/56 [==============================] - 47s 847ms/step - loss: 0.5510 - accuracy: 0.8046 - val_loss: 0.5176 - val_accuracy: 0.8276\n",
            "Epoch 6/65\n",
            "56/56 [==============================] - 47s 844ms/step - loss: 0.5047 - accuracy: 0.8250 - val_loss: 0.5305 - val_accuracy: 0.8249\n",
            "Epoch 7/65\n",
            "56/56 [==============================] - 48s 847ms/step - loss: 0.4735 - accuracy: 0.8347 - val_loss: 0.5679 - val_accuracy: 0.7984\n",
            "Epoch 8/65\n",
            "56/56 [==============================] - 48s 849ms/step - loss: 0.4651 - accuracy: 0.8369 - val_loss: 0.5071 - val_accuracy: 0.8276\n",
            "Epoch 9/65\n",
            "56/56 [==============================] - 47s 842ms/step - loss: 0.4363 - accuracy: 0.8488 - val_loss: 0.4289 - val_accuracy: 0.8515\n",
            "Epoch 10/65\n",
            "56/56 [==============================] - 47s 844ms/step - loss: 0.4556 - accuracy: 0.8347 - val_loss: 0.5499 - val_accuracy: 0.8302\n",
            "Epoch 11/65\n",
            "56/56 [==============================] - 47s 842ms/step - loss: 0.3857 - accuracy: 0.8607 - val_loss: 0.4439 - val_accuracy: 0.8594\n",
            "Epoch 12/65\n",
            "56/56 [==============================] - 47s 838ms/step - loss: 0.3834 - accuracy: 0.8630 - val_loss: 0.4328 - val_accuracy: 0.8515\n",
            "Epoch 13/65\n",
            "56/56 [==============================] - 47s 845ms/step - loss: 0.3654 - accuracy: 0.8726 - val_loss: 0.4159 - val_accuracy: 0.8700\n",
            "Epoch 14/65\n",
            "56/56 [==============================] - 48s 850ms/step - loss: 0.3607 - accuracy: 0.8720 - val_loss: 0.4106 - val_accuracy: 0.8727\n",
            "Epoch 15/65\n",
            "56/56 [==============================] - 48s 847ms/step - loss: 0.3685 - accuracy: 0.8681 - val_loss: 0.4222 - val_accuracy: 0.8700\n",
            "Epoch 16/65\n",
            "56/56 [==============================] - 48s 850ms/step - loss: 0.3284 - accuracy: 0.8867 - val_loss: 0.4787 - val_accuracy: 0.8515\n",
            "Epoch 17/65\n",
            "56/56 [==============================] - 47s 842ms/step - loss: 0.3498 - accuracy: 0.8726 - val_loss: 0.4435 - val_accuracy: 0.8647\n",
            "Epoch 18/65\n",
            "56/56 [==============================] - 47s 843ms/step - loss: 0.2855 - accuracy: 0.8947 - val_loss: 0.5082 - val_accuracy: 0.8621\n",
            "Epoch 19/65\n",
            "56/56 [==============================] - 47s 847ms/step - loss: 0.2851 - accuracy: 0.9003 - val_loss: 0.4707 - val_accuracy: 0.8621\n",
            "Epoch 20/65\n",
            "56/56 [==============================] - 47s 844ms/step - loss: 0.3007 - accuracy: 0.9026 - val_loss: 0.3932 - val_accuracy: 0.8700\n",
            "Epoch 21/65\n",
            "56/56 [==============================] - 47s 843ms/step - loss: 0.3022 - accuracy: 0.8947 - val_loss: 0.4777 - val_accuracy: 0.8727\n",
            "Epoch 22/65\n",
            "56/56 [==============================] - 47s 842ms/step - loss: 0.3068 - accuracy: 0.8947 - val_loss: 0.3749 - val_accuracy: 0.8912\n",
            "Epoch 23/65\n",
            "56/56 [==============================] - 47s 856ms/step - loss: 0.2904 - accuracy: 0.9026 - val_loss: 0.3793 - val_accuracy: 0.8886\n",
            "Epoch 24/65\n",
            "56/56 [==============================] - 47s 843ms/step - loss: 0.2821 - accuracy: 0.9049 - val_loss: 0.4172 - val_accuracy: 0.8886\n",
            "Epoch 25/65\n",
            "56/56 [==============================] - 47s 843ms/step - loss: 0.2755 - accuracy: 0.9111 - val_loss: 0.4143 - val_accuracy: 0.8859\n",
            "Epoch 26/65\n",
            "56/56 [==============================] - 47s 843ms/step - loss: 0.2386 - accuracy: 0.9190 - val_loss: 0.4164 - val_accuracy: 0.8806\n",
            "Epoch 27/65\n",
            "56/56 [==============================] - 48s 849ms/step - loss: 0.2740 - accuracy: 0.9088 - val_loss: 0.4813 - val_accuracy: 0.8568\n",
            "Epoch 28/65\n",
            "56/56 [==============================] - 47s 845ms/step - loss: 0.2642 - accuracy: 0.9043 - val_loss: 0.4723 - val_accuracy: 0.8568\n",
            "Epoch 29/65\n",
            "56/56 [==============================] - 47s 842ms/step - loss: 0.2361 - accuracy: 0.9139 - val_loss: 0.4688 - val_accuracy: 0.8594\n",
            "Epoch 30/65\n",
            "56/56 [==============================] - 47s 843ms/step - loss: 0.2191 - accuracy: 0.9173 - val_loss: 0.5224 - val_accuracy: 0.8727\n",
            "Epoch 31/65\n",
            "56/56 [==============================] - 47s 841ms/step - loss: 0.2492 - accuracy: 0.9156 - val_loss: 0.4475 - val_accuracy: 0.8727\n",
            "Epoch 32/65\n",
            "56/56 [==============================] - 47s 844ms/step - loss: 0.2483 - accuracy: 0.9066 - val_loss: 0.4895 - val_accuracy: 0.8568\n",
            "Epoch 33/65\n",
            "56/56 [==============================] - 48s 847ms/step - loss: 0.2122 - accuracy: 0.9230 - val_loss: 0.5384 - val_accuracy: 0.8647\n",
            "Epoch 34/65\n",
            "56/56 [==============================] - 47s 842ms/step - loss: 0.2399 - accuracy: 0.9185 - val_loss: 0.4425 - val_accuracy: 0.8541\n",
            "Epoch 35/65\n",
            "56/56 [==============================] - 47s 844ms/step - loss: 0.2329 - accuracy: 0.9264 - val_loss: 0.4712 - val_accuracy: 0.8541\n",
            "Epoch 36/65\n",
            "56/56 [==============================] - 47s 846ms/step - loss: 0.2168 - accuracy: 0.9236 - val_loss: 0.6021 - val_accuracy: 0.8435\n",
            "Epoch 37/65\n",
            "56/56 [==============================] - 47s 843ms/step - loss: 0.2091 - accuracy: 0.9281 - val_loss: 0.4336 - val_accuracy: 0.8753\n",
            "Epoch 38/65\n",
            "56/56 [==============================] - 47s 847ms/step - loss: 0.2253 - accuracy: 0.9179 - val_loss: 0.4480 - val_accuracy: 0.8753\n",
            "Epoch 39/65\n",
            "56/56 [==============================] - 47s 846ms/step - loss: 0.1801 - accuracy: 0.9349 - val_loss: 0.4562 - val_accuracy: 0.8886\n",
            "Epoch 40/65\n",
            "56/56 [==============================] - 47s 843ms/step - loss: 0.1598 - accuracy: 0.9507 - val_loss: 0.5010 - val_accuracy: 0.8753\n",
            "Epoch 41/65\n",
            "56/56 [==============================] - 47s 841ms/step - loss: 0.2024 - accuracy: 0.9309 - val_loss: 0.4270 - val_accuracy: 0.8966\n",
            "Epoch 42/65\n",
            "56/56 [==============================] - 47s 841ms/step - loss: 0.1924 - accuracy: 0.9304 - val_loss: 0.4418 - val_accuracy: 0.8939\n",
            "Epoch 43/65\n",
            "56/56 [==============================] - 47s 842ms/step - loss: 0.1802 - accuracy: 0.9377 - val_loss: 0.4803 - val_accuracy: 0.8568\n",
            "Epoch 44/65\n",
            "56/56 [==============================] - 47s 843ms/step - loss: 0.1979 - accuracy: 0.9320 - val_loss: 0.3815 - val_accuracy: 0.9045\n",
            "Epoch 45/65\n",
            "56/56 [==============================] - 47s 842ms/step - loss: 0.1948 - accuracy: 0.9315 - val_loss: 0.4445 - val_accuracy: 0.8886\n",
            "Epoch 46/65\n",
            "56/56 [==============================] - 47s 841ms/step - loss: 0.2094 - accuracy: 0.9230 - val_loss: 0.4572 - val_accuracy: 0.8859\n",
            "Epoch 47/65\n",
            "56/56 [==============================] - 47s 841ms/step - loss: 0.1689 - accuracy: 0.9394 - val_loss: 0.4865 - val_accuracy: 0.8939\n",
            "Epoch 48/65\n",
            "56/56 [==============================] - 47s 843ms/step - loss: 0.1846 - accuracy: 0.9366 - val_loss: 0.4324 - val_accuracy: 0.8939\n",
            "Epoch 49/65\n",
            "56/56 [==============================] - 47s 841ms/step - loss: 0.1956 - accuracy: 0.9332 - val_loss: 0.4324 - val_accuracy: 0.8859\n",
            "Epoch 50/65\n",
            "56/56 [==============================] - 47s 840ms/step - loss: 0.1718 - accuracy: 0.9445 - val_loss: 0.3592 - val_accuracy: 0.8859\n",
            "Epoch 51/65\n",
            "56/56 [==============================] - 47s 842ms/step - loss: 0.1712 - accuracy: 0.9445 - val_loss: 0.3799 - val_accuracy: 0.8859\n",
            "Epoch 52/65\n",
            "56/56 [==============================] - 47s 842ms/step - loss: 0.1752 - accuracy: 0.9371 - val_loss: 0.4363 - val_accuracy: 0.8806\n",
            "Epoch 53/65\n",
            "56/56 [==============================] - 47s 846ms/step - loss: 0.1933 - accuracy: 0.9383 - val_loss: 0.4755 - val_accuracy: 0.8753\n",
            "Epoch 54/65\n",
            "56/56 [==============================] - 48s 849ms/step - loss: 0.1690 - accuracy: 0.9519 - val_loss: 0.4357 - val_accuracy: 0.8966\n",
            "Epoch 55/65\n",
            "56/56 [==============================] - 47s 842ms/step - loss: 0.1698 - accuracy: 0.9428 - val_loss: 0.3844 - val_accuracy: 0.8886\n",
            "Epoch 56/65\n",
            "56/56 [==============================] - 47s 843ms/step - loss: 0.1674 - accuracy: 0.9456 - val_loss: 0.4099 - val_accuracy: 0.8912\n",
            "Epoch 57/65\n",
            "56/56 [==============================] - 47s 843ms/step - loss: 0.1756 - accuracy: 0.9400 - val_loss: 0.4104 - val_accuracy: 0.8939\n",
            "Epoch 58/65\n",
            "56/56 [==============================] - 47s 844ms/step - loss: 0.1669 - accuracy: 0.9451 - val_loss: 0.5764 - val_accuracy: 0.8355\n",
            "Epoch 59/65\n",
            "56/56 [==============================] - 47s 839ms/step - loss: 0.1727 - accuracy: 0.9411 - val_loss: 0.6243 - val_accuracy: 0.8462\n",
            "Epoch 60/65\n",
            "56/56 [==============================] - 47s 843ms/step - loss: 0.1701 - accuracy: 0.9405 - val_loss: 0.4457 - val_accuracy: 0.8833\n",
            "Epoch 61/65\n",
            "56/56 [==============================] - 47s 846ms/step - loss: 0.1498 - accuracy: 0.9496 - val_loss: 0.4342 - val_accuracy: 0.8859\n",
            "Epoch 62/65\n",
            "56/56 [==============================] - 47s 845ms/step - loss: 0.1771 - accuracy: 0.9502 - val_loss: 0.5000 - val_accuracy: 0.8700\n",
            "Epoch 63/65\n",
            "56/56 [==============================] - 47s 847ms/step - loss: 0.1206 - accuracy: 0.9564 - val_loss: 0.4316 - val_accuracy: 0.8859\n",
            "Epoch 64/65\n",
            "56/56 [==============================] - 47s 846ms/step - loss: 0.1659 - accuracy: 0.9445 - val_loss: 0.4381 - val_accuracy: 0.8780\n",
            "Epoch 65/65\n",
            "56/56 [==============================] - 47s 847ms/step - loss: 0.1681 - accuracy: 0.9496 - val_loss: 0.4690 - val_accuracy: 0.8647\n"
          ]
        }
      ],
      "source": [
        "startTime=time.time()\n",
        "history = model_inceptionv3.fit(train_generator, epochs = epochs_nb, validation_data  = validation_generator)\n",
        "executionTime = (time.time() - startTime)\n",
        "model_inceptionv3.save(f'./Modeles/{modelName}.h5')"
      ]
    },
    {
      "cell_type": "code",
      "execution_count": null,
      "metadata": {
        "colab": {
          "base_uri": "https://localhost:8080/"
        },
        "id": "2xU13ab3ZkBX",
        "outputId": "8d8752b1-aefc-48e1-dacf-6d1a670f6911"
      },
      "outputs": [
        {
          "name": "stdout",
          "output_type": "stream",
          "text": [
            "Durée d'entraînement : 3538.52 secondes\n",
            "\n",
            "Performances sur le set de test : \n",
            "\n",
            "   accuracy  precision    recall  f1-score\n",
            "0  0.867188   0.871581  0.867188  0.865813\n"
          ]
        }
      ],
      "source": [
        "study_model(model_inceptionv3, labels, test_generator, executionTime)"
      ]
    },
    {
      "cell_type": "code",
      "execution_count": null,
      "metadata": {
        "colab": {
          "base_uri": "https://localhost:8080/",
          "height": 349
        },
        "id": "IFCvI10oZpxN",
        "outputId": "3cb60d5b-c37a-42d8-935b-fb095a4ff901"
      },
      "outputs": [
        {
          "data": {
            "image/png": "[encoded data removed]",
            "text/plain": [
              "<Figure size 1080x360 with 2 Axes>"
            ]
          },
          "metadata": {
            "needs_background": "light"
          },
          "output_type": "display_data"
        }
      ],
      "source": [
        "plot_accuracy_loss(history)"
      ]
    },
    {
      "cell_type": "markdown",
      "metadata": {
        "id": "LDkoQD6Gwz0J"
      },
      "source": [
        "## InceptionResNetV2"
      ]
    },
    {
      "cell_type": "code",
      "execution_count": null,
      "metadata": {
        "colab": {
          "base_uri": "https://localhost:8080/"
        },
        "id": "Z_M02E8ow4l3",
        "outputId": "57488f16-cb3c-4a22-88b2-bbf791381781"
      },
      "outputs": [
        {
          "name": "stdout",
          "output_type": "stream",
          "text": [
            "Found 1766 images belonging to 6 classes.\n",
            "Found 384 images belonging to 6 classes.\n",
            "Found 377 images belonging to 6 classes.\n",
            "Downloading data from https://storage.googleapis.com/tensorflow/keras-applications/inception_resnet_v2/inception_resnet_v2_weights_tf_dim_ordering_tf_kernels_notop.h5\n",
            "219062272/219055592 [==============================] - 4s 0us/step\n",
            "219070464/219055592 [==============================] - 4s 0us/step\n"
          ]
        }
      ],
      "source": [
        "modelName = \"InceptionResNetV2\"\n",
        "\n",
        "input_shape, train_generator, test_generator, validation_generator =  makeGenerators(modelName, inputFolder, batch_size)\n",
        "model = InceptionResNetV2(include_top = False, weights = 'imagenet', input_shape = input_shape)\n",
        "model_inception_resnet_v2 = Architecture(model, nClasses)\n",
        "model_inception_resnet_v2.compile(loss='categorical_crossentropy', optimizer=keras.optimizers.RMSprop(learning_rate=2e-5), metrics=['accuracy'])"
      ]
    },
    {
      "cell_type": "code",
      "execution_count": null,
      "metadata": {
        "colab": {
          "base_uri": "https://localhost:8080/"
        },
        "id": "hnXgeP0NxD1Z",
        "outputId": "07791a26-b581-4fb4-88e2-b71a8b431d39"
      },
      "outputs": [
        {
          "name": "stdout",
          "output_type": "stream",
          "text": [
            "Epoch 1/65\n",
            "56/56 [==============================] - 486s 8s/step - loss: 1.0852 - accuracy: 0.6427 - val_loss: 0.6033 - val_accuracy: 0.8011\n",
            "Epoch 2/65\n",
            "56/56 [==============================] - 77s 1s/step - loss: 0.6870 - accuracy: 0.7605 - val_loss: 0.5086 - val_accuracy: 0.8196\n",
            "Epoch 3/65\n",
            "56/56 [==============================] - 77s 1s/step - loss: 0.5958 - accuracy: 0.7990 - val_loss: 0.4844 - val_accuracy: 0.8408\n",
            "Epoch 4/65\n",
            "56/56 [==============================] - 77s 1s/step - loss: 0.5726 - accuracy: 0.8035 - val_loss: 0.4716 - val_accuracy: 0.8276\n",
            "Epoch 5/65\n",
            "56/56 [==============================] - 77s 1s/step - loss: 0.5088 - accuracy: 0.8335 - val_loss: 0.4551 - val_accuracy: 0.8355\n",
            "Epoch 6/65\n",
            "56/56 [==============================] - 77s 1s/step - loss: 0.4886 - accuracy: 0.8165 - val_loss: 0.4356 - val_accuracy: 0.8541\n",
            "Epoch 7/65\n",
            "56/56 [==============================] - 77s 1s/step - loss: 0.4714 - accuracy: 0.8347 - val_loss: 0.4856 - val_accuracy: 0.8408\n",
            "Epoch 8/65\n",
            "56/56 [==============================] - 77s 1s/step - loss: 0.4420 - accuracy: 0.8403 - val_loss: 0.4295 - val_accuracy: 0.8541\n",
            "Epoch 9/65\n",
            "56/56 [==============================] - 77s 1s/step - loss: 0.4507 - accuracy: 0.8381 - val_loss: 0.4497 - val_accuracy: 0.8462\n",
            "Epoch 10/65\n",
            "56/56 [==============================] - 77s 1s/step - loss: 0.3958 - accuracy: 0.8567 - val_loss: 0.3713 - val_accuracy: 0.8780\n",
            "Epoch 11/65\n",
            "56/56 [==============================] - 77s 1s/step - loss: 0.4097 - accuracy: 0.8692 - val_loss: 0.4148 - val_accuracy: 0.8700\n",
            "Epoch 12/65\n",
            "56/56 [==============================] - 77s 1s/step - loss: 0.3900 - accuracy: 0.8618 - val_loss: 0.4084 - val_accuracy: 0.8859\n",
            "Epoch 13/65\n",
            "56/56 [==============================] - 77s 1s/step - loss: 0.3811 - accuracy: 0.8669 - val_loss: 0.4851 - val_accuracy: 0.8488\n",
            "Epoch 14/65\n",
            "56/56 [==============================] - 77s 1s/step - loss: 0.3349 - accuracy: 0.8822 - val_loss: 0.4350 - val_accuracy: 0.8859\n",
            "Epoch 15/65\n",
            "56/56 [==============================] - 77s 1s/step - loss: 0.3553 - accuracy: 0.8726 - val_loss: 0.4738 - val_accuracy: 0.8621\n",
            "Epoch 16/65\n",
            "56/56 [==============================] - 77s 1s/step - loss: 0.3276 - accuracy: 0.8890 - val_loss: 0.4533 - val_accuracy: 0.8780\n",
            "Epoch 17/65\n",
            "56/56 [==============================] - 77s 1s/step - loss: 0.3406 - accuracy: 0.8873 - val_loss: 0.3777 - val_accuracy: 0.8806\n",
            "Epoch 18/65\n",
            "56/56 [==============================] - 76s 1s/step - loss: 0.3355 - accuracy: 0.8828 - val_loss: 0.4275 - val_accuracy: 0.8886\n",
            "Epoch 19/65\n",
            "56/56 [==============================] - 77s 1s/step - loss: 0.3252 - accuracy: 0.8947 - val_loss: 0.4132 - val_accuracy: 0.8727\n",
            "Epoch 20/65\n",
            "56/56 [==============================] - 77s 1s/step - loss: 0.2734 - accuracy: 0.9117 - val_loss: 0.3673 - val_accuracy: 0.8992\n",
            "Epoch 21/65\n",
            "56/56 [==============================] - 77s 1s/step - loss: 0.3073 - accuracy: 0.8947 - val_loss: 0.3444 - val_accuracy: 0.8992\n",
            "Epoch 22/65\n",
            "56/56 [==============================] - 77s 1s/step - loss: 0.2851 - accuracy: 0.9054 - val_loss: 0.4392 - val_accuracy: 0.8886\n",
            "Epoch 23/65\n",
            "56/56 [==============================] - 77s 1s/step - loss: 0.2979 - accuracy: 0.9003 - val_loss: 0.3400 - val_accuracy: 0.8939\n",
            "Epoch 24/65\n",
            "56/56 [==============================] - 77s 1s/step - loss: 0.2763 - accuracy: 0.9077 - val_loss: 0.3957 - val_accuracy: 0.8727\n",
            "Epoch 25/65\n",
            "56/56 [==============================] - 77s 1s/step - loss: 0.2829 - accuracy: 0.9009 - val_loss: 0.3368 - val_accuracy: 0.8939\n",
            "Epoch 26/65\n",
            "56/56 [==============================] - 77s 1s/step - loss: 0.2710 - accuracy: 0.8998 - val_loss: 0.3331 - val_accuracy: 0.8859\n",
            "Epoch 27/65\n",
            "56/56 [==============================] - 77s 1s/step - loss: 0.2687 - accuracy: 0.9043 - val_loss: 0.3422 - val_accuracy: 0.9098\n",
            "Epoch 28/65\n",
            "56/56 [==============================] - 77s 1s/step - loss: 0.2363 - accuracy: 0.9145 - val_loss: 0.3650 - val_accuracy: 0.9019\n",
            "Epoch 29/65\n",
            "56/56 [==============================] - 77s 1s/step - loss: 0.2403 - accuracy: 0.9196 - val_loss: 0.3859 - val_accuracy: 0.8912\n",
            "Epoch 30/65\n",
            "56/56 [==============================] - 77s 1s/step - loss: 0.2670 - accuracy: 0.9026 - val_loss: 0.4213 - val_accuracy: 0.8753\n",
            "Epoch 31/65\n",
            "56/56 [==============================] - 77s 1s/step - loss: 0.2312 - accuracy: 0.9207 - val_loss: 0.3875 - val_accuracy: 0.8939\n",
            "Epoch 32/65\n",
            "56/56 [==============================] - 76s 1s/step - loss: 0.2278 - accuracy: 0.9179 - val_loss: 0.3264 - val_accuracy: 0.9098\n",
            "Epoch 33/65\n",
            "56/56 [==============================] - 76s 1s/step - loss: 0.2033 - accuracy: 0.9236 - val_loss: 0.4236 - val_accuracy: 0.8966\n",
            "Epoch 34/65\n",
            "56/56 [==============================] - 77s 1s/step - loss: 0.2415 - accuracy: 0.9168 - val_loss: 0.3493 - val_accuracy: 0.8939\n",
            "Epoch 35/65\n",
            "56/56 [==============================] - 77s 1s/step - loss: 0.2171 - accuracy: 0.9270 - val_loss: 0.3721 - val_accuracy: 0.8992\n",
            "Epoch 36/65\n",
            "56/56 [==============================] - 77s 1s/step - loss: 0.2159 - accuracy: 0.9264 - val_loss: 0.3438 - val_accuracy: 0.8966\n",
            "Epoch 37/65\n",
            "56/56 [==============================] - 77s 1s/step - loss: 0.1974 - accuracy: 0.9281 - val_loss: 0.3872 - val_accuracy: 0.8939\n",
            "Epoch 38/65\n",
            "56/56 [==============================] - 77s 1s/step - loss: 0.2133 - accuracy: 0.9292 - val_loss: 0.3490 - val_accuracy: 0.9151\n",
            "Epoch 39/65\n",
            "56/56 [==============================] - 77s 1s/step - loss: 0.2037 - accuracy: 0.9360 - val_loss: 0.3570 - val_accuracy: 0.9151\n",
            "Epoch 40/65\n",
            "56/56 [==============================] - 76s 1s/step - loss: 0.2034 - accuracy: 0.9304 - val_loss: 0.3861 - val_accuracy: 0.9019\n",
            "Epoch 41/65\n",
            "56/56 [==============================] - 77s 1s/step - loss: 0.2064 - accuracy: 0.9304 - val_loss: 0.3346 - val_accuracy: 0.9072\n",
            "Epoch 42/65\n",
            "56/56 [==============================] - 76s 1s/step - loss: 0.2299 - accuracy: 0.9258 - val_loss: 0.3398 - val_accuracy: 0.9072\n",
            "Epoch 43/65\n",
            "56/56 [==============================] - 77s 1s/step - loss: 0.1930 - accuracy: 0.9275 - val_loss: 0.3796 - val_accuracy: 0.9019\n",
            "Epoch 44/65\n",
            "56/56 [==============================] - 76s 1s/step - loss: 0.1850 - accuracy: 0.9337 - val_loss: 0.3276 - val_accuracy: 0.8939\n",
            "Epoch 45/65\n",
            "56/56 [==============================] - 76s 1s/step - loss: 0.2106 - accuracy: 0.9360 - val_loss: 0.4171 - val_accuracy: 0.8859\n",
            "Epoch 46/65\n",
            "56/56 [==============================] - 77s 1s/step - loss: 0.1934 - accuracy: 0.9354 - val_loss: 0.3834 - val_accuracy: 0.9019\n",
            "Epoch 47/65\n",
            "56/56 [==============================] - 76s 1s/step - loss: 0.1724 - accuracy: 0.9434 - val_loss: 0.4014 - val_accuracy: 0.8859\n",
            "Epoch 48/65\n",
            "56/56 [==============================] - 77s 1s/step - loss: 0.1614 - accuracy: 0.9360 - val_loss: 0.3779 - val_accuracy: 0.8992\n",
            "Epoch 49/65\n",
            "56/56 [==============================] - 77s 1s/step - loss: 0.1691 - accuracy: 0.9400 - val_loss: 0.3529 - val_accuracy: 0.9072\n",
            "Epoch 50/65\n",
            "56/56 [==============================] - 77s 1s/step - loss: 0.1826 - accuracy: 0.9439 - val_loss: 0.3894 - val_accuracy: 0.8859\n",
            "Epoch 51/65\n",
            "56/56 [==============================] - 77s 1s/step - loss: 0.1428 - accuracy: 0.9485 - val_loss: 0.4241 - val_accuracy: 0.8939\n",
            "Epoch 52/65\n",
            "56/56 [==============================] - 77s 1s/step - loss: 0.1655 - accuracy: 0.9400 - val_loss: 0.3978 - val_accuracy: 0.9019\n",
            "Epoch 53/65\n",
            "56/56 [==============================] - 76s 1s/step - loss: 0.1901 - accuracy: 0.9388 - val_loss: 0.3629 - val_accuracy: 0.9045\n",
            "Epoch 54/65\n",
            "56/56 [==============================] - 77s 1s/step - loss: 0.1583 - accuracy: 0.9388 - val_loss: 0.4151 - val_accuracy: 0.8912\n",
            "Epoch 55/65\n",
            "56/56 [==============================] - 77s 1s/step - loss: 0.1455 - accuracy: 0.9445 - val_loss: 0.3768 - val_accuracy: 0.8992\n",
            "Epoch 56/65\n",
            "56/56 [==============================] - 77s 1s/step - loss: 0.1513 - accuracy: 0.9451 - val_loss: 0.4560 - val_accuracy: 0.8806\n",
            "Epoch 57/65\n",
            "56/56 [==============================] - 76s 1s/step - loss: 0.1724 - accuracy: 0.9462 - val_loss: 0.3467 - val_accuracy: 0.9045\n",
            "Epoch 58/65\n",
            "56/56 [==============================] - 77s 1s/step - loss: 0.1439 - accuracy: 0.9462 - val_loss: 0.3567 - val_accuracy: 0.8992\n",
            "Epoch 59/65\n",
            "56/56 [==============================] - 77s 1s/step - loss: 0.1538 - accuracy: 0.9524 - val_loss: 0.4107 - val_accuracy: 0.8806\n",
            "Epoch 60/65\n",
            "56/56 [==============================] - 77s 1s/step - loss: 0.1374 - accuracy: 0.9547 - val_loss: 0.4494 - val_accuracy: 0.8780\n",
            "Epoch 61/65\n",
            "56/56 [==============================] - 77s 1s/step - loss: 0.1483 - accuracy: 0.9524 - val_loss: 0.3337 - val_accuracy: 0.9045\n",
            "Epoch 62/65\n",
            "56/56 [==============================] - 77s 1s/step - loss: 0.1547 - accuracy: 0.9428 - val_loss: 0.3197 - val_accuracy: 0.9098\n",
            "Epoch 63/65\n",
            "56/56 [==============================] - 77s 1s/step - loss: 0.1514 - accuracy: 0.9496 - val_loss: 0.3819 - val_accuracy: 0.9019\n",
            "Epoch 64/65\n",
            "56/56 [==============================] - 77s 1s/step - loss: 0.1341 - accuracy: 0.9541 - val_loss: 0.3286 - val_accuracy: 0.8833\n",
            "Epoch 65/65\n",
            "56/56 [==============================] - 77s 1s/step - loss: 0.1430 - accuracy: 0.9490 - val_loss: 0.3689 - val_accuracy: 0.8966\n"
          ]
        }
      ],
      "source": [
        "startTime=time.time()\n",
        "history = model_inception_resnet_v2.fit(train_generator, epochs = epochs_nb, validation_data  = validation_generator)\n",
        "executionTime = (time.time() - startTime)\n",
        "model_inception_resnet_v2.save(f'./Modeles/{modelName}.h5')"
      ]
    },
    {
      "cell_type": "code",
      "execution_count": null,
      "metadata": {
        "colab": {
          "base_uri": "https://localhost:8080/"
        },
        "id": "77ChT0POGAWr",
        "outputId": "bf5dbcbf-de7a-4c51-a6ad-3373fd999d07"
      },
      "outputs": [
        {
          "name": "stdout",
          "output_type": "stream",
          "text": [
            "Durée d'entraînement : 5430.35 secondes\n",
            "\n",
            "Performances sur le set de test : \n",
            "\n",
            "   accuracy  precision  recall  f1-score\n",
            "0     0.875    0.87738   0.875  0.873648\n"
          ]
        }
      ],
      "source": [
        "study_model(model_inception_resnet_v2, labels, test_generator, executionTime)"
      ]
    },
    {
      "cell_type": "code",
      "execution_count": null,
      "metadata": {
        "colab": {
          "base_uri": "https://localhost:8080/",
          "height": 350
        },
        "id": "CFC3cUb8Ghgt",
        "outputId": "f1c26b15-7cf4-4cd3-abf3-5dac03453cd1"
      },
      "outputs": [
        {
          "data": {
            "image/png": "[encoded data removed]",
            "text/plain": [
              "<Figure size 1080x360 with 2 Axes>"
            ]
          },
          "metadata": {
            "needs_background": "light"
          },
          "output_type": "display_data"
        }
      ],
      "source": [
        "plot_accuracy_loss(history)"
      ]
    },
    {
      "cell_type": "markdown",
      "metadata": {
        "id": "Bz389YHLG592"
      },
      "source": [
        "## MobileNet"
      ]
    },
    {
      "cell_type": "code",
      "execution_count": null,
      "metadata": {
        "colab": {
          "base_uri": "https://localhost:8080/"
        },
        "id": "FO0nyVSVG9o9",
        "outputId": "8c5d9d16-2b84-4b53-f406-c8adab846e8b"
      },
      "outputs": [
        {
          "name": "stdout",
          "output_type": "stream",
          "text": [
            "Found 1766 images belonging to 6 classes.\n",
            "Found 384 images belonging to 6 classes.\n",
            "Found 377 images belonging to 6 classes.\n",
            "Downloading data from https://storage.googleapis.com/tensorflow/keras-applications/mobilenet/mobilenet_1_0_224_tf_no_top.h5\n",
            "17227776/17225924 [==============================] - 1s 0us/step\n",
            "17235968/17225924 [==============================] - 1s 0us/step\n"
          ]
        }
      ],
      "source": [
        "modelName = \"MobileNet\"\n",
        "\n",
        "input_shape, train_generator, test_generator, validation_generator =  makeGenerators(modelName, inputFolder, batch_size)\n",
        "model = MobileNet(include_top = False, weights = 'imagenet', input_shape = input_shape)\n",
        "model_mobilenet = Architecture(model, nClasses)\n",
        "model_mobilenet.compile(loss='categorical_crossentropy', optimizer=keras.optimizers.RMSprop(learning_rate=2e-5), metrics=['accuracy'])"
      ]
    },
    {
      "cell_type": "code",
      "execution_count": null,
      "metadata": {
        "colab": {
          "base_uri": "https://localhost:8080/"
        },
        "id": "iALzfflfHIWI",
        "outputId": "c9f43af7-569d-4538-8e24-82dc7e138074"
      },
      "outputs": [
        {
          "name": "stdout",
          "output_type": "stream",
          "text": [
            "Epoch 1/65\n",
            "56/56 [==============================] - 51s 868ms/step - loss: 1.3955 - accuracy: 0.5464 - val_loss: 0.8314 - val_accuracy: 0.7082\n",
            "Epoch 2/65\n",
            "56/56 [==============================] - 40s 708ms/step - loss: 0.8284 - accuracy: 0.6988 - val_loss: 0.6979 - val_accuracy: 0.7427\n",
            "Epoch 3/65\n",
            "56/56 [==============================] - 40s 721ms/step - loss: 0.7395 - accuracy: 0.7316 - val_loss: 0.6009 - val_accuracy: 0.7798\n",
            "Epoch 4/65\n",
            "56/56 [==============================] - 39s 698ms/step - loss: 0.6486 - accuracy: 0.7684 - val_loss: 0.6322 - val_accuracy: 0.7666\n",
            "Epoch 5/65\n",
            "56/56 [==============================] - 39s 697ms/step - loss: 0.5605 - accuracy: 0.8052 - val_loss: 0.5266 - val_accuracy: 0.8064\n",
            "Epoch 6/65\n",
            "56/56 [==============================] - 39s 698ms/step - loss: 0.5384 - accuracy: 0.8080 - val_loss: 0.4865 - val_accuracy: 0.8196\n",
            "Epoch 7/65\n",
            "56/56 [==============================] - 39s 700ms/step - loss: 0.5102 - accuracy: 0.8341 - val_loss: 0.4615 - val_accuracy: 0.8435\n",
            "Epoch 8/65\n",
            "56/56 [==============================] - 39s 700ms/step - loss: 0.4642 - accuracy: 0.8330 - val_loss: 0.4954 - val_accuracy: 0.8329\n",
            "Epoch 9/65\n",
            "56/56 [==============================] - 39s 699ms/step - loss: 0.4650 - accuracy: 0.8414 - val_loss: 0.4556 - val_accuracy: 0.8382\n",
            "Epoch 10/65\n",
            "56/56 [==============================] - 39s 701ms/step - loss: 0.3574 - accuracy: 0.8681 - val_loss: 0.4736 - val_accuracy: 0.8249\n",
            "Epoch 11/65\n",
            "56/56 [==============================] - 44s 791ms/step - loss: 0.3755 - accuracy: 0.8635 - val_loss: 0.4468 - val_accuracy: 0.8302\n",
            "Epoch 12/65\n",
            "56/56 [==============================] - 39s 694ms/step - loss: 0.4062 - accuracy: 0.8511 - val_loss: 0.5023 - val_accuracy: 0.8249\n",
            "Epoch 13/65\n",
            "56/56 [==============================] - 39s 695ms/step - loss: 0.3435 - accuracy: 0.8720 - val_loss: 0.4066 - val_accuracy: 0.8568\n",
            "Epoch 14/65\n",
            "56/56 [==============================] - 39s 694ms/step - loss: 0.3474 - accuracy: 0.8788 - val_loss: 0.4347 - val_accuracy: 0.8382\n",
            "Epoch 15/65\n",
            "56/56 [==============================] - 39s 693ms/step - loss: 0.3420 - accuracy: 0.8794 - val_loss: 0.4814 - val_accuracy: 0.8355\n",
            "Epoch 16/65\n",
            "56/56 [==============================] - 39s 690ms/step - loss: 0.3327 - accuracy: 0.8811 - val_loss: 0.3804 - val_accuracy: 0.8727\n",
            "Epoch 17/65\n",
            "56/56 [==============================] - 39s 690ms/step - loss: 0.3023 - accuracy: 0.8958 - val_loss: 0.4019 - val_accuracy: 0.8568\n",
            "Epoch 18/65\n",
            "56/56 [==============================] - 39s 692ms/step - loss: 0.2972 - accuracy: 0.8930 - val_loss: 0.4278 - val_accuracy: 0.8594\n",
            "Epoch 19/65\n",
            "56/56 [==============================] - 39s 698ms/step - loss: 0.2783 - accuracy: 0.8958 - val_loss: 0.4209 - val_accuracy: 0.8515\n",
            "Epoch 20/65\n",
            "56/56 [==============================] - 38s 687ms/step - loss: 0.2522 - accuracy: 0.9060 - val_loss: 0.5079 - val_accuracy: 0.8382\n",
            "Epoch 21/65\n",
            "56/56 [==============================] - 39s 702ms/step - loss: 0.2724 - accuracy: 0.9117 - val_loss: 0.4187 - val_accuracy: 0.8621\n",
            "Epoch 22/65\n",
            "56/56 [==============================] - 39s 698ms/step - loss: 0.2326 - accuracy: 0.9196 - val_loss: 0.4535 - val_accuracy: 0.8647\n",
            "Epoch 23/65\n",
            "56/56 [==============================] - 39s 691ms/step - loss: 0.2547 - accuracy: 0.9151 - val_loss: 0.4278 - val_accuracy: 0.8727\n",
            "Epoch 24/65\n",
            "56/56 [==============================] - 39s 694ms/step - loss: 0.2136 - accuracy: 0.9247 - val_loss: 0.4417 - val_accuracy: 0.8780\n",
            "Epoch 25/65\n",
            "56/56 [==============================] - 39s 692ms/step - loss: 0.2054 - accuracy: 0.9298 - val_loss: 0.4101 - val_accuracy: 0.8859\n",
            "Epoch 26/65\n",
            "56/56 [==============================] - 39s 695ms/step - loss: 0.2284 - accuracy: 0.9185 - val_loss: 0.5250 - val_accuracy: 0.8541\n",
            "Epoch 27/65\n",
            "56/56 [==============================] - 39s 697ms/step - loss: 0.2439 - accuracy: 0.9196 - val_loss: 0.3998 - val_accuracy: 0.8806\n",
            "Epoch 28/65\n",
            "56/56 [==============================] - 39s 689ms/step - loss: 0.1922 - accuracy: 0.9405 - val_loss: 0.5620 - val_accuracy: 0.8435\n",
            "Epoch 29/65\n",
            "56/56 [==============================] - 39s 692ms/step - loss: 0.2153 - accuracy: 0.9196 - val_loss: 0.4085 - val_accuracy: 0.8886\n",
            "Epoch 30/65\n",
            "56/56 [==============================] - 39s 688ms/step - loss: 0.2234 - accuracy: 0.9298 - val_loss: 0.4005 - val_accuracy: 0.8780\n",
            "Epoch 31/65\n",
            "56/56 [==============================] - 39s 689ms/step - loss: 0.2012 - accuracy: 0.9304 - val_loss: 0.4285 - val_accuracy: 0.8700\n",
            "Epoch 32/65\n",
            "56/56 [==============================] - 39s 687ms/step - loss: 0.1688 - accuracy: 0.9428 - val_loss: 0.3881 - val_accuracy: 0.8727\n",
            "Epoch 33/65\n",
            "56/56 [==============================] - 39s 689ms/step - loss: 0.1645 - accuracy: 0.9434 - val_loss: 0.4095 - val_accuracy: 0.8833\n",
            "Epoch 34/65\n",
            "56/56 [==============================] - 39s 687ms/step - loss: 0.1685 - accuracy: 0.9394 - val_loss: 0.4588 - val_accuracy: 0.8647\n",
            "Epoch 35/65\n",
            "56/56 [==============================] - 39s 692ms/step - loss: 0.1598 - accuracy: 0.9485 - val_loss: 0.4479 - val_accuracy: 0.8727\n",
            "Epoch 36/65\n",
            "56/56 [==============================] - 39s 687ms/step - loss: 0.1873 - accuracy: 0.9360 - val_loss: 0.3947 - val_accuracy: 0.8806\n",
            "Epoch 37/65\n",
            "56/56 [==============================] - 39s 691ms/step - loss: 0.1692 - accuracy: 0.9468 - val_loss: 0.3783 - val_accuracy: 0.8753\n",
            "Epoch 38/65\n",
            "56/56 [==============================] - 39s 691ms/step - loss: 0.1567 - accuracy: 0.9507 - val_loss: 0.3913 - val_accuracy: 0.8780\n",
            "Epoch 39/65\n",
            "56/56 [==============================] - 39s 689ms/step - loss: 0.1420 - accuracy: 0.9502 - val_loss: 0.3959 - val_accuracy: 0.8859\n",
            "Epoch 40/65\n",
            "56/56 [==============================] - 39s 693ms/step - loss: 0.1500 - accuracy: 0.9496 - val_loss: 0.4086 - val_accuracy: 0.8886\n",
            "Epoch 41/65\n",
            "56/56 [==============================] - 39s 699ms/step - loss: 0.1689 - accuracy: 0.9445 - val_loss: 0.4305 - val_accuracy: 0.8859\n",
            "Epoch 42/65\n",
            "56/56 [==============================] - 39s 690ms/step - loss: 0.1320 - accuracy: 0.9564 - val_loss: 0.3885 - val_accuracy: 0.8939\n",
            "Epoch 43/65\n",
            "56/56 [==============================] - 39s 698ms/step - loss: 0.1429 - accuracy: 0.9462 - val_loss: 0.4592 - val_accuracy: 0.8859\n",
            "Epoch 44/65\n",
            "56/56 [==============================] - 39s 693ms/step - loss: 0.1505 - accuracy: 0.9507 - val_loss: 0.4149 - val_accuracy: 0.8833\n",
            "Epoch 45/65\n",
            "56/56 [==============================] - 39s 691ms/step - loss: 0.1107 - accuracy: 0.9587 - val_loss: 0.4451 - val_accuracy: 0.8886\n",
            "Epoch 46/65\n",
            "56/56 [==============================] - 39s 699ms/step - loss: 0.1482 - accuracy: 0.9439 - val_loss: 0.4559 - val_accuracy: 0.8647\n",
            "Epoch 47/65\n",
            "56/56 [==============================] - 39s 696ms/step - loss: 0.1401 - accuracy: 0.9541 - val_loss: 0.4364 - val_accuracy: 0.8939\n",
            "Epoch 48/65\n",
            "56/56 [==============================] - 39s 699ms/step - loss: 0.1505 - accuracy: 0.9479 - val_loss: 0.3673 - val_accuracy: 0.8966\n",
            "Epoch 49/65\n",
            "56/56 [==============================] - 39s 690ms/step - loss: 0.1429 - accuracy: 0.9524 - val_loss: 0.4071 - val_accuracy: 0.8859\n",
            "Epoch 50/65\n",
            "56/56 [==============================] - 39s 696ms/step - loss: 0.1510 - accuracy: 0.9462 - val_loss: 0.3837 - val_accuracy: 0.8886\n",
            "Epoch 51/65\n",
            "56/56 [==============================] - 39s 697ms/step - loss: 0.1183 - accuracy: 0.9564 - val_loss: 0.4178 - val_accuracy: 0.8859\n",
            "Epoch 52/65\n",
            "56/56 [==============================] - 39s 694ms/step - loss: 0.1390 - accuracy: 0.9541 - val_loss: 0.4457 - val_accuracy: 0.8780\n",
            "Epoch 53/65\n",
            "56/56 [==============================] - 39s 690ms/step - loss: 0.1194 - accuracy: 0.9519 - val_loss: 0.4777 - val_accuracy: 0.8753\n",
            "Epoch 54/65\n",
            "56/56 [==============================] - 39s 697ms/step - loss: 0.1173 - accuracy: 0.9609 - val_loss: 0.5024 - val_accuracy: 0.8833\n",
            "Epoch 55/65\n",
            "56/56 [==============================] - 39s 697ms/step - loss: 0.0948 - accuracy: 0.9666 - val_loss: 0.4280 - val_accuracy: 0.8833\n",
            "Epoch 56/65\n",
            "56/56 [==============================] - 39s 690ms/step - loss: 0.0938 - accuracy: 0.9683 - val_loss: 0.5639 - val_accuracy: 0.8647\n",
            "Epoch 57/65\n",
            "56/56 [==============================] - 39s 689ms/step - loss: 0.0987 - accuracy: 0.9677 - val_loss: 0.4104 - val_accuracy: 0.8833\n",
            "Epoch 58/65\n",
            "56/56 [==============================] - 39s 702ms/step - loss: 0.1183 - accuracy: 0.9615 - val_loss: 0.4037 - val_accuracy: 0.8859\n",
            "Epoch 59/65\n",
            "56/56 [==============================] - 39s 698ms/step - loss: 0.1079 - accuracy: 0.9621 - val_loss: 0.4369 - val_accuracy: 0.8780\n",
            "Epoch 60/65\n",
            "56/56 [==============================] - 39s 694ms/step - loss: 0.0965 - accuracy: 0.9643 - val_loss: 0.4109 - val_accuracy: 0.8966\n",
            "Epoch 61/65\n",
            "56/56 [==============================] - 39s 694ms/step - loss: 0.1040 - accuracy: 0.9632 - val_loss: 0.4280 - val_accuracy: 0.8859\n",
            "Epoch 62/65\n",
            "56/56 [==============================] - 39s 695ms/step - loss: 0.1089 - accuracy: 0.9655 - val_loss: 0.4324 - val_accuracy: 0.8859\n",
            "Epoch 63/65\n",
            "56/56 [==============================] - 39s 692ms/step - loss: 0.0896 - accuracy: 0.9711 - val_loss: 0.3871 - val_accuracy: 0.8939\n",
            "Epoch 64/65\n",
            "56/56 [==============================] - 39s 695ms/step - loss: 0.0995 - accuracy: 0.9700 - val_loss: 0.4395 - val_accuracy: 0.8859\n",
            "Epoch 65/65\n",
            "56/56 [==============================] - 39s 692ms/step - loss: 0.1162 - accuracy: 0.9643 - val_loss: 0.4019 - val_accuracy: 0.8859\n"
          ]
        }
      ],
      "source": [
        "startTime=time.time()\n",
        "history = model_mobilenet.fit(train_generator, epochs = epochs_nb, validation_data  = validation_generator)\n",
        "executionTime = (time.time() - startTime)\n",
        "model_mobilenet.save(f'./Modeles/{modelName}.h5')"
      ]
    },
    {
      "cell_type": "code",
      "execution_count": null,
      "metadata": {
        "colab": {
          "base_uri": "https://localhost:8080/"
        },
        "id": "PqvyEWsCHM2a",
        "outputId": "4420b702-45f0-454b-b37f-f5a34cccd9bd"
      },
      "outputs": [
        {
          "name": "stdout",
          "output_type": "stream",
          "text": [
            "Durée d'entraînement : 2554.67 secondes\n",
            "\n",
            "Performances sur le set de test : \n",
            "\n",
            "   accuracy  precision    recall  f1-score\n",
            "0  0.859375   0.860479  0.859375  0.858751\n"
          ]
        }
      ],
      "source": [
        "study_model(model_mobilenet, labels, test_generator, executionTime)"
      ]
    },
    {
      "cell_type": "code",
      "execution_count": null,
      "metadata": {
        "colab": {
          "base_uri": "https://localhost:8080/",
          "height": 350
        },
        "id": "V2gu0Ov7HQu2",
        "outputId": "a6e5e8bf-6490-4294-c531-d5fa0692cece"
      },
      "outputs": [
        {
          "data": {
            "image/png": "[encoded data removed]",
            "text/plain": [
              "<Figure size 1080x360 with 2 Axes>"
            ]
          },
          "metadata": {
            "needs_background": "light"
          },
          "output_type": "display_data"
        }
      ],
      "source": [
        "plot_accuracy_loss(history)"
      ]
    },
    {
      "cell_type": "markdown",
      "metadata": {
        "id": "M8XMr2sgSmCw"
      },
      "source": [
        "## DenseNet121"
      ]
    },
    {
      "cell_type": "code",
      "execution_count": null,
      "metadata": {
        "colab": {
          "base_uri": "https://localhost:8080/"
        },
        "id": "AwtXR2EcSomB",
        "outputId": "cca3f4e4-dbea-4f85-94a6-07b7d48021d9"
      },
      "outputs": [
        {
          "name": "stdout",
          "output_type": "stream",
          "text": [
            "Found 1766 images belonging to 6 classes.\n",
            "Found 384 images belonging to 6 classes.\n",
            "Found 377 images belonging to 6 classes.\n",
            "Downloading data from https://storage.googleapis.com/tensorflow/keras-applications/densenet/densenet121_weights_tf_dim_ordering_tf_kernels_notop.h5\n",
            "29089792/29084464 [==============================] - 0s 0us/step\n",
            "29097984/29084464 [==============================] - 0s 0us/step\n"
          ]
        }
      ],
      "source": [
        "modelName = \"DenseNet121\"\n",
        "\n",
        "input_shape, train_generator, test_generator, validation_generator =  makeGenerators(modelName, inputFolder, batch_size)\n",
        "model = DenseNet121(include_top = False, weights = 'imagenet', input_shape = input_shape)\n",
        "model_densenet = Architecture(model, nClasses)\n",
        "model_densenet.compile(loss='categorical_crossentropy', optimizer=keras.optimizers.RMSprop(learning_rate=2e-5), metrics=['accuracy'])"
      ]
    },
    {
      "cell_type": "code",
      "execution_count": null,
      "metadata": {
        "colab": {
          "base_uri": "https://localhost:8080/"
        },
        "id": "kjFJDHKpSqzC",
        "outputId": "5bf71748-b6f8-4e8a-97f5-b35c88adaf53"
      },
      "outputs": [
        {
          "name": "stdout",
          "output_type": "stream",
          "text": [
            "Epoch 1/65\n",
            "56/56 [==============================] - 56s 834ms/step - loss: 1.2187 - accuracy: 0.5781 - val_loss: 0.8699 - val_accuracy: 0.6737\n",
            "Epoch 2/65\n",
            "56/56 [==============================] - 43s 761ms/step - loss: 0.7439 - accuracy: 0.7322 - val_loss: 0.6194 - val_accuracy: 0.7851\n",
            "Epoch 3/65\n",
            "56/56 [==============================] - 42s 757ms/step - loss: 0.5728 - accuracy: 0.7956 - val_loss: 0.5656 - val_accuracy: 0.8090\n",
            "Epoch 4/65\n",
            "56/56 [==============================] - 43s 761ms/step - loss: 0.5283 - accuracy: 0.8131 - val_loss: 0.4374 - val_accuracy: 0.8594\n",
            "Epoch 5/65\n",
            "56/56 [==============================] - 42s 755ms/step - loss: 0.4616 - accuracy: 0.8454 - val_loss: 0.4879 - val_accuracy: 0.8196\n",
            "Epoch 6/65\n",
            "56/56 [==============================] - 43s 757ms/step - loss: 0.4198 - accuracy: 0.8579 - val_loss: 0.5019 - val_accuracy: 0.8276\n",
            "Epoch 7/65\n",
            "56/56 [==============================] - 42s 754ms/step - loss: 0.3727 - accuracy: 0.8630 - val_loss: 0.4116 - val_accuracy: 0.8541\n",
            "Epoch 8/65\n",
            "56/56 [==============================] - 42s 754ms/step - loss: 0.3661 - accuracy: 0.8669 - val_loss: 0.4286 - val_accuracy: 0.8541\n",
            "Epoch 9/65\n",
            "56/56 [==============================] - 42s 751ms/step - loss: 0.3572 - accuracy: 0.8715 - val_loss: 0.4014 - val_accuracy: 0.8594\n",
            "Epoch 10/65\n",
            "56/56 [==============================] - 42s 754ms/step - loss: 0.3481 - accuracy: 0.8811 - val_loss: 0.4377 - val_accuracy: 0.8435\n",
            "Epoch 11/65\n",
            "56/56 [==============================] - 42s 756ms/step - loss: 0.2940 - accuracy: 0.9003 - val_loss: 0.4400 - val_accuracy: 0.8541\n",
            "Epoch 12/65\n",
            "56/56 [==============================] - 43s 757ms/step - loss: 0.2870 - accuracy: 0.8935 - val_loss: 0.5164 - val_accuracy: 0.8223\n",
            "Epoch 13/65\n",
            "56/56 [==============================] - 42s 754ms/step - loss: 0.2987 - accuracy: 0.8964 - val_loss: 0.4038 - val_accuracy: 0.8594\n",
            "Epoch 14/65\n",
            "56/56 [==============================] - 42s 754ms/step - loss: 0.3029 - accuracy: 0.8930 - val_loss: 0.3917 - val_accuracy: 0.8700\n",
            "Epoch 15/65\n",
            "56/56 [==============================] - 43s 763ms/step - loss: 0.2792 - accuracy: 0.9032 - val_loss: 0.4851 - val_accuracy: 0.8621\n",
            "Epoch 16/65\n",
            "56/56 [==============================] - 42s 754ms/step - loss: 0.2807 - accuracy: 0.9077 - val_loss: 0.4410 - val_accuracy: 0.8515\n",
            "Epoch 17/65\n",
            "56/56 [==============================] - 42s 751ms/step - loss: 0.2326 - accuracy: 0.9196 - val_loss: 0.3788 - val_accuracy: 0.8727\n",
            "Epoch 18/65\n",
            "56/56 [==============================] - 42s 751ms/step - loss: 0.2434 - accuracy: 0.9156 - val_loss: 0.3680 - val_accuracy: 0.8621\n",
            "Epoch 19/65\n",
            "56/56 [==============================] - 42s 757ms/step - loss: 0.2284 - accuracy: 0.9264 - val_loss: 0.3856 - val_accuracy: 0.8886\n",
            "Epoch 20/65\n",
            "56/56 [==============================] - 42s 751ms/step - loss: 0.2146 - accuracy: 0.9213 - val_loss: 0.4448 - val_accuracy: 0.8647\n",
            "Epoch 21/65\n",
            "56/56 [==============================] - 42s 748ms/step - loss: 0.1983 - accuracy: 0.9264 - val_loss: 0.4089 - val_accuracy: 0.8647\n",
            "Epoch 22/65\n",
            "56/56 [==============================] - 42s 747ms/step - loss: 0.1982 - accuracy: 0.9275 - val_loss: 0.4165 - val_accuracy: 0.8780\n",
            "Epoch 23/65\n",
            "56/56 [==============================] - 42s 750ms/step - loss: 0.1915 - accuracy: 0.9287 - val_loss: 0.3900 - val_accuracy: 0.8859\n",
            "Epoch 24/65\n",
            "56/56 [==============================] - 42s 747ms/step - loss: 0.1933 - accuracy: 0.9315 - val_loss: 0.3542 - val_accuracy: 0.8833\n",
            "Epoch 25/65\n",
            "56/56 [==============================] - 42s 746ms/step - loss: 0.1954 - accuracy: 0.9264 - val_loss: 0.3793 - val_accuracy: 0.8859\n",
            "Epoch 26/65\n",
            "56/56 [==============================] - 42s 751ms/step - loss: 0.1629 - accuracy: 0.9428 - val_loss: 0.3252 - val_accuracy: 0.9045\n",
            "Epoch 27/65\n",
            "56/56 [==============================] - 42s 746ms/step - loss: 0.2014 - accuracy: 0.9332 - val_loss: 0.3560 - val_accuracy: 0.9072\n",
            "Epoch 28/65\n",
            "56/56 [==============================] - 42s 746ms/step - loss: 0.1925 - accuracy: 0.9230 - val_loss: 0.3577 - val_accuracy: 0.8992\n",
            "Epoch 29/65\n",
            "56/56 [==============================] - 42s 748ms/step - loss: 0.1780 - accuracy: 0.9377 - val_loss: 0.3472 - val_accuracy: 0.8912\n",
            "Epoch 30/65\n",
            "56/56 [==============================] - 42s 747ms/step - loss: 0.1551 - accuracy: 0.9439 - val_loss: 0.3449 - val_accuracy: 0.9019\n",
            "Epoch 31/65\n",
            "56/56 [==============================] - 42s 748ms/step - loss: 0.1362 - accuracy: 0.9530 - val_loss: 0.3690 - val_accuracy: 0.8966\n",
            "Epoch 32/65\n",
            "56/56 [==============================] - 42s 747ms/step - loss: 0.1768 - accuracy: 0.9366 - val_loss: 0.3441 - val_accuracy: 0.9072\n",
            "Epoch 33/65\n",
            "56/56 [==============================] - 42s 751ms/step - loss: 0.1642 - accuracy: 0.9434 - val_loss: 0.3678 - val_accuracy: 0.8992\n",
            "Epoch 34/65\n",
            "56/56 [==============================] - 42s 747ms/step - loss: 0.1549 - accuracy: 0.9434 - val_loss: 0.4053 - val_accuracy: 0.8859\n",
            "Epoch 35/65\n",
            "56/56 [==============================] - 42s 750ms/step - loss: 0.1697 - accuracy: 0.9400 - val_loss: 0.4543 - val_accuracy: 0.8753\n",
            "Epoch 36/65\n",
            "56/56 [==============================] - 42s 751ms/step - loss: 0.1509 - accuracy: 0.9490 - val_loss: 0.3401 - val_accuracy: 0.8966\n",
            "Epoch 37/65\n",
            "56/56 [==============================] - 42s 749ms/step - loss: 0.1336 - accuracy: 0.9507 - val_loss: 0.4210 - val_accuracy: 0.8833\n",
            "Epoch 38/65\n",
            "56/56 [==============================] - 42s 746ms/step - loss: 0.1316 - accuracy: 0.9547 - val_loss: 0.3809 - val_accuracy: 0.8966\n",
            "Epoch 39/65\n",
            "56/56 [==============================] - 42s 747ms/step - loss: 0.1165 - accuracy: 0.9615 - val_loss: 0.3426 - val_accuracy: 0.9019\n",
            "Epoch 40/65\n",
            "56/56 [==============================] - 42s 750ms/step - loss: 0.1410 - accuracy: 0.9496 - val_loss: 0.3254 - val_accuracy: 0.9045\n",
            "Epoch 41/65\n",
            "56/56 [==============================] - 42s 744ms/step - loss: 0.1091 - accuracy: 0.9632 - val_loss: 0.3361 - val_accuracy: 0.8992\n",
            "Epoch 42/65\n",
            "56/56 [==============================] - 42s 745ms/step - loss: 0.1263 - accuracy: 0.9553 - val_loss: 0.3374 - val_accuracy: 0.9151\n",
            "Epoch 43/65\n",
            "56/56 [==============================] - 42s 752ms/step - loss: 0.1417 - accuracy: 0.9513 - val_loss: 0.3100 - val_accuracy: 0.9125\n",
            "Epoch 44/65\n",
            "56/56 [==============================] - 42s 754ms/step - loss: 0.1312 - accuracy: 0.9524 - val_loss: 0.3301 - val_accuracy: 0.9019\n",
            "Epoch 45/65\n",
            "56/56 [==============================] - 42s 750ms/step - loss: 0.1149 - accuracy: 0.9575 - val_loss: 0.2825 - val_accuracy: 0.9204\n",
            "Epoch 46/65\n",
            "56/56 [==============================] - 42s 745ms/step - loss: 0.1257 - accuracy: 0.9581 - val_loss: 0.3140 - val_accuracy: 0.9019\n",
            "Epoch 47/65\n",
            "56/56 [==============================] - 42s 751ms/step - loss: 0.1217 - accuracy: 0.9666 - val_loss: 0.4217 - val_accuracy: 0.9045\n",
            "Epoch 48/65\n",
            "56/56 [==============================] - 42s 748ms/step - loss: 0.1204 - accuracy: 0.9575 - val_loss: 0.3576 - val_accuracy: 0.8912\n",
            "Epoch 49/65\n",
            "56/56 [==============================] - 42s 744ms/step - loss: 0.1160 - accuracy: 0.9615 - val_loss: 0.3164 - val_accuracy: 0.9204\n",
            "Epoch 50/65\n",
            "56/56 [==============================] - 42s 744ms/step - loss: 0.1231 - accuracy: 0.9581 - val_loss: 0.3212 - val_accuracy: 0.9151\n",
            "Epoch 51/65\n",
            "56/56 [==============================] - 42s 749ms/step - loss: 0.0889 - accuracy: 0.9711 - val_loss: 0.3034 - val_accuracy: 0.9178\n",
            "Epoch 52/65\n",
            "56/56 [==============================] - 42s 752ms/step - loss: 0.1154 - accuracy: 0.9632 - val_loss: 0.3571 - val_accuracy: 0.9019\n",
            "Epoch 53/65\n",
            "56/56 [==============================] - 42s 764ms/step - loss: 0.1033 - accuracy: 0.9632 - val_loss: 0.3716 - val_accuracy: 0.8992\n",
            "Epoch 54/65\n",
            "56/56 [==============================] - 42s 756ms/step - loss: 0.1155 - accuracy: 0.9604 - val_loss: 0.3682 - val_accuracy: 0.9098\n",
            "Epoch 55/65\n",
            "56/56 [==============================] - 42s 754ms/step - loss: 0.0984 - accuracy: 0.9672 - val_loss: 0.2966 - val_accuracy: 0.9178\n",
            "Epoch 56/65\n",
            "56/56 [==============================] - 42s 747ms/step - loss: 0.1067 - accuracy: 0.9655 - val_loss: 0.3201 - val_accuracy: 0.9151\n",
            "Epoch 57/65\n",
            "56/56 [==============================] - 42s 750ms/step - loss: 0.0948 - accuracy: 0.9632 - val_loss: 0.3195 - val_accuracy: 0.9125\n",
            "Epoch 58/65\n",
            "56/56 [==============================] - 42s 755ms/step - loss: 0.0909 - accuracy: 0.9711 - val_loss: 0.3027 - val_accuracy: 0.9151\n",
            "Epoch 59/65\n",
            "56/56 [==============================] - 42s 750ms/step - loss: 0.1093 - accuracy: 0.9609 - val_loss: 0.2822 - val_accuracy: 0.9072\n",
            "Epoch 60/65\n",
            "56/56 [==============================] - 43s 762ms/step - loss: 0.1096 - accuracy: 0.9615 - val_loss: 0.2743 - val_accuracy: 0.9178\n",
            "Epoch 61/65\n",
            "56/56 [==============================] - 43s 763ms/step - loss: 0.0845 - accuracy: 0.9757 - val_loss: 0.2949 - val_accuracy: 0.9151\n",
            "Epoch 62/65\n",
            "56/56 [==============================] - 42s 755ms/step - loss: 0.0761 - accuracy: 0.9717 - val_loss: 0.2805 - val_accuracy: 0.9151\n",
            "Epoch 63/65\n",
            "56/56 [==============================] - 42s 755ms/step - loss: 0.0845 - accuracy: 0.9660 - val_loss: 0.2906 - val_accuracy: 0.9204\n",
            "Epoch 64/65\n",
            "56/56 [==============================] - 42s 754ms/step - loss: 0.0878 - accuracy: 0.9706 - val_loss: 0.2452 - val_accuracy: 0.9257\n",
            "Epoch 65/65\n",
            "56/56 [==============================] - 42s 752ms/step - loss: 0.0784 - accuracy: 0.9740 - val_loss: 0.2874 - val_accuracy: 0.9178\n"
          ]
        }
      ],
      "source": [
        "startTime=time.time()\n",
        "history = model_densenet.fit(train_generator, epochs = epochs_nb, validation_data  = validation_generator)\n",
        "executionTime = (time.time() - startTime)\n",
        "model_densenet.save(f'./Modeles/{modelName}.h5')"
      ]
    },
    {
      "cell_type": "code",
      "execution_count": null,
      "metadata": {
        "colab": {
          "base_uri": "https://localhost:8080/"
        },
        "id": "wsHd8YVJdJdZ",
        "outputId": "2108eeb7-c6d4-4735-a362-7e008875abe8"
      },
      "outputs": [
        {
          "name": "stdout",
          "output_type": "stream",
          "text": [
            "Durée d'entraînement : 2878.75 secondes\n",
            "\n",
            "Performances sur le set de test : \n",
            "\n",
            "   accuracy  precision    recall  f1-score\n",
            "0  0.864583   0.866038  0.864583  0.864339\n"
          ]
        }
      ],
      "source": [
        "study_model(model_densenet, labels, test_generator, executionTime)"
      ]
    },
    {
      "cell_type": "code",
      "execution_count": null,
      "metadata": {
        "colab": {
          "base_uri": "https://localhost:8080/",
          "height": 350
        },
        "id": "a1aMu9TxdNHw",
        "outputId": "a5685769-7d77-465c-c513-96cf941653dc"
      },
      "outputs": [
        {
          "data": {
            "image/png": "[encoded data removed]",
            "text/plain": [
              "<Figure size 1080x360 with 2 Axes>"
            ]
          },
          "metadata": {
            "needs_background": "light"
          },
          "output_type": "display_data"
        }
      ],
      "source": [
        "plot_accuracy_loss(history)"
      ]
    },
    {
      "cell_type": "markdown",
      "metadata": {
        "id": "ueqfbh9Xfm_M"
      },
      "source": [
        "Le modèle n'a peut-être pas totalement convergé."
      ]
    },
    {
      "cell_type": "code",
      "execution_count": null,
      "metadata": {
        "id": "J0ekL4Kfe1zn"
      },
      "outputs": [],
      "source": [
        "model_densenet_2 = load_model(f\"./Modeles/{modelName}.h5\")\n",
        "model_densenet_2.compile(loss='categorical_crossentropy', optimizer=keras.optimizers.RMSprop(learning_rate=2e-5), metrics=['accuracy'])\n",
        "es = EarlyStopping(monitor='val_loss', mode='min', verbose=1, patience=10)\n",
        "cb_list=[es]\n",
        "epochs_nb = 35"
      ]
    },
    {
      "cell_type": "code",
      "execution_count": null,
      "metadata": {
        "colab": {
          "base_uri": "https://localhost:8080/"
        },
        "id": "Vd66XBfTfBcr",
        "outputId": "024394f2-f0e1-44e3-9d0d-4e4e63ec728d"
      },
      "outputs": [
        {
          "name": "stdout",
          "output_type": "stream",
          "text": [
            "Epoch 1/35\n",
            "56/56 [==============================] - 55s 815ms/step - loss: 0.0842 - accuracy: 0.9677 - val_loss: 0.3433 - val_accuracy: 0.9151\n",
            "Epoch 2/35\n",
            "56/56 [==============================] - 44s 782ms/step - loss: 0.0740 - accuracy: 0.9723 - val_loss: 0.2933 - val_accuracy: 0.9231\n",
            "Epoch 3/35\n",
            "56/56 [==============================] - 48s 851ms/step - loss: 0.0974 - accuracy: 0.9683 - val_loss: 0.2608 - val_accuracy: 0.9231\n",
            "Epoch 4/35\n",
            "56/56 [==============================] - 43s 764ms/step - loss: 0.0923 - accuracy: 0.9689 - val_loss: 0.3334 - val_accuracy: 0.9125\n",
            "Epoch 5/35\n",
            "56/56 [==============================] - 44s 779ms/step - loss: 0.0782 - accuracy: 0.9706 - val_loss: 0.3384 - val_accuracy: 0.9072\n",
            "Epoch 6/35\n",
            "56/56 [==============================] - 43s 764ms/step - loss: 0.0820 - accuracy: 0.9660 - val_loss: 0.2551 - val_accuracy: 0.9204\n",
            "Epoch 7/35\n",
            "56/56 [==============================] - 43s 765ms/step - loss: 0.0811 - accuracy: 0.9717 - val_loss: 0.3097 - val_accuracy: 0.9231\n",
            "Epoch 8/35\n",
            "56/56 [==============================] - 43s 761ms/step - loss: 0.0683 - accuracy: 0.9751 - val_loss: 0.2827 - val_accuracy: 0.9204\n",
            "Epoch 9/35\n",
            "56/56 [==============================] - 43s 768ms/step - loss: 0.0754 - accuracy: 0.9711 - val_loss: 0.2814 - val_accuracy: 0.9204\n",
            "Epoch 10/35\n",
            "56/56 [==============================] - 43s 766ms/step - loss: 0.0705 - accuracy: 0.9706 - val_loss: 0.2697 - val_accuracy: 0.9257\n",
            "Epoch 11/35\n",
            "56/56 [==============================] - 43s 762ms/step - loss: 0.0634 - accuracy: 0.9802 - val_loss: 0.2776 - val_accuracy: 0.9257\n",
            "Epoch 12/35\n",
            "56/56 [==============================] - 43s 765ms/step - loss: 0.0909 - accuracy: 0.9711 - val_loss: 0.3101 - val_accuracy: 0.9204\n",
            "Epoch 13/35\n",
            "56/56 [==============================] - 43s 771ms/step - loss: 0.0671 - accuracy: 0.9796 - val_loss: 0.2872 - val_accuracy: 0.9257\n",
            "Epoch 14/35\n",
            "56/56 [==============================] - 43s 764ms/step - loss: 0.0641 - accuracy: 0.9813 - val_loss: 0.2736 - val_accuracy: 0.9310\n",
            "Epoch 15/35\n",
            "56/56 [==============================] - 43s 766ms/step - loss: 0.0770 - accuracy: 0.9757 - val_loss: 0.3141 - val_accuracy: 0.9098\n",
            "Epoch 16/35\n",
            "56/56 [==============================] - 43s 775ms/step - loss: 0.0531 - accuracy: 0.9847 - val_loss: 0.2628 - val_accuracy: 0.9231\n",
            "Epoch 16: early stopping\n"
          ]
        }
      ],
      "source": [
        "startTime=time.time()\n",
        "history = model_densenet_2.fit(train_generator, epochs = epochs_nb, validation_data  = validation_generator, callbacks=cb_list)\n",
        "executionTime2 = (time.time() - startTime)\n",
        "model_densenet_2.save(f'./Modeles/{modelName}_2.h5')"
      ]
    },
    {
      "cell_type": "code",
      "execution_count": null,
      "metadata": {
        "colab": {
          "base_uri": "https://localhost:8080/"
        },
        "id": "RZkhsW-wiI2l",
        "outputId": "83de43ff-1ad9-4f68-fbbc-e7d3b8de9927"
      },
      "outputs": [
        {
          "name": "stdout",
          "output_type": "stream",
          "text": [
            "Durée d'entraînement : 745.85 secondes\n",
            "\n",
            "Performances sur le set de test : \n",
            "\n",
            "   accuracy  precision    recall  f1-score\n",
            "0  0.869792    0.87229  0.869792  0.869141\n"
          ]
        }
      ],
      "source": [
        "study_model(model_densenet_2, labels, test_generator, executionTime2)"
      ]
    },
    {
      "cell_type": "markdown",
      "metadata": {
        "id": "V_8nZun8jC4B"
      },
      "source": [
        "Les performances ont légèrement augmenté grâce quelques epochs supplémentaires mais l'early stopping montre qu'il ne faut pas trop dépasser non plus."
      ]
    },
    {
      "cell_type": "markdown",
      "metadata": {
        "id": "Hxp5OyWeesqS"
      },
      "source": [
        "## DenseNet201"
      ]
    },
    {
      "cell_type": "code",
      "execution_count": null,
      "metadata": {
        "colab": {
          "base_uri": "https://localhost:8080/"
        },
        "id": "YYCHE43K3YB9",
        "outputId": "55e90ca5-edf8-4079-b0c6-33052c6fa5ef"
      },
      "outputs": [
        {
          "name": "stdout",
          "output_type": "stream",
          "text": [
            "Found 1766 images belonging to 6 classes.\n",
            "Found 384 images belonging to 6 classes.\n",
            "Found 377 images belonging to 6 classes.\n",
            "Downloading data from https://storage.googleapis.com/tensorflow/keras-applications/densenet/densenet201_weights_tf_dim_ordering_tf_kernels_notop.h5\n",
            "74842112/74836368 [==============================] - 1s 0us/step\n",
            "74850304/74836368 [==============================] - 1s 0us/step\n"
          ]
        }
      ],
      "source": [
        "modelName = \"DenseNet201\"\n",
        "epochs_nb = 65\n",
        "\n",
        "input_shape, train_generator, test_generator, validation_generator =  makeGenerators(modelName, inputFolder, batch_size)\n",
        "model = DenseNet201(include_top = False, weights = 'imagenet', input_shape = input_shape)\n",
        "model_densenet_201 = Architecture(model, nClasses)\n",
        "model_densenet_201.compile(loss='categorical_crossentropy', optimizer=keras.optimizers.RMSprop(learning_rate=2e-5), metrics=['accuracy'])"
      ]
    },
    {
      "cell_type": "code",
      "execution_count": null,
      "metadata": {
        "colab": {
          "base_uri": "https://localhost:8080/"
        },
        "id": "2Rkx-QlV3a0G",
        "outputId": "d0f1f698-c7a9-4819-d029-bbf503c68213"
      },
      "outputs": [
        {
          "name": "stdout",
          "output_type": "stream",
          "text": [
            "Epoch 1/65\n",
            "56/56 [==============================] - 486s 8s/step - loss: 1.1105 - accuracy: 0.6280 - val_loss: 0.5836 - val_accuracy: 0.7958\n",
            "Epoch 2/65\n",
            "56/56 [==============================] - 45s 806ms/step - loss: 0.6275 - accuracy: 0.7718 - val_loss: 0.4476 - val_accuracy: 0.8276\n",
            "Epoch 3/65\n",
            "56/56 [==============================] - 45s 804ms/step - loss: 0.4860 - accuracy: 0.8233 - val_loss: 0.5732 - val_accuracy: 0.7931\n",
            "Epoch 4/65\n",
            "56/56 [==============================] - 45s 806ms/step - loss: 0.4367 - accuracy: 0.8431 - val_loss: 0.4096 - val_accuracy: 0.8594\n",
            "Epoch 5/65\n",
            "56/56 [==============================] - 45s 804ms/step - loss: 0.4133 - accuracy: 0.8624 - val_loss: 0.3276 - val_accuracy: 0.8833\n",
            "Epoch 6/65\n",
            "56/56 [==============================] - 45s 801ms/step - loss: 0.3355 - accuracy: 0.8794 - val_loss: 0.4067 - val_accuracy: 0.8753\n",
            "Epoch 7/65\n",
            "56/56 [==============================] - 45s 802ms/step - loss: 0.3382 - accuracy: 0.8851 - val_loss: 0.4581 - val_accuracy: 0.8674\n",
            "Epoch 8/65\n",
            "56/56 [==============================] - 45s 802ms/step - loss: 0.2949 - accuracy: 0.8924 - val_loss: 0.3767 - val_accuracy: 0.8700\n",
            "Epoch 9/65\n",
            "56/56 [==============================] - 45s 799ms/step - loss: 0.2948 - accuracy: 0.8941 - val_loss: 0.3619 - val_accuracy: 0.8753\n",
            "Epoch 10/65\n",
            "56/56 [==============================] - 45s 801ms/step - loss: 0.2559 - accuracy: 0.9105 - val_loss: 0.3551 - val_accuracy: 0.8780\n",
            "Epoch 11/65\n",
            "56/56 [==============================] - 45s 802ms/step - loss: 0.2434 - accuracy: 0.9156 - val_loss: 0.3494 - val_accuracy: 0.8966\n",
            "Epoch 12/65\n",
            "56/56 [==============================] - 45s 801ms/step - loss: 0.2203 - accuracy: 0.9219 - val_loss: 0.3900 - val_accuracy: 0.8753\n",
            "Epoch 13/65\n",
            "56/56 [==============================] - 45s 800ms/step - loss: 0.2291 - accuracy: 0.9219 - val_loss: 0.3314 - val_accuracy: 0.8939\n",
            "Epoch 14/65\n",
            "56/56 [==============================] - 45s 805ms/step - loss: 0.2161 - accuracy: 0.9309 - val_loss: 0.3953 - val_accuracy: 0.8912\n",
            "Epoch 15/65\n",
            "56/56 [==============================] - 45s 806ms/step - loss: 0.1973 - accuracy: 0.9343 - val_loss: 0.3475 - val_accuracy: 0.9019\n",
            "Epoch 16/65\n",
            "56/56 [==============================] - 45s 804ms/step - loss: 0.1971 - accuracy: 0.9349 - val_loss: 0.3559 - val_accuracy: 0.8859\n",
            "Epoch 17/65\n",
            "56/56 [==============================] - 45s 804ms/step - loss: 0.1597 - accuracy: 0.9451 - val_loss: 0.3375 - val_accuracy: 0.9019\n",
            "Epoch 18/65\n",
            "56/56 [==============================] - 46s 812ms/step - loss: 0.1903 - accuracy: 0.9281 - val_loss: 0.3818 - val_accuracy: 0.8912\n",
            "Epoch 19/65\n",
            "56/56 [==============================] - 45s 803ms/step - loss: 0.1621 - accuracy: 0.9400 - val_loss: 0.4185 - val_accuracy: 0.8939\n",
            "Epoch 20/65\n",
            "56/56 [==============================] - 45s 806ms/step - loss: 0.1472 - accuracy: 0.9417 - val_loss: 0.3876 - val_accuracy: 0.9019\n",
            "Epoch 21/65\n",
            "56/56 [==============================] - 45s 804ms/step - loss: 0.1468 - accuracy: 0.9496 - val_loss: 0.5333 - val_accuracy: 0.8568\n",
            "Epoch 22/65\n",
            "56/56 [==============================] - 45s 806ms/step - loss: 0.1711 - accuracy: 0.9422 - val_loss: 0.4226 - val_accuracy: 0.8833\n",
            "Epoch 23/65\n",
            "56/56 [==============================] - 45s 805ms/step - loss: 0.1416 - accuracy: 0.9451 - val_loss: 0.3395 - val_accuracy: 0.8939\n",
            "Epoch 24/65\n",
            "56/56 [==============================] - 45s 808ms/step - loss: 0.1221 - accuracy: 0.9519 - val_loss: 0.3578 - val_accuracy: 0.9019\n",
            "Epoch 25/65\n",
            "56/56 [==============================] - 45s 806ms/step - loss: 0.1343 - accuracy: 0.9507 - val_loss: 0.3693 - val_accuracy: 0.9125\n",
            "Epoch 26/65\n",
            "56/56 [==============================] - 45s 814ms/step - loss: 0.1380 - accuracy: 0.9541 - val_loss: 0.3130 - val_accuracy: 0.9019\n",
            "Epoch 27/65\n",
            "56/56 [==============================] - 45s 804ms/step - loss: 0.1179 - accuracy: 0.9524 - val_loss: 0.3044 - val_accuracy: 0.9151\n",
            "Epoch 28/65\n",
            "56/56 [==============================] - 45s 805ms/step - loss: 0.1363 - accuracy: 0.9473 - val_loss: 0.3589 - val_accuracy: 0.8886\n",
            "Epoch 29/65\n",
            "56/56 [==============================] - 45s 803ms/step - loss: 0.1044 - accuracy: 0.9655 - val_loss: 0.4001 - val_accuracy: 0.9072\n",
            "Epoch 30/65\n",
            "56/56 [==============================] - 45s 806ms/step - loss: 0.1175 - accuracy: 0.9587 - val_loss: 0.4246 - val_accuracy: 0.9045\n",
            "Epoch 31/65\n",
            "56/56 [==============================] - 45s 808ms/step - loss: 0.1206 - accuracy: 0.9558 - val_loss: 0.3051 - val_accuracy: 0.9098\n",
            "Epoch 32/65\n",
            "56/56 [==============================] - 45s 805ms/step - loss: 0.0882 - accuracy: 0.9723 - val_loss: 0.3625 - val_accuracy: 0.9045\n",
            "Epoch 33/65\n",
            "56/56 [==============================] - 45s 805ms/step - loss: 0.1072 - accuracy: 0.9621 - val_loss: 0.3214 - val_accuracy: 0.9204\n",
            "Epoch 34/65\n",
            "56/56 [==============================] - 45s 802ms/step - loss: 0.0952 - accuracy: 0.9655 - val_loss: 0.4963 - val_accuracy: 0.8833\n",
            "Epoch 35/65\n",
            "56/56 [==============================] - 45s 803ms/step - loss: 0.0874 - accuracy: 0.9666 - val_loss: 0.3096 - val_accuracy: 0.9231\n",
            "Epoch 36/65\n",
            "56/56 [==============================] - 45s 804ms/step - loss: 0.1148 - accuracy: 0.9655 - val_loss: 0.4895 - val_accuracy: 0.8912\n",
            "Epoch 37/65\n",
            "56/56 [==============================] - 45s 802ms/step - loss: 0.0992 - accuracy: 0.9672 - val_loss: 0.3622 - val_accuracy: 0.9045\n",
            "Epoch 38/65\n",
            "56/56 [==============================] - 45s 808ms/step - loss: 0.1110 - accuracy: 0.9632 - val_loss: 0.3669 - val_accuracy: 0.9072\n",
            "Epoch 39/65\n",
            "56/56 [==============================] - 45s 802ms/step - loss: 0.0839 - accuracy: 0.9717 - val_loss: 0.4087 - val_accuracy: 0.8886\n",
            "Epoch 40/65\n",
            "56/56 [==============================] - 45s 805ms/step - loss: 0.0901 - accuracy: 0.9711 - val_loss: 0.4052 - val_accuracy: 0.9019\n",
            "Epoch 41/65\n",
            "56/56 [==============================] - 45s 803ms/step - loss: 0.0829 - accuracy: 0.9689 - val_loss: 0.4238 - val_accuracy: 0.8939\n",
            "Epoch 42/65\n",
            "56/56 [==============================] - 45s 805ms/step - loss: 0.0868 - accuracy: 0.9740 - val_loss: 0.3633 - val_accuracy: 0.9072\n",
            "Epoch 43/65\n",
            "56/56 [==============================] - 45s 804ms/step - loss: 0.0944 - accuracy: 0.9689 - val_loss: 0.3708 - val_accuracy: 0.9098\n",
            "Epoch 44/65\n",
            "56/56 [==============================] - 45s 803ms/step - loss: 0.0722 - accuracy: 0.9728 - val_loss: 0.4347 - val_accuracy: 0.9125\n",
            "Epoch 45/65\n",
            "56/56 [==============================] - 45s 808ms/step - loss: 0.0734 - accuracy: 0.9706 - val_loss: 0.3417 - val_accuracy: 0.9125\n",
            "Epoch 46/65\n",
            "56/56 [==============================] - 45s 807ms/step - loss: 0.0747 - accuracy: 0.9740 - val_loss: 0.4176 - val_accuracy: 0.9125\n",
            "Epoch 47/65\n",
            "56/56 [==============================] - 45s 806ms/step - loss: 0.0825 - accuracy: 0.9717 - val_loss: 0.3421 - val_accuracy: 0.9257\n",
            "Epoch 48/65\n",
            "56/56 [==============================] - 45s 806ms/step - loss: 0.0717 - accuracy: 0.9723 - val_loss: 0.3850 - val_accuracy: 0.9151\n",
            "Epoch 49/65\n",
            "56/56 [==============================] - 45s 807ms/step - loss: 0.0857 - accuracy: 0.9706 - val_loss: 0.3454 - val_accuracy: 0.9151\n",
            "Epoch 50/65\n",
            "56/56 [==============================] - 45s 804ms/step - loss: 0.0780 - accuracy: 0.9757 - val_loss: 0.3622 - val_accuracy: 0.9257\n",
            "Epoch 51/65\n",
            "56/56 [==============================] - 46s 808ms/step - loss: 0.0662 - accuracy: 0.9762 - val_loss: 0.4143 - val_accuracy: 0.9151\n",
            "Epoch 52/65\n",
            "56/56 [==============================] - 45s 805ms/step - loss: 0.0538 - accuracy: 0.9819 - val_loss: 0.3950 - val_accuracy: 0.9045\n",
            "Epoch 53/65\n",
            "56/56 [==============================] - 45s 808ms/step - loss: 0.0837 - accuracy: 0.9734 - val_loss: 0.3332 - val_accuracy: 0.9231\n",
            "Epoch 54/65\n",
            "56/56 [==============================] - 45s 806ms/step - loss: 0.0718 - accuracy: 0.9762 - val_loss: 0.4097 - val_accuracy: 0.9257\n",
            "Epoch 55/65\n",
            "56/56 [==============================] - 45s 806ms/step - loss: 0.0686 - accuracy: 0.9785 - val_loss: 0.3292 - val_accuracy: 0.9178\n",
            "Epoch 56/65\n",
            "56/56 [==============================] - 45s 805ms/step - loss: 0.0546 - accuracy: 0.9796 - val_loss: 0.3299 - val_accuracy: 0.9178\n",
            "Epoch 57/65\n",
            "56/56 [==============================] - 45s 806ms/step - loss: 0.0766 - accuracy: 0.9745 - val_loss: 0.3311 - val_accuracy: 0.9284\n",
            "Epoch 58/65\n",
            "56/56 [==============================] - 45s 808ms/step - loss: 0.0806 - accuracy: 0.9751 - val_loss: 0.3145 - val_accuracy: 0.9231\n",
            "Epoch 59/65\n",
            "56/56 [==============================] - 45s 803ms/step - loss: 0.0690 - accuracy: 0.9762 - val_loss: 0.3287 - val_accuracy: 0.9178\n",
            "Epoch 60/65\n",
            "56/56 [==============================] - 45s 805ms/step - loss: 0.0683 - accuracy: 0.9751 - val_loss: 0.2875 - val_accuracy: 0.9257\n",
            "Epoch 61/65\n",
            "56/56 [==============================] - 45s 806ms/step - loss: 0.0623 - accuracy: 0.9796 - val_loss: 0.3164 - val_accuracy: 0.9284\n",
            "Epoch 62/65\n",
            "56/56 [==============================] - 45s 804ms/step - loss: 0.0580 - accuracy: 0.9779 - val_loss: 0.3305 - val_accuracy: 0.9310\n",
            "Epoch 63/65\n",
            "56/56 [==============================] - 45s 807ms/step - loss: 0.0442 - accuracy: 0.9864 - val_loss: 0.2915 - val_accuracy: 0.9257\n",
            "Epoch 64/65\n",
            "56/56 [==============================] - 45s 807ms/step - loss: 0.0405 - accuracy: 0.9853 - val_loss: 0.3106 - val_accuracy: 0.9204\n",
            "Epoch 65/65\n",
            "56/56 [==============================] - 46s 809ms/step - loss: 0.0520 - accuracy: 0.9830 - val_loss: 0.3221 - val_accuracy: 0.9125\n"
          ]
        }
      ],
      "source": [
        "startTime=time.time()\n",
        "history = model_densenet_201.fit(train_generator, epochs = epochs_nb, validation_data  = validation_generator)\n",
        "executionTime = (time.time() - startTime)\n",
        "model_densenet_201.save(f'./Modeles/{modelName}.h5')"
      ]
    },
    {
      "cell_type": "code",
      "execution_count": null,
      "metadata": {
        "colab": {
          "base_uri": "https://localhost:8080/"
        },
        "id": "OV9x5k2845hh",
        "outputId": "195ee49e-b074-47b6-fc57-6e7761256cc0"
      },
      "outputs": [
        {
          "name": "stdout",
          "output_type": "stream",
          "text": [
            "Durée d'entraînement : 3466.23 secondes\n",
            "\n",
            "Performances sur le set de test : \n",
            "\n",
            "   accuracy  precision    recall  f1-score\n",
            "0  0.869792   0.872244  0.869792  0.868967\n"
          ]
        }
      ],
      "source": [
        "study_model(model_densenet_201, labels, test_generator, executionTime)"
      ]
    },
    {
      "cell_type": "code",
      "execution_count": null,
      "metadata": {
        "colab": {
          "base_uri": "https://localhost:8080/",
          "height": 349
        },
        "id": "FyUvXyo95GQd",
        "outputId": "49ebfa9f-c075-407e-c30a-4a85226ad464"
      },
      "outputs": [
        {
          "data": {
            "image/png": "[encoded data removed]",
            "text/plain": [
              "<Figure size 1080x360 with 2 Axes>"
            ]
          },
          "metadata": {
            "needs_background": "light"
          },
          "output_type": "display_data"
        }
      ],
      "source": [
        "plot_accuracy_loss(history)"
      ]
    },
    {
      "cell_type": "markdown",
      "metadata": {
        "id": "7XytQxcc6CzQ"
      },
      "source": [
        "## NASNetLarge"
      ]
    },
    {
      "cell_type": "code",
      "execution_count": null,
      "metadata": {
        "colab": {
          "base_uri": "https://localhost:8080/"
        },
        "id": "HK5Fcz3d6KgG",
        "outputId": "e827dbb8-7769-4133-e61e-2fddda1fcf34"
      },
      "outputs": [
        {
          "name": "stdout",
          "output_type": "stream",
          "text": [
            "Found 1766 images belonging to 6 classes.\n",
            "Found 384 images belonging to 6 classes.\n",
            "Found 377 images belonging to 6 classes.\n",
            "Downloading data from https://storage.googleapis.com/tensorflow/keras-applications/nasnet/NASNet-large-no-top.h5\n",
            "343613440/343610240 [==============================] - 3s 0us/step\n",
            "343621632/343610240 [==============================] - 3s 0us/step\n"
          ]
        }
      ],
      "source": [
        "modelName = \"NASNetLarge\"\n",
        "\n",
        "input_shape, train_generator, test_generator, validation_generator =  makeGenerators(modelName, inputFolder, batch_size)\n",
        "model = NASNetLarge(include_top = False, weights = 'imagenet', input_shape = input_shape)\n",
        "model_nasnet_large = Architecture(model, nClasses)\n",
        "model_nasnet_large.compile(loss='categorical_crossentropy', optimizer=keras.optimizers.RMSprop(learning_rate=2e-5), metrics=['accuracy'])"
      ]
    },
    {
      "cell_type": "code",
      "execution_count": null,
      "metadata": {
        "colab": {
          "base_uri": "https://localhost:8080/"
        },
        "id": "xm1VaKxz6Mrl",
        "outputId": "bc4161db-8120-4718-904b-007a58d25051"
      },
      "outputs": [
        {
          "name": "stdout",
          "output_type": "stream",
          "text": [
            "Epoch 1/65\n",
            "56/56 [==============================] - 568s 10s/step - loss: 0.9728 - accuracy: 0.6931 - val_loss: 0.4998 - val_accuracy: 0.8382\n",
            "Epoch 2/65\n",
            "56/56 [==============================] - 143s 3s/step - loss: 0.5606 - accuracy: 0.8205 - val_loss: 0.4872 - val_accuracy: 0.8462\n",
            "Epoch 3/65\n",
            "56/56 [==============================] - 143s 3s/step - loss: 0.5281 - accuracy: 0.8262 - val_loss: 0.4440 - val_accuracy: 0.8594\n",
            "Epoch 4/65\n",
            "56/56 [==============================] - 144s 3s/step - loss: 0.4342 - accuracy: 0.8601 - val_loss: 0.4971 - val_accuracy: 0.8594\n",
            "Epoch 5/65\n",
            "56/56 [==============================] - 143s 3s/step - loss: 0.4091 - accuracy: 0.8726 - val_loss: 0.5375 - val_accuracy: 0.8276\n",
            "Epoch 6/65\n",
            "56/56 [==============================] - 143s 3s/step - loss: 0.3742 - accuracy: 0.8760 - val_loss: 0.4049 - val_accuracy: 0.8753\n",
            "Epoch 7/65\n",
            "56/56 [==============================] - 144s 3s/step - loss: 0.3120 - accuracy: 0.9015 - val_loss: 0.4095 - val_accuracy: 0.8674\n",
            "Epoch 8/65\n",
            "56/56 [==============================] - 144s 3s/step - loss: 0.3579 - accuracy: 0.8913 - val_loss: 0.4483 - val_accuracy: 0.8568\n",
            "Epoch 9/65\n",
            "56/56 [==============================] - 143s 3s/step - loss: 0.3107 - accuracy: 0.8992 - val_loss: 0.3880 - val_accuracy: 0.8806\n",
            "Epoch 10/65\n",
            "56/56 [==============================] - 143s 3s/step - loss: 0.3144 - accuracy: 0.9111 - val_loss: 0.4105 - val_accuracy: 0.8727\n",
            "Epoch 11/65\n",
            "56/56 [==============================] - 143s 3s/step - loss: 0.2742 - accuracy: 0.9185 - val_loss: 0.3583 - val_accuracy: 0.8780\n",
            "Epoch 12/65\n",
            "56/56 [==============================] - 143s 3s/step - loss: 0.2539 - accuracy: 0.9298 - val_loss: 0.3825 - val_accuracy: 0.8886\n",
            "Epoch 13/65\n",
            "56/56 [==============================] - 144s 3s/step - loss: 0.2631 - accuracy: 0.9236 - val_loss: 0.4577 - val_accuracy: 0.8727\n",
            "Epoch 14/65\n",
            "56/56 [==============================] - 143s 3s/step - loss: 0.2769 - accuracy: 0.9145 - val_loss: 0.3718 - val_accuracy: 0.8806\n",
            "Epoch 15/65\n",
            "56/56 [==============================] - 143s 3s/step - loss: 0.2310 - accuracy: 0.9366 - val_loss: 0.4279 - val_accuracy: 0.8939\n",
            "Epoch 16/65\n",
            "56/56 [==============================] - 143s 3s/step - loss: 0.2599 - accuracy: 0.9360 - val_loss: 0.5804 - val_accuracy: 0.8621\n",
            "Epoch 17/65\n",
            "56/56 [==============================] - 143s 3s/step - loss: 0.1939 - accuracy: 0.9451 - val_loss: 0.3788 - val_accuracy: 0.8859\n",
            "Epoch 18/65\n",
            "56/56 [==============================] - 144s 3s/step - loss: 0.2254 - accuracy: 0.9417 - val_loss: 0.5484 - val_accuracy: 0.8674\n",
            "Epoch 19/65\n",
            "56/56 [==============================] - 144s 3s/step - loss: 0.2249 - accuracy: 0.9326 - val_loss: 0.4819 - val_accuracy: 0.8647\n",
            "Epoch 20/65\n",
            "56/56 [==============================] - 143s 3s/step - loss: 0.1992 - accuracy: 0.9337 - val_loss: 0.4488 - val_accuracy: 0.8700\n",
            "Epoch 21/65\n",
            "56/56 [==============================] - 143s 3s/step - loss: 0.1962 - accuracy: 0.9394 - val_loss: 0.4119 - val_accuracy: 0.8806\n",
            "Epoch 22/65\n",
            "56/56 [==============================] - 143s 3s/step - loss: 0.1519 - accuracy: 0.9536 - val_loss: 0.4656 - val_accuracy: 0.8621\n",
            "Epoch 23/65\n",
            "56/56 [==============================] - 144s 3s/step - loss: 0.1853 - accuracy: 0.9468 - val_loss: 0.4889 - val_accuracy: 0.8780\n",
            "Epoch 24/65\n",
            "56/56 [==============================] - 144s 3s/step - loss: 0.1781 - accuracy: 0.9513 - val_loss: 0.4423 - val_accuracy: 0.9125\n",
            "Epoch 25/65\n",
            "56/56 [==============================] - 144s 3s/step - loss: 0.1508 - accuracy: 0.9547 - val_loss: 0.4785 - val_accuracy: 0.8833\n",
            "Epoch 26/65\n",
            "56/56 [==============================] - 144s 3s/step - loss: 0.1400 - accuracy: 0.9592 - val_loss: 0.5398 - val_accuracy: 0.8727\n",
            "Epoch 27/65\n",
            "56/56 [==============================] - 144s 3s/step - loss: 0.1574 - accuracy: 0.9479 - val_loss: 0.4265 - val_accuracy: 0.8939\n",
            "Epoch 28/65\n",
            "56/56 [==============================] - 144s 3s/step - loss: 0.1607 - accuracy: 0.9547 - val_loss: 0.4476 - val_accuracy: 0.8727\n",
            "Epoch 29/65\n",
            "56/56 [==============================] - 144s 3s/step - loss: 0.1623 - accuracy: 0.9519 - val_loss: 0.6024 - val_accuracy: 0.8674\n",
            "Epoch 30/65\n",
            "56/56 [==============================] - 143s 3s/step - loss: 0.1821 - accuracy: 0.9536 - val_loss: 0.4106 - val_accuracy: 0.9019\n",
            "Epoch 31/65\n",
            "56/56 [==============================] - 144s 3s/step - loss: 0.1554 - accuracy: 0.9598 - val_loss: 0.4069 - val_accuracy: 0.9125\n",
            "Epoch 32/65\n",
            "56/56 [==============================] - 144s 3s/step - loss: 0.1714 - accuracy: 0.9564 - val_loss: 0.4463 - val_accuracy: 0.8992\n",
            "Epoch 33/65\n",
            "56/56 [==============================] - 144s 3s/step - loss: 0.1653 - accuracy: 0.9547 - val_loss: 0.5976 - val_accuracy: 0.8886\n",
            "Epoch 34/65\n",
            "56/56 [==============================] - 144s 3s/step - loss: 0.1391 - accuracy: 0.9581 - val_loss: 0.4860 - val_accuracy: 0.8806\n",
            "Epoch 35/65\n",
            "56/56 [==============================] - 144s 3s/step - loss: 0.1536 - accuracy: 0.9604 - val_loss: 0.5031 - val_accuracy: 0.8806\n",
            "Epoch 36/65\n",
            "56/56 [==============================] - 144s 3s/step - loss: 0.1227 - accuracy: 0.9638 - val_loss: 0.4777 - val_accuracy: 0.9125\n",
            "Epoch 37/65\n",
            "56/56 [==============================] - 143s 3s/step - loss: 0.1563 - accuracy: 0.9604 - val_loss: 0.4855 - val_accuracy: 0.9019\n",
            "Epoch 38/65\n",
            "56/56 [==============================] - 143s 3s/step - loss: 0.1123 - accuracy: 0.9649 - val_loss: 0.5865 - val_accuracy: 0.9019\n",
            "Epoch 39/65\n",
            "56/56 [==============================] - 143s 3s/step - loss: 0.1628 - accuracy: 0.9558 - val_loss: 0.3799 - val_accuracy: 0.9045\n",
            "Epoch 40/65\n",
            "56/56 [==============================] - 143s 3s/step - loss: 0.1110 - accuracy: 0.9711 - val_loss: 0.4179 - val_accuracy: 0.9045\n",
            "Epoch 41/65\n",
            "56/56 [==============================] - 143s 3s/step - loss: 0.1166 - accuracy: 0.9683 - val_loss: 0.4404 - val_accuracy: 0.9019\n",
            "Epoch 42/65\n",
            "56/56 [==============================] - 143s 3s/step - loss: 0.1063 - accuracy: 0.9677 - val_loss: 0.5996 - val_accuracy: 0.8806\n",
            "Epoch 43/65\n",
            "56/56 [==============================] - 143s 3s/step - loss: 0.0968 - accuracy: 0.9740 - val_loss: 0.6679 - val_accuracy: 0.8992\n",
            "Epoch 44/65\n",
            "56/56 [==============================] - 143s 3s/step - loss: 0.1200 - accuracy: 0.9649 - val_loss: 0.4064 - val_accuracy: 0.9019\n",
            "Epoch 45/65\n",
            "56/56 [==============================] - 143s 3s/step - loss: 0.1190 - accuracy: 0.9655 - val_loss: 0.4928 - val_accuracy: 0.8806\n",
            "Epoch 46/65\n",
            "56/56 [==============================] - 144s 3s/step - loss: 0.0822 - accuracy: 0.9779 - val_loss: 0.5415 - val_accuracy: 0.8833\n",
            "Epoch 47/65\n",
            "56/56 [==============================] - 143s 3s/step - loss: 0.0950 - accuracy: 0.9757 - val_loss: 0.4495 - val_accuracy: 0.9019\n",
            "Epoch 48/65\n",
            "56/56 [==============================] - 143s 3s/step - loss: 0.0936 - accuracy: 0.9740 - val_loss: 0.4130 - val_accuracy: 0.9045\n",
            "Epoch 49/65\n",
            "56/56 [==============================] - 143s 3s/step - loss: 0.1323 - accuracy: 0.9615 - val_loss: 0.5167 - val_accuracy: 0.9019\n",
            "Epoch 50/65\n",
            "56/56 [==============================] - 143s 3s/step - loss: 0.1513 - accuracy: 0.9700 - val_loss: 0.4536 - val_accuracy: 0.9019\n",
            "Epoch 51/65\n",
            "56/56 [==============================] - 142s 3s/step - loss: 0.1385 - accuracy: 0.9745 - val_loss: 0.4560 - val_accuracy: 0.8992\n",
            "Epoch 52/65\n",
            "56/56 [==============================] - 143s 3s/step - loss: 0.0978 - accuracy: 0.9762 - val_loss: 0.4590 - val_accuracy: 0.9178\n",
            "Epoch 53/65\n",
            "56/56 [==============================] - 142s 3s/step - loss: 0.0852 - accuracy: 0.9779 - val_loss: 0.4726 - val_accuracy: 0.8886\n",
            "Epoch 54/65\n",
            "56/56 [==============================] - 142s 3s/step - loss: 0.0965 - accuracy: 0.9785 - val_loss: 0.4824 - val_accuracy: 0.9178\n",
            "Epoch 55/65\n",
            "56/56 [==============================] - 144s 3s/step - loss: 0.1164 - accuracy: 0.9740 - val_loss: 0.4976 - val_accuracy: 0.9019\n",
            "Epoch 56/65\n",
            "56/56 [==============================] - 142s 3s/step - loss: 0.1034 - accuracy: 0.9745 - val_loss: 0.4077 - val_accuracy: 0.9204\n",
            "Epoch 57/65\n",
            "56/56 [==============================] - 142s 3s/step - loss: 0.0934 - accuracy: 0.9751 - val_loss: 0.4636 - val_accuracy: 0.8966\n",
            "Epoch 58/65\n",
            "56/56 [==============================] - 142s 3s/step - loss: 0.0738 - accuracy: 0.9790 - val_loss: 0.4897 - val_accuracy: 0.8939\n",
            "Epoch 59/65\n",
            "56/56 [==============================] - 142s 3s/step - loss: 0.0998 - accuracy: 0.9757 - val_loss: 0.5367 - val_accuracy: 0.8992\n",
            "Epoch 60/65\n",
            "56/56 [==============================] - 142s 3s/step - loss: 0.0852 - accuracy: 0.9740 - val_loss: 0.5343 - val_accuracy: 0.9098\n",
            "Epoch 61/65\n",
            "56/56 [==============================] - 142s 3s/step - loss: 0.0753 - accuracy: 0.9830 - val_loss: 0.4965 - val_accuracy: 0.9072\n",
            "Epoch 62/65\n",
            "56/56 [==============================] - 142s 3s/step - loss: 0.0874 - accuracy: 0.9768 - val_loss: 0.4960 - val_accuracy: 0.8992\n",
            "Epoch 63/65\n",
            "56/56 [==============================] - 142s 3s/step - loss: 0.0934 - accuracy: 0.9762 - val_loss: 0.6282 - val_accuracy: 0.8886\n",
            "Epoch 64/65\n",
            "56/56 [==============================] - 141s 3s/step - loss: 0.1167 - accuracy: 0.9740 - val_loss: 0.5129 - val_accuracy: 0.9019\n",
            "Epoch 65/65\n",
            "56/56 [==============================] - 142s 3s/step - loss: 0.0989 - accuracy: 0.9745 - val_loss: 0.4650 - val_accuracy: 0.9178\n"
          ]
        }
      ],
      "source": [
        "startTime=time.time()\n",
        "history = model_nasnet_large.fit(train_generator, epochs = epochs_nb, validation_data  = validation_generator)\n",
        "executionTime = (time.time() - startTime)\n",
        "model_nasnet_large.save(f'./Modeles/{modelName}.h5')"
      ]
    },
    {
      "cell_type": "code",
      "execution_count": null,
      "metadata": {
        "colab": {
          "base_uri": "https://localhost:8080/"
        },
        "id": "PrRNokXM6PMx",
        "outputId": "95e711f0-9237-438c-e96b-8d822b78f1fc"
      },
      "outputs": [
        {
          "name": "stdout",
          "output_type": "stream",
          "text": [
            "Durée d'entraînement : 9736.31 secondes\n",
            "\n",
            "Performances sur le set de test : \n",
            "\n",
            "   accuracy  precision    recall  f1-score\n",
            "0  0.885417   0.889389  0.885417  0.884422\n"
          ]
        }
      ],
      "source": [
        "study_model(model_nasnet_large, labels, test_generator, executionTime)"
      ]
    },
    {
      "cell_type": "code",
      "execution_count": null,
      "metadata": {
        "colab": {
          "base_uri": "https://localhost:8080/",
          "height": 349
        },
        "id": "REhRQzEV6eFw",
        "outputId": "276c9201-10ec-4a59-a5f2-2e6b6830b4a2"
      },
      "outputs": [
        {
          "data": {
            "image/png": "[encoded data removed]",
            "text/plain": [
              "<Figure size 1080x360 with 2 Axes>"
            ]
          },
          "metadata": {
            "needs_background": "light"
          },
          "output_type": "display_data"
        }
      ],
      "source": [
        "plot_accuracy_loss(history)"
      ]
    },
    {
      "cell_type": "markdown",
      "metadata": {
        "id": "2wePPnvv7Jgo"
      },
      "source": [
        "## NASNetMobile"
      ]
    },
    {
      "cell_type": "code",
      "execution_count": null,
      "metadata": {
        "colab": {
          "base_uri": "https://localhost:8080/"
        },
        "id": "HezohIYky2Q5",
        "outputId": "ed5b8d8d-edc3-4776-ef75-3b46c6f29399"
      },
      "outputs": [
        {
          "name": "stdout",
          "output_type": "stream",
          "text": [
            "Found 1766 images belonging to 6 classes.\n",
            "Found 384 images belonging to 6 classes.\n",
            "Found 377 images belonging to 6 classes.\n",
            "Downloading data from https://storage.googleapis.com/tensorflow/keras-applications/nasnet/NASNet-mobile-no-top.h5\n",
            "19996672/19993432 [==============================] - 0s 0us/step\n",
            "20004864/19993432 [==============================] - 0s 0us/step\n"
          ]
        }
      ],
      "source": [
        "modelName = \"NASNetMobile\"\n",
        "\n",
        "input_shape, train_generator, test_generator, validation_generator =  makeGenerators(modelName, inputFolder, batch_size)\n",
        "model = NASNetMobile(include_top = False, weights = 'imagenet', input_shape = input_shape)\n",
        "model_nasnet_mobile = Architecture(model, nClasses)\n",
        "model_nasnet_mobile.compile(loss='categorical_crossentropy', optimizer=keras.optimizers.RMSprop(learning_rate=2e-5), metrics=['accuracy'])"
      ]
    },
    {
      "cell_type": "code",
      "execution_count": null,
      "metadata": {
        "colab": {
          "base_uri": "https://localhost:8080/"
        },
        "id": "wa9157zJy9Mf",
        "outputId": "69e25a2c-c8cb-4e33-e709-97774298b047"
      },
      "outputs": [
        {
          "name": "stdout",
          "output_type": "stream",
          "text": [
            "Epoch 1/65\n",
            "56/56 [==============================] - 593s 10s/step - loss: 1.0829 - accuracy: 0.6065 - val_loss: 0.6742 - val_accuracy: 0.7507\n",
            "Epoch 2/65\n",
            "56/56 [==============================] - 34s 602ms/step - loss: 0.7447 - accuracy: 0.7356 - val_loss: 0.6633 - val_accuracy: 0.7507\n",
            "Epoch 3/65\n",
            "56/56 [==============================] - 34s 605ms/step - loss: 0.6620 - accuracy: 0.7576 - val_loss: 0.5563 - val_accuracy: 0.8037\n",
            "Epoch 4/65\n",
            "56/56 [==============================] - 34s 607ms/step - loss: 0.5639 - accuracy: 0.7894 - val_loss: 0.5146 - val_accuracy: 0.8064\n",
            "Epoch 5/65\n",
            "56/56 [==============================] - 34s 600ms/step - loss: 0.5425 - accuracy: 0.8035 - val_loss: 0.5622 - val_accuracy: 0.8090\n",
            "Epoch 6/65\n",
            "56/56 [==============================] - 33s 592ms/step - loss: 0.4879 - accuracy: 0.8165 - val_loss: 0.5040 - val_accuracy: 0.8276\n",
            "Epoch 7/65\n",
            "56/56 [==============================] - 34s 598ms/step - loss: 0.5048 - accuracy: 0.8188 - val_loss: 0.5519 - val_accuracy: 0.8064\n",
            "Epoch 8/65\n",
            "56/56 [==============================] - 34s 604ms/step - loss: 0.4518 - accuracy: 0.8358 - val_loss: 0.4950 - val_accuracy: 0.8143\n",
            "Epoch 9/65\n",
            "56/56 [==============================] - 33s 590ms/step - loss: 0.4538 - accuracy: 0.8454 - val_loss: 0.4872 - val_accuracy: 0.8435\n",
            "Epoch 10/65\n",
            "56/56 [==============================] - 33s 588ms/step - loss: 0.4435 - accuracy: 0.8392 - val_loss: 0.5177 - val_accuracy: 0.8143\n",
            "Epoch 11/65\n",
            "56/56 [==============================] - 33s 586ms/step - loss: 0.4152 - accuracy: 0.8499 - val_loss: 0.4905 - val_accuracy: 0.8302\n",
            "Epoch 12/65\n",
            "56/56 [==============================] - 33s 587ms/step - loss: 0.4117 - accuracy: 0.8618 - val_loss: 0.4446 - val_accuracy: 0.8382\n",
            "Epoch 13/65\n",
            "56/56 [==============================] - 33s 586ms/step - loss: 0.3999 - accuracy: 0.8573 - val_loss: 0.4699 - val_accuracy: 0.8355\n",
            "Epoch 14/65\n",
            "56/56 [==============================] - 33s 589ms/step - loss: 0.3551 - accuracy: 0.8771 - val_loss: 0.4932 - val_accuracy: 0.8435\n",
            "Epoch 15/65\n",
            "56/56 [==============================] - 33s 592ms/step - loss: 0.3309 - accuracy: 0.8760 - val_loss: 0.4793 - val_accuracy: 0.8462\n",
            "Epoch 16/65\n",
            "56/56 [==============================] - 34s 599ms/step - loss: 0.3606 - accuracy: 0.8726 - val_loss: 0.4906 - val_accuracy: 0.8462\n",
            "Epoch 17/65\n",
            "56/56 [==============================] - 34s 600ms/step - loss: 0.3108 - accuracy: 0.8822 - val_loss: 0.5574 - val_accuracy: 0.8196\n",
            "Epoch 18/65\n",
            "56/56 [==============================] - 33s 589ms/step - loss: 0.3283 - accuracy: 0.8805 - val_loss: 0.4528 - val_accuracy: 0.8515\n",
            "Epoch 19/65\n",
            "56/56 [==============================] - 33s 586ms/step - loss: 0.3153 - accuracy: 0.8884 - val_loss: 0.4664 - val_accuracy: 0.8488\n",
            "Epoch 20/65\n",
            "56/56 [==============================] - 33s 586ms/step - loss: 0.3376 - accuracy: 0.8777 - val_loss: 0.4696 - val_accuracy: 0.8408\n",
            "Epoch 21/65\n",
            "56/56 [==============================] - 33s 593ms/step - loss: 0.3163 - accuracy: 0.8828 - val_loss: 0.4614 - val_accuracy: 0.8435\n",
            "Epoch 22/65\n",
            "56/56 [==============================] - 34s 599ms/step - loss: 0.2721 - accuracy: 0.9009 - val_loss: 0.4918 - val_accuracy: 0.8276\n",
            "Epoch 23/65\n",
            "56/56 [==============================] - 33s 592ms/step - loss: 0.3227 - accuracy: 0.8851 - val_loss: 0.4292 - val_accuracy: 0.8621\n",
            "Epoch 24/65\n",
            "56/56 [==============================] - 33s 591ms/step - loss: 0.3137 - accuracy: 0.8907 - val_loss: 0.4962 - val_accuracy: 0.8541\n",
            "Epoch 25/65\n",
            "56/56 [==============================] - 33s 590ms/step - loss: 0.3008 - accuracy: 0.8930 - val_loss: 0.4077 - val_accuracy: 0.8674\n",
            "Epoch 26/65\n",
            "56/56 [==============================] - 33s 590ms/step - loss: 0.2838 - accuracy: 0.8896 - val_loss: 0.4330 - val_accuracy: 0.8674\n",
            "Epoch 27/65\n",
            "56/56 [==============================] - 34s 609ms/step - loss: 0.2856 - accuracy: 0.8986 - val_loss: 0.4742 - val_accuracy: 0.8462\n",
            "Epoch 28/65\n",
            "56/56 [==============================] - 34s 603ms/step - loss: 0.2373 - accuracy: 0.9224 - val_loss: 0.4661 - val_accuracy: 0.8541\n",
            "Epoch 29/65\n",
            "56/56 [==============================] - 33s 593ms/step - loss: 0.2680 - accuracy: 0.9100 - val_loss: 0.4913 - val_accuracy: 0.8462\n",
            "Epoch 30/65\n",
            "56/56 [==============================] - 33s 595ms/step - loss: 0.2600 - accuracy: 0.9151 - val_loss: 0.4252 - val_accuracy: 0.8488\n",
            "Epoch 31/65\n",
            "56/56 [==============================] - 33s 593ms/step - loss: 0.2587 - accuracy: 0.9122 - val_loss: 0.4754 - val_accuracy: 0.8568\n",
            "Epoch 32/65\n",
            "56/56 [==============================] - 34s 599ms/step - loss: 0.2219 - accuracy: 0.9253 - val_loss: 0.4949 - val_accuracy: 0.8568\n",
            "Epoch 33/65\n",
            "56/56 [==============================] - 33s 595ms/step - loss: 0.2537 - accuracy: 0.9026 - val_loss: 0.5077 - val_accuracy: 0.8355\n",
            "Epoch 34/65\n",
            "56/56 [==============================] - 33s 589ms/step - loss: 0.2419 - accuracy: 0.9168 - val_loss: 0.4973 - val_accuracy: 0.8594\n",
            "Epoch 35/65\n",
            "56/56 [==============================] - 33s 584ms/step - loss: 0.2041 - accuracy: 0.9253 - val_loss: 0.5529 - val_accuracy: 0.8302\n",
            "Epoch 36/65\n",
            "56/56 [==============================] - 33s 597ms/step - loss: 0.2361 - accuracy: 0.9094 - val_loss: 0.4997 - val_accuracy: 0.8541\n",
            "Epoch 37/65\n",
            "56/56 [==============================] - 33s 585ms/step - loss: 0.2379 - accuracy: 0.9151 - val_loss: 0.4550 - val_accuracy: 0.8594\n",
            "Epoch 38/65\n",
            "56/56 [==============================] - 33s 580ms/step - loss: 0.2192 - accuracy: 0.9258 - val_loss: 0.4607 - val_accuracy: 0.8515\n",
            "Epoch 39/65\n",
            "56/56 [==============================] - 33s 583ms/step - loss: 0.2083 - accuracy: 0.9253 - val_loss: 0.4508 - val_accuracy: 0.8594\n",
            "Epoch 40/65\n",
            "56/56 [==============================] - 33s 581ms/step - loss: 0.1953 - accuracy: 0.9264 - val_loss: 0.4261 - val_accuracy: 0.8647\n",
            "Epoch 41/65\n",
            "56/56 [==============================] - 33s 583ms/step - loss: 0.2092 - accuracy: 0.9270 - val_loss: 0.5232 - val_accuracy: 0.8408\n",
            "Epoch 42/65\n",
            "56/56 [==============================] - 33s 594ms/step - loss: 0.2046 - accuracy: 0.9275 - val_loss: 0.4667 - val_accuracy: 0.8541\n",
            "Epoch 43/65\n",
            "56/56 [==============================] - 33s 586ms/step - loss: 0.2098 - accuracy: 0.9309 - val_loss: 0.4269 - val_accuracy: 0.8621\n",
            "Epoch 44/65\n",
            "56/56 [==============================] - 33s 584ms/step - loss: 0.2292 - accuracy: 0.9202 - val_loss: 0.4991 - val_accuracy: 0.8382\n",
            "Epoch 45/65\n",
            "56/56 [==============================] - 33s 581ms/step - loss: 0.1971 - accuracy: 0.9309 - val_loss: 0.4334 - val_accuracy: 0.8488\n",
            "Epoch 46/65\n",
            "56/56 [==============================] - 33s 589ms/step - loss: 0.1803 - accuracy: 0.9326 - val_loss: 0.4930 - val_accuracy: 0.8435\n",
            "Epoch 47/65\n",
            "56/56 [==============================] - 33s 582ms/step - loss: 0.1792 - accuracy: 0.9371 - val_loss: 0.4540 - val_accuracy: 0.8488\n",
            "Epoch 48/65\n",
            "56/56 [==============================] - 33s 581ms/step - loss: 0.2087 - accuracy: 0.9315 - val_loss: 0.5033 - val_accuracy: 0.8621\n",
            "Epoch 49/65\n",
            "56/56 [==============================] - 33s 581ms/step - loss: 0.1917 - accuracy: 0.9287 - val_loss: 0.5085 - val_accuracy: 0.8302\n",
            "Epoch 50/65\n",
            "56/56 [==============================] - 33s 583ms/step - loss: 0.1954 - accuracy: 0.9332 - val_loss: 0.5117 - val_accuracy: 0.8329\n",
            "Epoch 51/65\n",
            "56/56 [==============================] - 33s 585ms/step - loss: 0.1855 - accuracy: 0.9354 - val_loss: 0.4783 - val_accuracy: 0.8541\n",
            "Epoch 52/65\n",
            "56/56 [==============================] - 33s 584ms/step - loss: 0.1858 - accuracy: 0.9411 - val_loss: 0.4568 - val_accuracy: 0.8700\n",
            "Epoch 53/65\n",
            "56/56 [==============================] - 32s 580ms/step - loss: 0.1902 - accuracy: 0.9377 - val_loss: 0.4681 - val_accuracy: 0.8594\n",
            "Epoch 54/65\n",
            "56/56 [==============================] - 33s 584ms/step - loss: 0.1883 - accuracy: 0.9326 - val_loss: 0.4512 - val_accuracy: 0.8647\n",
            "Epoch 55/65\n",
            "56/56 [==============================] - 33s 589ms/step - loss: 0.1792 - accuracy: 0.9298 - val_loss: 0.4849 - val_accuracy: 0.8541\n",
            "Epoch 56/65\n",
            "56/56 [==============================] - 33s 581ms/step - loss: 0.1750 - accuracy: 0.9354 - val_loss: 0.4434 - val_accuracy: 0.8515\n",
            "Epoch 57/65\n",
            "56/56 [==============================] - 33s 583ms/step - loss: 0.1798 - accuracy: 0.9439 - val_loss: 0.4777 - val_accuracy: 0.8355\n",
            "Epoch 58/65\n",
            "56/56 [==============================] - 33s 588ms/step - loss: 0.1627 - accuracy: 0.9411 - val_loss: 0.4798 - val_accuracy: 0.8674\n",
            "Epoch 59/65\n",
            "56/56 [==============================] - 33s 584ms/step - loss: 0.1729 - accuracy: 0.9439 - val_loss: 0.4355 - val_accuracy: 0.8700\n",
            "Epoch 60/65\n",
            "56/56 [==============================] - 32s 580ms/step - loss: 0.1546 - accuracy: 0.9451 - val_loss: 0.5194 - val_accuracy: 0.8568\n",
            "Epoch 61/65\n",
            "56/56 [==============================] - 33s 590ms/step - loss: 0.1519 - accuracy: 0.9451 - val_loss: 0.5196 - val_accuracy: 0.8462\n",
            "Epoch 62/65\n",
            "56/56 [==============================] - 33s 584ms/step - loss: 0.1712 - accuracy: 0.9315 - val_loss: 0.5246 - val_accuracy: 0.8462\n",
            "Epoch 63/65\n",
            "56/56 [==============================] - 32s 580ms/step - loss: 0.1435 - accuracy: 0.9496 - val_loss: 0.5027 - val_accuracy: 0.8541\n",
            "Epoch 64/65\n",
            "56/56 [==============================] - 33s 590ms/step - loss: 0.1562 - accuracy: 0.9439 - val_loss: 0.4955 - val_accuracy: 0.8462\n",
            "Epoch 65/65\n",
            "56/56 [==============================] - 33s 584ms/step - loss: 0.1693 - accuracy: 0.9428 - val_loss: 0.4536 - val_accuracy: 0.8727\n"
          ]
        }
      ],
      "source": [
        "startTime=time.time()\n",
        "history = model_nasnet_mobile.fit(train_generator, epochs = epochs_nb, validation_data  = validation_generator)\n",
        "executionTime = (time.time() - startTime)\n",
        "model_nasnet_mobile.save(f'./Modeles/{modelName}.h5')"
      ]
    },
    {
      "cell_type": "code",
      "execution_count": null,
      "metadata": {
        "colab": {
          "base_uri": "https://localhost:8080/"
        },
        "id": "jaNxMWC4zBq4",
        "outputId": "f87b0e61-e508-4c60-a581-d074a885454f"
      },
      "outputs": [
        {
          "name": "stdout",
          "output_type": "stream",
          "text": [
            "Durée d'entraînement : 2744.64 secondes\n",
            "\n",
            "Performances sur le set de test : \n",
            "\n",
            "   accuracy  precision    recall  f1-score\n",
            "0  0.825521   0.825567  0.825521  0.824128\n"
          ]
        }
      ],
      "source": [
        "study_model(model_nasnet_mobile, labels, test_generator, executionTime)"
      ]
    },
    {
      "cell_type": "code",
      "execution_count": null,
      "metadata": {
        "colab": {
          "base_uri": "https://localhost:8080/",
          "height": 350
        },
        "id": "hBr_AT0WzFKl",
        "outputId": "f0f79b9e-5a05-49a1-c82b-25521441c37b"
      },
      "outputs": [
        {
          "data": {
            "image/png": "[encoded data removed]",
            "text/plain": [
              "<Figure size 1080x360 with 2 Axes>"
            ]
          },
          "metadata": {
            "needs_background": "light"
          },
          "output_type": "display_data"
        }
      ],
      "source": [
        "plot_accuracy_loss(history)"
      ]
    },
    {
      "cell_type": "markdown",
      "metadata": {
        "id": "qnZcuToCO8dO"
      },
      "source": [
        "# 3) Comparaison des modèles selon diverses métriques"
      ]
    },
    {
      "cell_type": "markdown",
      "metadata": {
        "id": "27_zr0VMmGyn"
      },
      "source": [
        "Nous souhaitons comparer les performances des différents modèles étudiés avec la technique du Transfer Learning, à savoir : VGG16, VGG19, ResNet50, InceptionV3, InceptionResNetV2, MobileNet, DenseNet121, DenseNet201, NASNetLarge, NASNetMobile. Nous pouvons regrouper les résultats obtenus dans un Dataframe en précisant pour chaque modèle son nom, les performances (accuracy, precision, recall, score F1) obtenus sur le dataset de test ainsi que le nombre de paramètres et le temps d'entraînement du modèle sur 65 epochs.\n",
        "\n",
        "Le but est de sélectionner les meilleurs d'entre eux afin de pousser leur étude avec la variation de divers hyper-paramètres."
      ]
    },
    {
      "cell_type": "code",
      "execution_count": 6,
      "metadata": {
        "id": "bB-PgZ6oilgz"
      },
      "outputs": [],
      "source": [
        "def load_model_fill_df(modelName, df, inputFolder):\n",
        "\n",
        "  model = load_model(f'./Modeles/{modelName}.h5')\n",
        "  test_generator = testGenerator(modelName, inputFolder)\n",
        "  preds         = model.predict(test_generator)\n",
        "  preds_classes = [i.argmax() for i in preds]\n",
        "  y_true        = test_generator.classes\n",
        "\n",
        "  acc_test = accuracy_score(y_true, preds_classes)\n",
        "  prec_test = precision_score(y_true, preds_classes, average='weighted')\n",
        "  rec_test = recall_score(y_true, preds_classes, average='weighted')\n",
        "  f1_test = f1_score(y_true, preds_classes, average='weighted')\n",
        "  params_number = model.count_params() \n",
        "  params_number_millions = round(params_number/1000000,1) #conversion en millions\n",
        "\n",
        "  results = { 'modelName': modelName, \n",
        "              'accuracy': acc_test, \n",
        "              'precision': prec_test,\n",
        "              'recall' : rec_test,\n",
        "              'f1-score' : f1_test,\n",
        "              'parameters_number (M)' : params_number_millions}\n",
        "\n",
        "  df = df.append(results, ignore_index = True)\n",
        "\n",
        "  return df "
      ]
    },
    {
      "cell_type": "code",
      "execution_count": null,
      "metadata": {
        "id": "YAnjXc_-kRd4"
      },
      "outputs": [],
      "source": [
        "models_list = [\"VGG16\", \"VGG19\", \"ResNet50\", \"Xception\", \"InceptionV3\", \"InceptionResNetV2\", \"MobileNet\", \"DenseNet121\", \"DenseNet201\", \"NASNetLarge\", \"NASNetMobile\"]\n",
        "\n",
        "results_df = pd.DataFrame(columns=['modelName', 'accuracy', 'precision', 'recall', 'f1-score', 'parameters_number (M)'])\n",
        "\n",
        "for model in models_list:\n",
        "  results_df = load_model_fill_df(model, results_df, inputFolder)"
      ]
    },
    {
      "cell_type": "markdown",
      "metadata": {
        "id": "TAAGACYL4K_2"
      },
      "source": [
        "On trie notre DataFrame dans l'ordre décroissant des valeurs d'accuracy."
      ]
    },
    {
      "cell_type": "code",
      "execution_count": 13,
      "metadata": {},
      "outputs": [
        {
          "data": {
            "text/html": [
              "<div>\n",
              "<style scoped>\n",
              "    .dataframe tbody tr th:only-of-type {\n",
              "        vertical-align: middle;\n",
              "    }\n",
              "\n",
              "    .dataframe tbody tr th {\n",
              "        vertical-align: top;\n",
              "    }\n",
              "\n",
              "    .dataframe thead th {\n",
              "        text-align: right;\n",
              "    }\n",
              "</style>\n",
              "<table border=\"1\" class=\"dataframe\">\n",
              "  <thead>\n",
              "    <tr style=\"text-align: right;\">\n",
              "      <th></th>\n",
              "      <th>modelName</th>\n",
              "      <th>accuracy</th>\n",
              "      <th>precision</th>\n",
              "      <th>recall</th>\n",
              "      <th>f1-score</th>\n",
              "      <th>parameters_number (M)</th>\n",
              "    </tr>\n",
              "  </thead>\n",
              "  <tbody>\n",
              "    <tr>\n",
              "      <th>0</th>\n",
              "      <td>ResNet50</td>\n",
              "      <td>0.885417</td>\n",
              "      <td>0.887026</td>\n",
              "      <td>0.885417</td>\n",
              "      <td>0.884463</td>\n",
              "      <td>49.3</td>\n",
              "    </tr>\n",
              "    <tr>\n",
              "      <th>1</th>\n",
              "      <td>NASNetLarge</td>\n",
              "      <td>0.885417</td>\n",
              "      <td>0.889389</td>\n",
              "      <td>0.885417</td>\n",
              "      <td>0.884422</td>\n",
              "      <td>209.8</td>\n",
              "    </tr>\n",
              "    <tr>\n",
              "      <th>2</th>\n",
              "      <td>InceptionResNetV2</td>\n",
              "      <td>0.875000</td>\n",
              "      <td>0.877380</td>\n",
              "      <td>0.875000</td>\n",
              "      <td>0.873648</td>\n",
              "      <td>79.5</td>\n",
              "    </tr>\n",
              "    <tr>\n",
              "      <th>3</th>\n",
              "      <td>DenseNet201</td>\n",
              "      <td>0.869792</td>\n",
              "      <td>0.872244</td>\n",
              "      <td>0.869792</td>\n",
              "      <td>0.868967</td>\n",
              "      <td>42.4</td>\n",
              "    </tr>\n",
              "    <tr>\n",
              "      <th>4</th>\n",
              "      <td>Xception</td>\n",
              "      <td>0.869792</td>\n",
              "      <td>0.869120</td>\n",
              "      <td>0.869792</td>\n",
              "      <td>0.868050</td>\n",
              "      <td>73.3</td>\n",
              "    </tr>\n",
              "    <tr>\n",
              "      <th>5</th>\n",
              "      <td>InceptionV3</td>\n",
              "      <td>0.867188</td>\n",
              "      <td>0.871581</td>\n",
              "      <td>0.867188</td>\n",
              "      <td>0.865813</td>\n",
              "      <td>55.4</td>\n",
              "    </tr>\n",
              "    <tr>\n",
              "      <th>6</th>\n",
              "      <td>DenseNet121</td>\n",
              "      <td>0.864583</td>\n",
              "      <td>0.866038</td>\n",
              "      <td>0.864583</td>\n",
              "      <td>0.864339</td>\n",
              "      <td>19.9</td>\n",
              "    </tr>\n",
              "    <tr>\n",
              "      <th>7</th>\n",
              "      <td>MobileNet</td>\n",
              "      <td>0.859375</td>\n",
              "      <td>0.860479</td>\n",
              "      <td>0.859375</td>\n",
              "      <td>0.858751</td>\n",
              "      <td>16.1</td>\n",
              "    </tr>\n",
              "    <tr>\n",
              "      <th>8</th>\n",
              "      <td>VGG16</td>\n",
              "      <td>0.830729</td>\n",
              "      <td>0.834743</td>\n",
              "      <td>0.830729</td>\n",
              "      <td>0.830348</td>\n",
              "      <td>21.1</td>\n",
              "    </tr>\n",
              "    <tr>\n",
              "      <th>9</th>\n",
              "      <td>NASNetMobile</td>\n",
              "      <td>0.825521</td>\n",
              "      <td>0.825567</td>\n",
              "      <td>0.825521</td>\n",
              "      <td>0.824128</td>\n",
              "      <td>17.5</td>\n",
              "    </tr>\n",
              "    <tr>\n",
              "      <th>10</th>\n",
              "      <td>VGG19</td>\n",
              "      <td>0.822917</td>\n",
              "      <td>0.826353</td>\n",
              "      <td>0.822917</td>\n",
              "      <td>0.822247</td>\n",
              "      <td>26.4</td>\n",
              "    </tr>\n",
              "  </tbody>\n",
              "</table>\n",
              "</div>"
            ],
            "text/plain": [
              "            modelName  accuracy  precision    recall  f1-score  \\\n",
              "0            ResNet50  0.885417   0.887026  0.885417  0.884463   \n",
              "1         NASNetLarge  0.885417   0.889389  0.885417  0.884422   \n",
              "2   InceptionResNetV2  0.875000   0.877380  0.875000  0.873648   \n",
              "3         DenseNet201  0.869792   0.872244  0.869792  0.868967   \n",
              "4            Xception  0.869792   0.869120  0.869792  0.868050   \n",
              "5         InceptionV3  0.867188   0.871581  0.867188  0.865813   \n",
              "6         DenseNet121  0.864583   0.866038  0.864583  0.864339   \n",
              "7           MobileNet  0.859375   0.860479  0.859375  0.858751   \n",
              "8               VGG16  0.830729   0.834743  0.830729  0.830348   \n",
              "9        NASNetMobile  0.825521   0.825567  0.825521  0.824128   \n",
              "10              VGG19  0.822917   0.826353  0.822917  0.822247   \n",
              "\n",
              "    parameters_number (M)  \n",
              "0                    49.3  \n",
              "1                   209.8  \n",
              "2                    79.5  \n",
              "3                    42.4  \n",
              "4                    73.3  \n",
              "5                    55.4  \n",
              "6                    19.9  \n",
              "7                    16.1  \n",
              "8                    21.1  \n",
              "9                    17.5  \n",
              "10                   26.4  "
            ]
          },
          "execution_count": 13,
          "metadata": {},
          "output_type": "execute_result"
        }
      ],
      "source": [
        "results_df = results_df.sort_values([\"accuracy\"], ascending=False)\n",
        "results_df.reset_index(drop=True, inplace=True)\n",
        "results_df"
      ]
    },
    {
      "cell_type": "code",
      "execution_count": 14,
      "metadata": {
        "id": "M-gZVNBvnU_Q"
      },
      "outputs": [],
      "source": [
        "#Ajout du temps d'exécution\n",
        "execution_time_dict = { 'VGG16' : 2663.36,\n",
        "                        'VGG19' : 3123.99,\n",
        "                        'ResNet50' : 2592,\n",
        "                        'Xception' : 4824.38,\n",
        "                        'InceptionV3' : 3538.52, \n",
        "                        'InceptionResNetV2' : 5430.35, \n",
        "                        'MobileNet' : 2554.67,\n",
        "                        'DenseNet121' : 2878.75,\n",
        "                        'DenseNet201' : 3466.23,\n",
        "                        'NASNetLarge' : 9736.31,\n",
        "                        'NASNetMobile' : 2744.64}\n",
        "\n",
        "#Conversion en minutes\n",
        "execution_time_dict = dict(map(lambda x: (x[0], round(x[1]/60, 2)), execution_time_dict.items()))\n",
        "\n",
        "results_df['execution_time (min)'] = results_df['modelName'].map(execution_time_dict)"
      ]
    },
    {
      "cell_type": "code",
      "execution_count": 16,
      "metadata": {
        "colab": {
          "base_uri": "https://localhost:8080/",
          "height": 362
        },
        "id": "jQoG1iO9Vr6F",
        "outputId": "e7b948d0-b8e1-4108-fb4f-532e608bc216"
      },
      "outputs": [
        {
          "data": {
            "text/html": [
              "<style type=\"text/css\">\n",
              "#T_064dd_row0_col1, #T_064dd_row0_col3, #T_064dd_row0_col4, #T_064dd_row1_col1, #T_064dd_row1_col2, #T_064dd_row1_col3 {\n",
              "  background-color: yellow;\n",
              "}\n",
              "#T_064dd_row1_col5, #T_064dd_row1_col6 {\n",
              "  background-color: red;\n",
              "}\n",
              "#T_064dd_row7_col5, #T_064dd_row7_col6 {\n",
              "  background-color: green;\n",
              "}\n",
              "</style>\n",
              "<table id=\"T_064dd\">\n",
              "  <thead>\n",
              "    <tr>\n",
              "      <th class=\"blank level0\" >&nbsp;</th>\n",
              "      <th id=\"T_064dd_level0_col0\" class=\"col_heading level0 col0\" >modelName</th>\n",
              "      <th id=\"T_064dd_level0_col1\" class=\"col_heading level0 col1\" >accuracy</th>\n",
              "      <th id=\"T_064dd_level0_col2\" class=\"col_heading level0 col2\" >precision</th>\n",
              "      <th id=\"T_064dd_level0_col3\" class=\"col_heading level0 col3\" >recall</th>\n",
              "      <th id=\"T_064dd_level0_col4\" class=\"col_heading level0 col4\" >f1-score</th>\n",
              "      <th id=\"T_064dd_level0_col5\" class=\"col_heading level0 col5\" >parameters_number (M)</th>\n",
              "      <th id=\"T_064dd_level0_col6\" class=\"col_heading level0 col6\" >execution_time (min)</th>\n",
              "    </tr>\n",
              "  </thead>\n",
              "  <tbody>\n",
              "    <tr>\n",
              "      <th id=\"T_064dd_level0_row0\" class=\"row_heading level0 row0\" >0</th>\n",
              "      <td id=\"T_064dd_row0_col0\" class=\"data row0 col0\" >ResNet50</td>\n",
              "      <td id=\"T_064dd_row0_col1\" class=\"data row0 col1\" >0.885417</td>\n",
              "      <td id=\"T_064dd_row0_col2\" class=\"data row0 col2\" >0.887026</td>\n",
              "      <td id=\"T_064dd_row0_col3\" class=\"data row0 col3\" >0.885417</td>\n",
              "      <td id=\"T_064dd_row0_col4\" class=\"data row0 col4\" >0.884463</td>\n",
              "      <td id=\"T_064dd_row0_col5\" class=\"data row0 col5\" >49.300000</td>\n",
              "      <td id=\"T_064dd_row0_col6\" class=\"data row0 col6\" >43.200000</td>\n",
              "    </tr>\n",
              "    <tr>\n",
              "      <th id=\"T_064dd_level0_row1\" class=\"row_heading level0 row1\" >1</th>\n",
              "      <td id=\"T_064dd_row1_col0\" class=\"data row1 col0\" >NASNetLarge</td>\n",
              "      <td id=\"T_064dd_row1_col1\" class=\"data row1 col1\" >0.885417</td>\n",
              "      <td id=\"T_064dd_row1_col2\" class=\"data row1 col2\" >0.889389</td>\n",
              "      <td id=\"T_064dd_row1_col3\" class=\"data row1 col3\" >0.885417</td>\n",
              "      <td id=\"T_064dd_row1_col4\" class=\"data row1 col4\" >0.884422</td>\n",
              "      <td id=\"T_064dd_row1_col5\" class=\"data row1 col5\" >209.800000</td>\n",
              "      <td id=\"T_064dd_row1_col6\" class=\"data row1 col6\" >162.270000</td>\n",
              "    </tr>\n",
              "    <tr>\n",
              "      <th id=\"T_064dd_level0_row2\" class=\"row_heading level0 row2\" >2</th>\n",
              "      <td id=\"T_064dd_row2_col0\" class=\"data row2 col0\" >InceptionResNetV2</td>\n",
              "      <td id=\"T_064dd_row2_col1\" class=\"data row2 col1\" >0.875000</td>\n",
              "      <td id=\"T_064dd_row2_col2\" class=\"data row2 col2\" >0.877380</td>\n",
              "      <td id=\"T_064dd_row2_col3\" class=\"data row2 col3\" >0.875000</td>\n",
              "      <td id=\"T_064dd_row2_col4\" class=\"data row2 col4\" >0.873648</td>\n",
              "      <td id=\"T_064dd_row2_col5\" class=\"data row2 col5\" >79.500000</td>\n",
              "      <td id=\"T_064dd_row2_col6\" class=\"data row2 col6\" >90.510000</td>\n",
              "    </tr>\n",
              "    <tr>\n",
              "      <th id=\"T_064dd_level0_row3\" class=\"row_heading level0 row3\" >3</th>\n",
              "      <td id=\"T_064dd_row3_col0\" class=\"data row3 col0\" >DenseNet201</td>\n",
              "      <td id=\"T_064dd_row3_col1\" class=\"data row3 col1\" >0.869792</td>\n",
              "      <td id=\"T_064dd_row3_col2\" class=\"data row3 col2\" >0.872244</td>\n",
              "      <td id=\"T_064dd_row3_col3\" class=\"data row3 col3\" >0.869792</td>\n",
              "      <td id=\"T_064dd_row3_col4\" class=\"data row3 col4\" >0.868967</td>\n",
              "      <td id=\"T_064dd_row3_col5\" class=\"data row3 col5\" >42.400000</td>\n",
              "      <td id=\"T_064dd_row3_col6\" class=\"data row3 col6\" >57.770000</td>\n",
              "    </tr>\n",
              "    <tr>\n",
              "      <th id=\"T_064dd_level0_row4\" class=\"row_heading level0 row4\" >4</th>\n",
              "      <td id=\"T_064dd_row4_col0\" class=\"data row4 col0\" >Xception</td>\n",
              "      <td id=\"T_064dd_row4_col1\" class=\"data row4 col1\" >0.869792</td>\n",
              "      <td id=\"T_064dd_row4_col2\" class=\"data row4 col2\" >0.869120</td>\n",
              "      <td id=\"T_064dd_row4_col3\" class=\"data row4 col3\" >0.869792</td>\n",
              "      <td id=\"T_064dd_row4_col4\" class=\"data row4 col4\" >0.868050</td>\n",
              "      <td id=\"T_064dd_row4_col5\" class=\"data row4 col5\" >73.300000</td>\n",
              "      <td id=\"T_064dd_row4_col6\" class=\"data row4 col6\" >80.410000</td>\n",
              "    </tr>\n",
              "    <tr>\n",
              "      <th id=\"T_064dd_level0_row5\" class=\"row_heading level0 row5\" >5</th>\n",
              "      <td id=\"T_064dd_row5_col0\" class=\"data row5 col0\" >InceptionV3</td>\n",
              "      <td id=\"T_064dd_row5_col1\" class=\"data row5 col1\" >0.867188</td>\n",
              "      <td id=\"T_064dd_row5_col2\" class=\"data row5 col2\" >0.871581</td>\n",
              "      <td id=\"T_064dd_row5_col3\" class=\"data row5 col3\" >0.867188</td>\n",
              "      <td id=\"T_064dd_row5_col4\" class=\"data row5 col4\" >0.865813</td>\n",
              "      <td id=\"T_064dd_row5_col5\" class=\"data row5 col5\" >55.400000</td>\n",
              "      <td id=\"T_064dd_row5_col6\" class=\"data row5 col6\" >58.980000</td>\n",
              "    </tr>\n",
              "    <tr>\n",
              "      <th id=\"T_064dd_level0_row6\" class=\"row_heading level0 row6\" >6</th>\n",
              "      <td id=\"T_064dd_row6_col0\" class=\"data row6 col0\" >DenseNet121</td>\n",
              "      <td id=\"T_064dd_row6_col1\" class=\"data row6 col1\" >0.864583</td>\n",
              "      <td id=\"T_064dd_row6_col2\" class=\"data row6 col2\" >0.866038</td>\n",
              "      <td id=\"T_064dd_row6_col3\" class=\"data row6 col3\" >0.864583</td>\n",
              "      <td id=\"T_064dd_row6_col4\" class=\"data row6 col4\" >0.864339</td>\n",
              "      <td id=\"T_064dd_row6_col5\" class=\"data row6 col5\" >19.900000</td>\n",
              "      <td id=\"T_064dd_row6_col6\" class=\"data row6 col6\" >47.980000</td>\n",
              "    </tr>\n",
              "    <tr>\n",
              "      <th id=\"T_064dd_level0_row7\" class=\"row_heading level0 row7\" >7</th>\n",
              "      <td id=\"T_064dd_row7_col0\" class=\"data row7 col0\" >MobileNet</td>\n",
              "      <td id=\"T_064dd_row7_col1\" class=\"data row7 col1\" >0.859375</td>\n",
              "      <td id=\"T_064dd_row7_col2\" class=\"data row7 col2\" >0.860479</td>\n",
              "      <td id=\"T_064dd_row7_col3\" class=\"data row7 col3\" >0.859375</td>\n",
              "      <td id=\"T_064dd_row7_col4\" class=\"data row7 col4\" >0.858751</td>\n",
              "      <td id=\"T_064dd_row7_col5\" class=\"data row7 col5\" >16.100000</td>\n",
              "      <td id=\"T_064dd_row7_col6\" class=\"data row7 col6\" >42.580000</td>\n",
              "    </tr>\n",
              "    <tr>\n",
              "      <th id=\"T_064dd_level0_row8\" class=\"row_heading level0 row8\" >8</th>\n",
              "      <td id=\"T_064dd_row8_col0\" class=\"data row8 col0\" >VGG16</td>\n",
              "      <td id=\"T_064dd_row8_col1\" class=\"data row8 col1\" >0.830729</td>\n",
              "      <td id=\"T_064dd_row8_col2\" class=\"data row8 col2\" >0.834743</td>\n",
              "      <td id=\"T_064dd_row8_col3\" class=\"data row8 col3\" >0.830729</td>\n",
              "      <td id=\"T_064dd_row8_col4\" class=\"data row8 col4\" >0.830348</td>\n",
              "      <td id=\"T_064dd_row8_col5\" class=\"data row8 col5\" >21.100000</td>\n",
              "      <td id=\"T_064dd_row8_col6\" class=\"data row8 col6\" >44.390000</td>\n",
              "    </tr>\n",
              "    <tr>\n",
              "      <th id=\"T_064dd_level0_row9\" class=\"row_heading level0 row9\" >9</th>\n",
              "      <td id=\"T_064dd_row9_col0\" class=\"data row9 col0\" >NASNetMobile</td>\n",
              "      <td id=\"T_064dd_row9_col1\" class=\"data row9 col1\" >0.825521</td>\n",
              "      <td id=\"T_064dd_row9_col2\" class=\"data row9 col2\" >0.825567</td>\n",
              "      <td id=\"T_064dd_row9_col3\" class=\"data row9 col3\" >0.825521</td>\n",
              "      <td id=\"T_064dd_row9_col4\" class=\"data row9 col4\" >0.824128</td>\n",
              "      <td id=\"T_064dd_row9_col5\" class=\"data row9 col5\" >17.500000</td>\n",
              "      <td id=\"T_064dd_row9_col6\" class=\"data row9 col6\" >45.740000</td>\n",
              "    </tr>\n",
              "    <tr>\n",
              "      <th id=\"T_064dd_level0_row10\" class=\"row_heading level0 row10\" >10</th>\n",
              "      <td id=\"T_064dd_row10_col0\" class=\"data row10 col0\" >VGG19</td>\n",
              "      <td id=\"T_064dd_row10_col1\" class=\"data row10 col1\" >0.822917</td>\n",
              "      <td id=\"T_064dd_row10_col2\" class=\"data row10 col2\" >0.826353</td>\n",
              "      <td id=\"T_064dd_row10_col3\" class=\"data row10 col3\" >0.822917</td>\n",
              "      <td id=\"T_064dd_row10_col4\" class=\"data row10 col4\" >0.822247</td>\n",
              "      <td id=\"T_064dd_row10_col5\" class=\"data row10 col5\" >26.400000</td>\n",
              "      <td id=\"T_064dd_row10_col6\" class=\"data row10 col6\" >52.070000</td>\n",
              "    </tr>\n",
              "  </tbody>\n",
              "</table>\n"
            ],
            "text/plain": [
              "<pandas.io.formats.style.Styler at 0x12febf00730>"
            ]
          },
          "execution_count": 16,
          "metadata": {},
          "output_type": "execute_result"
        }
      ],
      "source": [
        "def colour_numbers(column):\n",
        "    green    = 'background-color: green;'\n",
        "    red = 'background-color: red;'     \n",
        "    default = ''\n",
        "\n",
        "    maximum_in_column = column.max()\n",
        "    minimum_in_column = column.min()\n",
        "\n",
        "    return [red if v == maximum_in_column else green if v == minimum_in_column else default for v in column]  \n",
        "\n",
        "\n",
        "results_df.style.highlight_max(subset=['accuracy', 'precision', 'recall', 'f1-score'], axis=0).apply(colour_numbers, subset=['parameters_number (M)', 'execution_time (min)'], axis=0)"
      ]
    },
    {
      "cell_type": "code",
      "execution_count": 18,
      "metadata": {
        "id": "tlSBf6eimVWv"
      },
      "outputs": [],
      "source": [
        "results_df.to_csv(\"../Results/transfer_learning_compare_models.csv\", index=False)"
      ]
    },
    {
      "cell_type": "markdown",
      "metadata": {
        "id": "AcYerckfP1_f"
      },
      "source": [
        "On remarque que 2 modèles atteignent une accuracy maximale de 88,5% : ResNet50 et NASNetLarge.\n",
        "\n",
        "En revanche, ResNet50 possède 4 fois moins de paramètres et met également 4 fois moins de temps pour s'entraîner. Il paraît donc préférable de conserver ce modèle plutôt que NASNetLarge.\n",
        "\n",
        "Le modèle suivant (InceptionResNetV2) atteint 87,5% d'accuracy mais possède presque 2 fois plus de paramètres que ResNet50 et met 2 fois plus de temps à s'entraîner.\n",
        "Très légèrement derrière avec 87% d'accuracy vient DenseNet201 qui est situé entre ResNet50 et InceptionResNetV2 en termes de temps d'entraînement et de nombres de paramètres.\n",
        "\n",
        "En conclusion, nous pouvons estimer que notre top 3, en combinant performances en termes d'accuracy et de temps de calcul, est constitué de :\n",
        "\n",
        "- ResNet50\n",
        "\n",
        "- InceptionResNetV2\n",
        "\n",
        "- DenseNet201\n",
        "\n",
        "On peut remarquer qu'il s'agit de modèles utilisant des couches résiduelles."
      ]
    },
    {
      "cell_type": "markdown",
      "metadata": {
        "id": "3l82R-mbn9aE"
      },
      "source": [
        "# 4) Comparaison des meilleurs modèles en fonction des classes"
      ]
    },
    {
      "cell_type": "markdown",
      "metadata": {
        "id": "hg_EPNjdr6mD"
      },
      "source": [
        "Certains modèles sortent du lot et ont des performances plus élevées allant jusqu'à 88,5% sur le test set. \n",
        "Cependant, nous ne savons pas exactement si toutes les classes sont aussi bien prédites. Afin de voir si certains modèles sont meilleurs que d'autres sur certaines classes, nous pouvons étudier le rapport de classification donné par Sklearn."
      ]
    },
    {
      "cell_type": "code",
      "execution_count": null,
      "metadata": {
        "id": "dvIRchTloOho"
      },
      "outputs": [],
      "source": [
        "def classificationReport(modelName, inputFolder):\n",
        "\n",
        "    model = load_model(f'./Modeles/{modelName}.h5')\n",
        "    test_generator = testGenerator(modelName, inputFolder)\n",
        "    preds         = model.predict(test_generator)\n",
        "    preds_classes = [i.argmax() for i in preds]\n",
        "    y_true        = test_generator.classes\n",
        "\n",
        "    classificationReport = classification_report(y_true, preds_classes, target_names=labels)\n",
        "    print(classificationReport)"
      ]
    },
    {
      "cell_type": "markdown",
      "metadata": {
        "id": "kr_PL7ZRoG3o"
      },
      "source": [
        "* ResNet50"
      ]
    },
    {
      "cell_type": "code",
      "execution_count": null,
      "metadata": {
        "colab": {
          "base_uri": "https://localhost:8080/"
        },
        "id": "sMppNYosrvuu",
        "outputId": "91c40c8d-6f90-4e3a-8bc3-41879590d838"
      },
      "outputs": [
        {
          "name": "stdout",
          "output_type": "stream",
          "text": [
            "Found 384 images belonging to 6 classes.\n",
            "              precision    recall  f1-score   support\n",
            "\n",
            "       paper       0.95      0.97      0.96        61\n",
            "       metal       0.89      0.86      0.87        76\n",
            "   cardboard       0.84      0.92      0.88        62\n",
            "       trash       0.87      0.93      0.90        90\n",
            "     plastic       0.88      0.81      0.84        73\n",
            "       glass       0.94      0.73      0.82        22\n",
            "\n",
            "    accuracy                           0.89       384\n",
            "   macro avg       0.89      0.87      0.88       384\n",
            "weighted avg       0.89      0.89      0.88       384\n",
            "\n"
          ]
        }
      ],
      "source": [
        "modelName = \"ResNet50\"\n",
        "classificationReport(modelName, inputFolder)"
      ]
    },
    {
      "cell_type": "markdown",
      "metadata": {
        "id": "7Q1fSiP_dV58"
      },
      "source": [
        "Le modèle ResNet50 est surtout bon sur la classe papier avec une très bonne précision et rappel.\n",
        "Il est le moins bon sur la classe verre (à cause du rappel) et sur la classe plastique."
      ]
    },
    {
      "cell_type": "markdown",
      "metadata": {
        "id": "SrkJfHdKb13e"
      },
      "source": [
        "* InceptionResNetV2"
      ]
    },
    {
      "cell_type": "code",
      "execution_count": null,
      "metadata": {
        "colab": {
          "base_uri": "https://localhost:8080/"
        },
        "id": "sM310rgXbsg0",
        "outputId": "02ee3e30-b2b2-4995-bcf2-23a18d0a7a03"
      },
      "outputs": [
        {
          "name": "stdout",
          "output_type": "stream",
          "text": [
            "Found 384 images belonging to 6 classes.\n",
            "              precision    recall  f1-score   support\n",
            "\n",
            "       paper       0.94      0.95      0.94        61\n",
            "       metal       0.83      0.93      0.88        76\n",
            "   cardboard       0.91      0.85      0.88        62\n",
            "       trash       0.88      0.93      0.90        90\n",
            "     plastic       0.90      0.74      0.81        73\n",
            "       glass       0.73      0.73      0.73        22\n",
            "\n",
            "    accuracy                           0.88       384\n",
            "   macro avg       0.86      0.86      0.86       384\n",
            "weighted avg       0.88      0.88      0.87       384\n",
            "\n"
          ]
        }
      ],
      "source": [
        "classificationReport(\"InceptionResNetV2\", inputFolder)"
      ]
    },
    {
      "cell_type": "markdown",
      "metadata": {
        "id": "-8ViggjEehCD"
      },
      "source": [
        "InceptionResNetV2 n'a l'air meilleur sur aucune classe à part très légèrement sur le métal (grâce à un rappel plus élevé)."
      ]
    },
    {
      "cell_type": "markdown",
      "metadata": {
        "id": "cxWWsjKRdFsa"
      },
      "source": [
        "* DenseNet201"
      ]
    },
    {
      "cell_type": "code",
      "execution_count": null,
      "metadata": {
        "colab": {
          "base_uri": "https://localhost:8080/"
        },
        "id": "zdltY94QdCE3",
        "outputId": "8b621c7e-e8a8-43a7-fe48-9e3a01453298"
      },
      "outputs": [
        {
          "name": "stdout",
          "output_type": "stream",
          "text": [
            "Found 384 images belonging to 6 classes.\n",
            "              precision    recall  f1-score   support\n",
            "\n",
            "       paper       0.84      0.95      0.89        61\n",
            "       metal       0.90      0.84      0.87        76\n",
            "   cardboard       0.83      0.94      0.88        62\n",
            "       trash       0.88      0.88      0.88        90\n",
            "     plastic       0.91      0.81      0.86        73\n",
            "       glass       0.84      0.73      0.78        22\n",
            "\n",
            "    accuracy                           0.87       384\n",
            "   macro avg       0.87      0.86      0.86       384\n",
            "weighted avg       0.87      0.87      0.87       384\n",
            "\n"
          ]
        }
      ],
      "source": [
        "classificationReport(\"DenseNet201\", inputFolder)"
      ]
    },
    {
      "cell_type": "markdown",
      "metadata": {
        "id": "jCF_OqKfexZL"
      },
      "source": [
        "DenseNet201 est légèrement meilleur que ResNet50 pour la classification du plastique avec nottament une meilleure précision."
      ]
    },
    {
      "cell_type": "code",
      "execution_count": null,
      "metadata": {
        "colab": {
          "base_uri": "https://localhost:8080/"
        },
        "id": "6VqiIJeSeZHi",
        "outputId": "d478b842-8452-4e7b-e99c-0d13e901eb6d"
      },
      "outputs": [
        {
          "name": "stdout",
          "output_type": "stream",
          "text": [
            "Found 384 images belonging to 6 classes.\n",
            "              precision    recall  f1-score   support\n",
            "\n",
            "       paper       0.92      0.92      0.92        61\n",
            "       metal       0.90      0.93      0.92        76\n",
            "   cardboard       0.78      0.92      0.84        62\n",
            "       trash       0.90      0.92      0.91        90\n",
            "     plastic       0.94      0.81      0.87        73\n",
            "       glass       0.88      0.64      0.74        22\n",
            "\n",
            "    accuracy                           0.89       384\n",
            "   macro avg       0.89      0.86      0.87       384\n",
            "weighted avg       0.89      0.89      0.88       384\n",
            "\n"
          ]
        }
      ],
      "source": [
        "classificationReport(\"NASNetLarge\", inputFolder)"
      ]
    },
    {
      "cell_type": "markdown",
      "metadata": {
        "id": "8nfYkK5wgddC"
      },
      "source": [
        "Le modèle NASNetLarge est meilleur que les 3 autres sur la classe métal et légèrement sur la classe plastique."
      ]
    },
    {
      "cell_type": "markdown",
      "metadata": {
        "id": "XTl3s5J9g0Db"
      },
      "source": [
        "# Conclusion\n",
        "\n",
        "Le modèle qui paraît le plus intéressant à étudier est le modèle ResNet50.\n",
        "\n",
        "Il est également pertinent de s'intéresser aux évolutions de ce modèle : ResNet50V2, ResNet101, ResNet101V2, ResNet152 et ResNet152V2."
      ]
    }
  ],
  "metadata": {
    "accelerator": "GPU",
    "colab": {
      "collapsed_sections": [],
      "name": "transfer_learning.ipynb",
      "provenance": [],
      "toc_visible": true
    },
    "kernelspec": {
      "display_name": "Python 3",
      "name": "python3"
    },
    "language_info": {
      "codemirror_mode": {
        "name": "ipython",
        "version": 3
      },
      "file_extension": ".py",
      "mimetype": "text/x-python",
      "name": "python",
      "nbconvert_exporter": "python",
      "pygments_lexer": "ipython3",
      "version": "3.9.1"
    }
  },
  "nbformat": 4,
  "nbformat_minor": 0
}
