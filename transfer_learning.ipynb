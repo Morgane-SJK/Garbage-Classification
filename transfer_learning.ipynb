{
  "cells": [
    {
      "cell_type": "markdown",
      "metadata": {
        "id": "TpHBbUJs6tiF"
      },
      "source": [
        "# Transfer Learning avec divers modèles de classification pré-entraînés"
      ]
    },
    {
      "cell_type": "markdown",
      "metadata": {
        "id": "nAOJDENmQAlS"
      },
      "source": [
        "Imports des bibliothèques pour le projet"
      ]
    },
    {
      "cell_type": "code",
      "execution_count": null,
      "metadata": {
        "id": "MeZ26KuvQFri"
      },
      "outputs": [],
      "source": [
        "import time\n",
        "import itertools\n",
        "import os\n",
        "import numpy as np\n",
        "import pandas as pd\n",
        "import sys\n",
        "\n",
        "\"\"\"\n",
        "plot de graphes\n",
        "\"\"\"\n",
        "import matplotlib.pyplot as plt\n",
        "\n",
        "\"\"\"\n",
        "Création et gestion des modèles de classification d'images avec Keras\n",
        "\"\"\"\n",
        "from tensorflow import keras\n",
        "\n",
        "#Accès aux images à classifier, qui sont réparties dans différents dossiers\n",
        "from keras.preprocessing.image import ImageDataGenerator\n",
        "\n",
        "#Différents types de couches pour les CNN\n",
        "from keras.layers import Flatten, Dense, Activation\n",
        "\n",
        "#Création de l'architecture des modèles avec Model\n",
        "from keras.models import Model \n",
        "\n",
        "#Gestion des arrêtes anticipés\n",
        "from keras.callbacks import EarlyStopping\n",
        "\n",
        "#Utilisation de modèles enregistrés\n",
        "from keras.models import load_model\n",
        "\n",
        "\"\"\"\n",
        "Importation des modèles pré-entraînés\n",
        "\"\"\"\n",
        "\n",
        "from keras.applications.vgg16 import VGG16\n",
        "from keras.applications.vgg16 import preprocess_input as preprocess_vgg16\n",
        "\n",
        "from keras.applications.vgg19 import VGG19\n",
        "from keras.applications.vgg19 import preprocess_input as preprocess_vgg19\n",
        "\n",
        "from keras.applications.resnet import ResNet50\n",
        "from keras.applications.resnet import preprocess_input as preprocess_resnet50\n",
        "\n",
        "from keras.applications.xception import Xception\n",
        "from keras.applications.xception import preprocess_input as preprocess_xception\n",
        "\n",
        "from keras.applications.inception_v3 import InceptionV3\n",
        "from keras.applications.inception_v3 import preprocess_input as preprocess_inception_v3\n",
        "\n",
        "from keras.applications.inception_resnet_v2 import InceptionResNetV2\n",
        "from keras.applications.inception_resnet_v2 import preprocess_input as preprocess_inception_resnet_v2\n",
        "\n",
        "from keras.applications.mobilenet import MobileNet\n",
        "from keras.applications.mobilenet import preprocess_input as preprocess_mobilenet\n",
        "\n",
        "from keras.applications.densenet import DenseNet121, DenseNet201\n",
        "from keras.applications.densenet import preprocess_input as preprocess_densenet\n",
        "\n",
        "from keras.applications.nasnet import NASNetLarge, NASNetMobile\n",
        "from keras.applications.nasnet import preprocess_input as preprocess_nasnet\n",
        "\n",
        "\"\"\"\n",
        "Mesures de performance des modèles avec Sklearn\n",
        "\"\"\"\n",
        "from sklearn.metrics import accuracy_score, precision_score, recall_score, f1_score, confusion_matrix"
      ]
    },
    {
      "cell_type": "markdown",
      "metadata": {
        "id": "EAHKYvp_9XAr"
      },
      "source": [
        "# Set up : fonctions utiles et initialisation"
      ]
    },
    {
      "cell_type": "code",
      "execution_count": null,
      "metadata": {
        "id": "OwQYAto0Nntn"
      },
      "outputs": [],
      "source": [
        "#infos du dataset\n",
        "labels = os.listdir(\"./Garbage classification\")\n",
        "nClasses = len(labels) #6\n",
        "inputFolder = \"./Garbage_train_test_val\"\n",
        "\n",
        "#Hyper-paramètres\n",
        "batch_size = 32\n",
        "epochs_nb = 65\n",
        "\n",
        "modelInputSize =   {\"VGG16\":             [224,224], #[width,height]\n",
        "                    \"VGG19\":             [224,224],\n",
        "                    \"ResNet50\":          [224,224],\n",
        "                    \"Xception\":          [299,299],\n",
        "                    \"InceptionV3\":       [299,299],\n",
        "                    \"InceptionResNetV2\": [299,299],\n",
        "                    \"MobileNet\":         [224,224],\n",
        "                    \"DenseNet121\":       [224,224],\n",
        "                    \"DenseNet201\":       [224,224],\n",
        "                    \"NASNetLarge\":       [331,331],\n",
        "                    \"NASNetMobile\":      [224,224]}"
      ]
    },
    {
      "cell_type": "markdown",
      "metadata": {
        "id": "Ngosg_LpNreX"
      },
      "source": [
        "* **Gestion des différents modèles pré-entraînés**"
      ]
    },
    {
      "cell_type": "code",
      "execution_count": null,
      "metadata": {
        "id": "r5gqSFt1NvLJ"
      },
      "outputs": [],
      "source": [
        "def modelSettings(modelName):\n",
        "\n",
        "  img_width = modelInputSize[modelName][0]\n",
        "  img_height = modelInputSize[modelName][1]\n",
        "\n",
        "  if (modelName == \"VGG16\"):\n",
        "    preprocessing = preprocess_vgg16\n",
        "\n",
        "  elif (modelName == \"VGG19\"):\n",
        "    preprocessing = preprocess_vgg19\n",
        "\n",
        "  elif (modelName == \"ResNet50\"):\n",
        "    preprocessing = preprocess_resnet50\n",
        "\n",
        "  elif (modelName == \"Xception\"):\n",
        "    preprocessing = preprocess_xception\n",
        "\n",
        "  elif (modelName == \"InceptionV3\"):\n",
        "    preprocessing = preprocess_inception_v3\n",
        "\n",
        "  elif (modelName== \"InceptionResNetV2\"):\n",
        "    preprocessing = preprocess_inception_resnet_v2\n",
        "\n",
        "  elif (modelName == \"MobileNet\"):\n",
        "    preprocessing = preprocess_mobilenet\n",
        "\n",
        "  elif (modelName== \"DenseNet121\" or modelName== \"DenseNet201\"):\n",
        "    preprocessing = preprocess_densenet\n",
        "  \n",
        "  elif (modelName== \"NASNetLarge\" or modelName== \"NASNetMobile\"):\n",
        "    preprocessing = preprocess_nasnet\n",
        "\n",
        "  else :\n",
        "      print(\"Impossible : ce modèle ne fait pas partie des modèles importés pour ce projet.\")\n",
        "      sys.exit()\n",
        "\n",
        "  return img_width, img_height, preprocessing\n",
        "\n",
        "\n",
        "def makeGenerators(modelName, inputFolder, batch_size):\n",
        "\n",
        "  img_width, img_height, preprocessing = modelSettings(modelName)\n",
        "  input_shape = (img_width, img_height, 3)\n",
        "\n",
        "\n",
        "  train_datagen = ImageDataGenerator( preprocessing_function = preprocessing,\n",
        "                                      width_shift_range=0.2, \n",
        "                                      height_shift_range=0.2, \n",
        "                                      horizontal_flip=True, \n",
        "                                      vertical_flip=True,\n",
        "                                      rotation_range = 90,\n",
        "                                      brightness_range = [0.8, 1.2],\n",
        "                                      zoom_range = [0.8, 1],\n",
        "                                      fill_mode='nearest')\n",
        "  test_datagen = ImageDataGenerator(preprocessing_function = preprocessing)\n",
        "\n",
        "  train_generator = train_datagen.flow_from_directory(directory=r'./{}/train'.format(inputFolder),\n",
        "                                                      target_size=(img_width, img_height),\n",
        "                                                      color_mode='rgb',\n",
        "                                                      batch_size=batch_size,\n",
        "                                                      class_mode='categorical',\n",
        "                                                      shuffle=True,\n",
        "                                                      seed=42)\n",
        "  test_generator = test_datagen.flow_from_directory(directory=r'./{}/test'.format(inputFolder),\n",
        "                                                    target_size=(img_width, img_height),\n",
        "                                                    color_mode='rgb',\n",
        "                                                    batch_size=batch_size,\n",
        "                                                    class_mode='categorical',\n",
        "                                                    shuffle=False)\n",
        "  validation_generator = test_datagen.flow_from_directory(directory=r'./{}/val'.format(inputFolder),\n",
        "                                                          target_size=(img_width, img_height),\n",
        "                                                          color_mode='rgb',\n",
        "                                                          batch_size=batch_size,\n",
        "                                                          class_mode='categorical',\n",
        "                                                          shuffle=False)\n",
        "\n",
        "  return input_shape, train_generator, test_generator, validation_generator\n",
        "\n",
        "\n",
        "def Architecture(model, nClasses):\n",
        "  \n",
        "  #Partie convolutive : on garde les paramètres des couches convolutives\n",
        "  for layer in model.layers:\n",
        "    layer.trainable = False\n",
        "    lastLayer = model.output\n",
        "\n",
        "  x = Flatten()(lastLayer)\n",
        "\n",
        "  #Partie classification : on ajoute une couche entièrement connectée ainsi que la dernière avec le bon nombre de classes\n",
        "  #Seule cette partie sera entraînée par le modèle\n",
        "  x = Dense(256)(x)\n",
        "  x = Activation('relu')(x)\n",
        "  x = Dense(nClasses)(x)\n",
        "  x = Activation('softmax')(x)\n",
        "\n",
        "  model = Model(model.input, x)\n",
        "\n",
        "  return model"
      ]
    },
    {
      "cell_type": "markdown",
      "metadata": {
        "id": "bJ4FQkekHckZ"
      },
      "source": [
        "* **Etude des modèles**"
      ]
    },
    {
      "cell_type": "code",
      "execution_count": null,
      "metadata": {
        "id": "788E77rli05f"
      },
      "outputs": [],
      "source": [
        "def plot_accuracy_loss(history):\n",
        "    \"\"\"\n",
        "    Retourne 2 graphes : un qui présente l'accuracy sur les sets de train et validation et le deuxième avec la loss\n",
        "    \"\"\"\n",
        "    fig, (ax1, ax2) = plt.subplots(1, 2, figsize=(15,5))\n",
        "\n",
        "    #Accuracy\n",
        "    accuracy = history.history['accuracy']\n",
        "    val_accuracy = history.history['val_accuracy']\n",
        "    ax1.plot(range(len(accuracy)), accuracy, label='train')\n",
        "    ax1.plot(range(len(val_accuracy)), val_accuracy, label='validation')\n",
        "    ax1.legend()\n",
        "    ax1.set_xlabel('Epochs')\n",
        "    ax1.set_ylabel('Accuracy')\n",
        "    ax1.set_title('Training and Validation Accuracy')\n",
        "\n",
        "    #Loss\n",
        "    loss = history.history['loss']\n",
        "    val_loss = history.history['val_loss']\n",
        "    ax2.plot(range(len(loss)), loss, label='train')\n",
        "    ax2.plot(range(len(val_loss)), val_loss, label='validation')\n",
        "    ax2.legend()\n",
        "    ax2.set_xlabel('Epochs')\n",
        "    ax2.set_ylabel('Loss')\n",
        "    ax2.set_title('Training and Validation Loss')\n",
        "\n",
        "\n",
        "def plot_confusion_matrix(cm, classes,\n",
        "                          title='Confusion matrix',\n",
        "                          cmap=plt.cm.Blues):\n",
        "    \"\"\"\n",
        "    Affiche la matrice de confusion du modèle sur les données de test\n",
        "    \"\"\"\n",
        "    fig = plt.figure(figsize=(10,10))\n",
        "    plt.imshow(cm, interpolation='nearest', cmap=cmap)\n",
        "    plt.title(title)\n",
        "    plt.colorbar()\n",
        "    tick_marks = np.arange(len(classes))\n",
        "    plt.xticks(tick_marks, classes, rotation=45)\n",
        "    plt.yticks(tick_marks, classes)\n",
        "    fmt = 'd'\n",
        "    thresh = cm.max() / 2.\n",
        "    for i, j in itertools.product(range(cm.shape[0]), range(cm.shape[1])):\n",
        "        plt.text(j, i, format(cm[i, j], fmt),\n",
        "                 horizontalalignment=\"center\",\n",
        "                 color=\"white\" if cm[i, j] > thresh else \"black\")\n",
        "    plt.tight_layout()\n",
        "    plt.ylabel('True label')\n",
        "    plt.xlabel('Predicted label')\n",
        "    plt.show()\n",
        "\n",
        "def study_model(model, classes, test_generator, executionTime, plot_cm=False):\n",
        "    \"\"\"\n",
        "    Retourne des informations sur la performance du modèle\n",
        "    \"\"\"\n",
        "\n",
        "    #Durée d'entraînement\n",
        "    print(f\"Durée d'entraînement : {round(executionTime, 2)} secondes\")\n",
        "\n",
        "    #Performances sur le set de test\n",
        "    preds = model.predict(test_generator)  # preds are proba for each class\n",
        "    preds_classes = [i.argmax() for i in preds]\n",
        "    y_true = test_generator.classes\n",
        "    acc_test = accuracy_score(y_true, preds_classes)\n",
        "    prec_test = precision_score(y_true, preds_classes, average='weighted')\n",
        "    rec_test = recall_score(y_true, preds_classes, average='weighted')\n",
        "    f1_test = f1_score(y_true, preds_classes, average='weighted')\n",
        "    results = pd.DataFrame([[acc_test, prec_test, rec_test, f1_test]], columns=['accuracy', 'precision', 'recall', 'f1-score'])\n",
        "    print(\"\\nPerformances sur le set de test : \\n\")\n",
        "    print(results)\n",
        "\n",
        "    #Matrice de confusion\n",
        "    if (plot_cm):\n",
        "      cm = confusion_matrix(y_true, preds_classes)\n",
        "      plot_confusion_matrix(cm, classes)"
      ]
    },
    {
      "cell_type": "markdown",
      "metadata": {
        "id": "xhnFNrm3EE4U"
      },
      "source": [
        "# VGG19"
      ]
    },
    {
      "cell_type": "markdown",
      "metadata": {
        "id": "fQoOK6eByfUh"
      },
      "source": [
        "Nous téléchargeons le modèle **VGG19 pré-entraîné sur ImageNet** et ne modifions que la partie classification (correspondant aux couches entièrements connectées). Les poids des couches convolutives de VGG19 sont donc conservées (layer.trainable = False)."
      ]
    },
    {
      "cell_type": "code",
      "execution_count": null,
      "metadata": {
        "colab": {
          "base_uri": "https://localhost:8080/"
        },
        "id": "-NAOqJoEMcEl",
        "outputId": "33b7f893-df87-44be-dce1-341810e071c8"
      },
      "outputs": [
        {
          "name": "stdout",
          "output_type": "stream",
          "text": [
            "Found 1766 images belonging to 6 classes.\n",
            "Found 384 images belonging to 6 classes.\n",
            "Found 377 images belonging to 6 classes.\n",
            "Downloading data from https://storage.googleapis.com/tensorflow/keras-applications/vgg19/vgg19_weights_tf_dim_ordering_tf_kernels_notop.h5\n",
            "80142336/80134624 [==============================] - 1s 0us/step\n",
            "80150528/80134624 [==============================] - 1s 0us/step\n"
          ]
        }
      ],
      "source": [
        "modelName = \"VGG19\"\n",
        "\n",
        "input_shape, train_generator, test_generator, validation_generator =  makeGenerators(modelName, inputFolder, batch_size)\n",
        "model = VGG19(include_top = False, weights = 'imagenet', input_shape = input_shape)\n",
        "model_vgg19 = Architecture(model, nClasses)\n",
        "model_vgg19.compile(loss='categorical_crossentropy', optimizer=keras.optimizers.RMSprop(learning_rate=2e-5), metrics=['accuracy'])"
      ]
    },
    {
      "cell_type": "code",
      "execution_count": null,
      "metadata": {
        "colab": {
          "base_uri": "https://localhost:8080/"
        },
        "id": "pRw3DxNkWGqa",
        "outputId": "5806fbdb-60fa-4f38-d85e-a1a793fbe4ae"
      },
      "outputs": [
        {
          "name": "stdout",
          "output_type": "stream",
          "text": [
            "Epoch 1/65\n",
            "56/56 [==============================] - 530s 9s/step - loss: 4.9077 - accuracy: 0.3958 - val_loss: 3.5087 - val_accuracy: 0.5358\n",
            "Epoch 2/65\n",
            "56/56 [==============================] - 43s 760ms/step - loss: 3.1605 - accuracy: 0.5476 - val_loss: 2.5698 - val_accuracy: 0.6127\n",
            "Epoch 3/65\n",
            "56/56 [==============================] - 41s 725ms/step - loss: 2.3546 - accuracy: 0.6138 - val_loss: 2.1348 - val_accuracy: 0.6631\n",
            "Epoch 4/65\n",
            "56/56 [==============================] - 40s 718ms/step - loss: 1.9221 - accuracy: 0.6676 - val_loss: 1.8578 - val_accuracy: 0.6684\n",
            "Epoch 5/65\n",
            "56/56 [==============================] - 40s 719ms/step - loss: 1.6147 - accuracy: 0.6852 - val_loss: 1.7494 - val_accuracy: 0.6817\n",
            "Epoch 6/65\n",
            "56/56 [==============================] - 40s 718ms/step - loss: 1.4694 - accuracy: 0.7089 - val_loss: 1.6508 - val_accuracy: 0.7003\n",
            "Epoch 7/65\n",
            "56/56 [==============================] - 40s 717ms/step - loss: 1.3359 - accuracy: 0.7282 - val_loss: 1.4812 - val_accuracy: 0.7162\n",
            "Epoch 8/65\n",
            "56/56 [==============================] - 40s 708ms/step - loss: 1.3728 - accuracy: 0.7197 - val_loss: 1.3634 - val_accuracy: 0.7347\n",
            "Epoch 9/65\n",
            "56/56 [==============================] - 40s 713ms/step - loss: 1.1951 - accuracy: 0.7407 - val_loss: 1.2970 - val_accuracy: 0.7241\n",
            "Epoch 10/65\n",
            "56/56 [==============================] - 40s 718ms/step - loss: 1.0664 - accuracy: 0.7588 - val_loss: 1.2232 - val_accuracy: 0.7560\n",
            "Epoch 11/65\n",
            "56/56 [==============================] - 40s 715ms/step - loss: 0.9452 - accuracy: 0.7610 - val_loss: 1.1876 - val_accuracy: 0.7507\n",
            "Epoch 12/65\n",
            "56/56 [==============================] - 40s 710ms/step - loss: 0.9957 - accuracy: 0.7746 - val_loss: 1.1109 - val_accuracy: 0.7533\n",
            "Epoch 13/65\n",
            "56/56 [==============================] - 40s 716ms/step - loss: 0.9495 - accuracy: 0.7707 - val_loss: 1.0291 - val_accuracy: 0.7719\n",
            "Epoch 14/65\n",
            "56/56 [==============================] - 40s 715ms/step - loss: 0.7968 - accuracy: 0.7803 - val_loss: 0.9618 - val_accuracy: 0.7851\n",
            "Epoch 15/65\n",
            "56/56 [==============================] - 40s 709ms/step - loss: 0.8587 - accuracy: 0.7814 - val_loss: 0.9055 - val_accuracy: 0.7798\n",
            "Epoch 16/65\n",
            "56/56 [==============================] - 40s 713ms/step - loss: 0.8117 - accuracy: 0.7911 - val_loss: 0.8985 - val_accuracy: 0.7984\n",
            "Epoch 17/65\n",
            "56/56 [==============================] - 40s 716ms/step - loss: 0.7544 - accuracy: 0.7990 - val_loss: 0.8766 - val_accuracy: 0.8064\n",
            "Epoch 18/65\n",
            "56/56 [==============================] - 40s 720ms/step - loss: 0.7136 - accuracy: 0.8109 - val_loss: 0.8494 - val_accuracy: 0.8037\n",
            "Epoch 19/65\n",
            "56/56 [==============================] - 40s 721ms/step - loss: 0.6685 - accuracy: 0.8284 - val_loss: 0.8284 - val_accuracy: 0.8090\n",
            "Epoch 20/65\n",
            "56/56 [==============================] - 41s 726ms/step - loss: 0.7109 - accuracy: 0.8126 - val_loss: 0.8484 - val_accuracy: 0.8064\n",
            "Epoch 21/65\n",
            "56/56 [==============================] - 41s 730ms/step - loss: 0.6495 - accuracy: 0.8222 - val_loss: 0.8288 - val_accuracy: 0.8117\n",
            "Epoch 22/65\n",
            "56/56 [==============================] - 40s 717ms/step - loss: 0.7025 - accuracy: 0.8239 - val_loss: 0.8202 - val_accuracy: 0.7931\n",
            "Epoch 23/65\n",
            "56/56 [==============================] - 40s 720ms/step - loss: 0.7253 - accuracy: 0.8279 - val_loss: 0.7431 - val_accuracy: 0.8064\n",
            "Epoch 24/65\n",
            "56/56 [==============================] - 40s 719ms/step - loss: 0.6285 - accuracy: 0.8273 - val_loss: 0.7944 - val_accuracy: 0.7958\n",
            "Epoch 25/65\n",
            "56/56 [==============================] - 41s 722ms/step - loss: 0.5378 - accuracy: 0.8499 - val_loss: 0.7420 - val_accuracy: 0.8249\n",
            "Epoch 26/65\n",
            "56/56 [==============================] - 40s 720ms/step - loss: 0.5563 - accuracy: 0.8471 - val_loss: 0.7887 - val_accuracy: 0.8223\n",
            "Epoch 27/65\n",
            "56/56 [==============================] - 41s 725ms/step - loss: 0.5740 - accuracy: 0.8488 - val_loss: 0.7671 - val_accuracy: 0.8196\n",
            "Epoch 28/65\n",
            "56/56 [==============================] - 41s 726ms/step - loss: 0.5761 - accuracy: 0.8369 - val_loss: 0.7677 - val_accuracy: 0.8329\n",
            "Epoch 29/65\n",
            "56/56 [==============================] - 41s 726ms/step - loss: 0.6148 - accuracy: 0.8431 - val_loss: 0.7217 - val_accuracy: 0.8302\n",
            "Epoch 30/65\n",
            "56/56 [==============================] - 40s 720ms/step - loss: 0.4905 - accuracy: 0.8596 - val_loss: 0.6981 - val_accuracy: 0.8276\n",
            "Epoch 31/65\n",
            "56/56 [==============================] - 40s 721ms/step - loss: 0.5270 - accuracy: 0.8539 - val_loss: 0.7220 - val_accuracy: 0.8249\n",
            "Epoch 32/65\n",
            "56/56 [==============================] - 40s 715ms/step - loss: 0.5166 - accuracy: 0.8482 - val_loss: 0.6858 - val_accuracy: 0.8249\n",
            "Epoch 33/65\n",
            "56/56 [==============================] - 41s 727ms/step - loss: 0.5079 - accuracy: 0.8562 - val_loss: 0.6634 - val_accuracy: 0.8302\n",
            "Epoch 34/65\n",
            "56/56 [==============================] - 41s 728ms/step - loss: 0.4402 - accuracy: 0.8647 - val_loss: 0.6750 - val_accuracy: 0.8302\n",
            "Epoch 35/65\n",
            "56/56 [==============================] - 40s 710ms/step - loss: 0.4996 - accuracy: 0.8601 - val_loss: 0.6568 - val_accuracy: 0.8382\n",
            "Epoch 36/65\n",
            "56/56 [==============================] - 40s 714ms/step - loss: 0.5148 - accuracy: 0.8584 - val_loss: 0.6787 - val_accuracy: 0.8355\n",
            "Epoch 37/65\n",
            "56/56 [==============================] - 41s 731ms/step - loss: 0.4941 - accuracy: 0.8652 - val_loss: 0.6844 - val_accuracy: 0.8355\n",
            "Epoch 38/65\n",
            "56/56 [==============================] - 41s 729ms/step - loss: 0.4779 - accuracy: 0.8556 - val_loss: 0.6800 - val_accuracy: 0.8462\n",
            "Epoch 39/65\n",
            "56/56 [==============================] - 40s 720ms/step - loss: 0.4822 - accuracy: 0.8658 - val_loss: 0.7272 - val_accuracy: 0.8382\n",
            "Epoch 40/65\n",
            "56/56 [==============================] - 40s 717ms/step - loss: 0.4790 - accuracy: 0.8749 - val_loss: 0.6754 - val_accuracy: 0.8329\n",
            "Epoch 41/65\n",
            "56/56 [==============================] - 40s 717ms/step - loss: 0.4474 - accuracy: 0.8726 - val_loss: 0.6769 - val_accuracy: 0.8408\n",
            "Epoch 42/65\n",
            "56/56 [==============================] - 40s 718ms/step - loss: 0.4380 - accuracy: 0.8822 - val_loss: 0.6461 - val_accuracy: 0.8488\n",
            "Epoch 43/65\n",
            "56/56 [==============================] - 40s 717ms/step - loss: 0.4074 - accuracy: 0.8805 - val_loss: 0.6794 - val_accuracy: 0.8355\n",
            "Epoch 44/65\n",
            "56/56 [==============================] - 41s 724ms/step - loss: 0.4490 - accuracy: 0.8669 - val_loss: 0.6349 - val_accuracy: 0.8435\n",
            "Epoch 45/65\n",
            "56/56 [==============================] - 42s 741ms/step - loss: 0.4075 - accuracy: 0.8834 - val_loss: 0.6170 - val_accuracy: 0.8462\n",
            "Epoch 46/65\n",
            "56/56 [==============================] - 41s 733ms/step - loss: 0.4131 - accuracy: 0.8896 - val_loss: 0.6104 - val_accuracy: 0.8435\n",
            "Epoch 47/65\n",
            "56/56 [==============================] - 41s 728ms/step - loss: 0.3353 - accuracy: 0.8907 - val_loss: 0.6179 - val_accuracy: 0.8382\n",
            "Epoch 48/65\n",
            "56/56 [==============================] - 42s 740ms/step - loss: 0.3937 - accuracy: 0.8879 - val_loss: 0.6391 - val_accuracy: 0.8382\n",
            "Epoch 49/65\n",
            "56/56 [==============================] - 41s 725ms/step - loss: 0.3881 - accuracy: 0.8890 - val_loss: 0.6621 - val_accuracy: 0.8249\n",
            "Epoch 50/65\n",
            "56/56 [==============================] - 41s 724ms/step - loss: 0.3348 - accuracy: 0.9015 - val_loss: 0.6669 - val_accuracy: 0.8276\n",
            "Epoch 51/65\n",
            "56/56 [==============================] - 40s 717ms/step - loss: 0.3822 - accuracy: 0.9037 - val_loss: 0.6271 - val_accuracy: 0.8408\n",
            "Epoch 52/65\n",
            "56/56 [==============================] - 40s 716ms/step - loss: 0.3557 - accuracy: 0.9009 - val_loss: 0.6402 - val_accuracy: 0.8462\n",
            "Epoch 53/65\n",
            "56/56 [==============================] - 39s 700ms/step - loss: 0.3400 - accuracy: 0.9083 - val_loss: 0.6586 - val_accuracy: 0.8223\n",
            "Epoch 54/65\n",
            "56/56 [==============================] - 39s 700ms/step - loss: 0.3686 - accuracy: 0.8992 - val_loss: 0.6049 - val_accuracy: 0.8302\n",
            "Epoch 55/65\n",
            "56/56 [==============================] - 40s 706ms/step - loss: 0.3624 - accuracy: 0.8958 - val_loss: 0.6435 - val_accuracy: 0.8488\n",
            "Epoch 56/65\n",
            "56/56 [==============================] - 39s 702ms/step - loss: 0.3627 - accuracy: 0.8969 - val_loss: 0.6546 - val_accuracy: 0.8355\n",
            "Epoch 57/65\n",
            "56/56 [==============================] - 39s 696ms/step - loss: 0.3841 - accuracy: 0.9049 - val_loss: 0.6119 - val_accuracy: 0.8355\n",
            "Epoch 58/65\n",
            "56/56 [==============================] - 39s 696ms/step - loss: 0.3741 - accuracy: 0.8998 - val_loss: 0.6430 - val_accuracy: 0.8276\n",
            "Epoch 59/65\n",
            "56/56 [==============================] - 40s 708ms/step - loss: 0.3673 - accuracy: 0.8992 - val_loss: 0.6197 - val_accuracy: 0.8462\n",
            "Epoch 60/65\n",
            "56/56 [==============================] - 40s 710ms/step - loss: 0.3625 - accuracy: 0.9026 - val_loss: 0.6186 - val_accuracy: 0.8568\n",
            "Epoch 61/65\n",
            "56/56 [==============================] - 40s 708ms/step - loss: 0.3091 - accuracy: 0.9117 - val_loss: 0.6853 - val_accuracy: 0.8408\n",
            "Epoch 62/65\n",
            "56/56 [==============================] - 40s 706ms/step - loss: 0.3482 - accuracy: 0.8975 - val_loss: 0.5865 - val_accuracy: 0.8568\n",
            "Epoch 63/65\n",
            "56/56 [==============================] - 40s 704ms/step - loss: 0.3183 - accuracy: 0.9077 - val_loss: 0.6279 - val_accuracy: 0.8515\n",
            "Epoch 64/65\n",
            "56/56 [==============================] - 40s 703ms/step - loss: 0.2962 - accuracy: 0.9100 - val_loss: 0.6386 - val_accuracy: 0.8488\n",
            "Epoch 65/65\n",
            "56/56 [==============================] - 40s 706ms/step - loss: 0.3151 - accuracy: 0.9173 - val_loss: 0.6107 - val_accuracy: 0.8541\n"
          ]
        }
      ],
      "source": [
        "startTime=time.time()\n",
        "history = model_vgg19.fit(train_generator, epochs = epochs_nb, validation_data  = validation_generator)\n",
        "executionTime = (time.time() - startTime)"
      ]
    },
    {
      "cell_type": "code",
      "execution_count": null,
      "metadata": {
        "id": "vWS5LOjli0vj"
      },
      "outputs": [],
      "source": [
        "model_vgg19.save(f'./Modeles/{modelName}.h5')"
      ]
    },
    {
      "cell_type": "code",
      "execution_count": null,
      "metadata": {
        "colab": {
          "base_uri": "https://localhost:8080/"
        },
        "id": "pnFXPTN3kh_h",
        "outputId": "38dd071d-399f-4e10-e2eb-9f5f99232abf"
      },
      "outputs": [
        {
          "name": "stdout",
          "output_type": "stream",
          "text": [
            "Durée d'entraînement : 3123.99 secondes\n",
            "\n",
            "Performances sur le set de test : \n",
            "\n",
            "   accuracy  precision    recall  f1-score\n",
            "0  0.822917   0.826353  0.822917  0.822247\n"
          ]
        }
      ],
      "source": [
        "study_model(model_vgg19, labels, test_generator, executionTime)"
      ]
    },
    {
      "cell_type": "code",
      "execution_count": null,
      "metadata": {
        "colab": {
          "base_uri": "https://localhost:8080/",
          "height": 349
        },
        "id": "hyagiyVvCUq3",
        "outputId": "fb490055-96cc-4ad3-96fe-624041787073"
      },
      "outputs": [
        {
          "data": {
            "image/png": "[encoded data removed]",
            "text/plain": [
              "<Figure size 1080x360 with 2 Axes>"
            ]
          },
          "metadata": {},
          "output_type": "display_data"
        }
      ],
      "source": [
        "plot_accuracy_loss(history)"
      ]
    },
    {
      "cell_type": "markdown",
      "metadata": {
        "id": "aZVzkB53jpYn"
      },
      "source": [
        "Le modèle a-t-il convergé après 65 epochs ? Pas sûr\n",
        "\n",
        "Il est préférable d'entraîner le modèle à nouveau sur quelques epochs."
      ]
    },
    {
      "cell_type": "code",
      "execution_count": null,
      "metadata": {
        "id": "7RCVtlLlj3Ui"
      },
      "outputs": [],
      "source": [
        "model_vgg19_2 = load_model(f\"./Modeles/{modelName}.h5\")\n",
        "model_vgg19_2.compile(loss='categorical_crossentropy', optimizer=keras.optimizers.RMSprop(learning_rate=2e-5), metrics=['accuracy'])\n",
        "es = EarlyStopping(monitor='val_loss', mode='min', verbose=1, patience=10)\n",
        "cb_list=[es]\n",
        "epochs_nb = 35"
      ]
    },
    {
      "cell_type": "code",
      "execution_count": null,
      "metadata": {
        "colab": {
          "base_uri": "https://localhost:8080/"
        },
        "id": "hFNyXblgkpiH",
        "outputId": "e6ce9ad0-68df-4064-fb08-89f1991c0c3c"
      },
      "outputs": [
        {
          "name": "stdout",
          "output_type": "stream",
          "text": [
            "Epoch 1/35\n",
            "56/56 [==============================] - 45s 773ms/step - loss: 0.3146 - accuracy: 0.9173 - val_loss: 0.6602 - val_accuracy: 0.8541\n",
            "Epoch 2/35\n",
            "56/56 [==============================] - 41s 748ms/step - loss: 0.2876 - accuracy: 0.9190 - val_loss: 0.6398 - val_accuracy: 0.8488\n",
            "Epoch 3/35\n",
            "56/56 [==============================] - 41s 732ms/step - loss: 0.3453 - accuracy: 0.9151 - val_loss: 0.6190 - val_accuracy: 0.8541\n",
            "Epoch 4/35\n",
            "56/56 [==============================] - 42s 746ms/step - loss: 0.2995 - accuracy: 0.9207 - val_loss: 0.6227 - val_accuracy: 0.8541\n",
            "Epoch 5/35\n",
            "56/56 [==============================] - 41s 727ms/step - loss: 0.2952 - accuracy: 0.9100 - val_loss: 0.6099 - val_accuracy: 0.8488\n",
            "Epoch 6/35\n",
            "56/56 [==============================] - 41s 748ms/step - loss: 0.3265 - accuracy: 0.9185 - val_loss: 0.5671 - val_accuracy: 0.8647\n",
            "Epoch 7/35\n",
            "56/56 [==============================] - 41s 728ms/step - loss: 0.2566 - accuracy: 0.9281 - val_loss: 0.6443 - val_accuracy: 0.8594\n",
            "Epoch 8/35\n",
            "56/56 [==============================] - 41s 730ms/step - loss: 0.2939 - accuracy: 0.9179 - val_loss: 0.6237 - val_accuracy: 0.8621\n",
            "Epoch 9/35\n",
            "56/56 [==============================] - 41s 734ms/step - loss: 0.2966 - accuracy: 0.9264 - val_loss: 0.5801 - val_accuracy: 0.8700\n",
            "Epoch 10/35\n",
            "56/56 [==============================] - 41s 729ms/step - loss: 0.2583 - accuracy: 0.9264 - val_loss: 0.6232 - val_accuracy: 0.8674\n",
            "Epoch 11/35\n",
            "56/56 [==============================] - 41s 724ms/step - loss: 0.2635 - accuracy: 0.9326 - val_loss: 0.6374 - val_accuracy: 0.8727\n",
            "Epoch 12/35\n",
            "56/56 [==============================] - 41s 723ms/step - loss: 0.3098 - accuracy: 0.9190 - val_loss: 0.6146 - val_accuracy: 0.8621\n",
            "Epoch 13/35\n",
            "56/56 [==============================] - 41s 728ms/step - loss: 0.3000 - accuracy: 0.9185 - val_loss: 0.6232 - val_accuracy: 0.8568\n",
            "Epoch 14/35\n",
            "56/56 [==============================] - 41s 727ms/step - loss: 0.2644 - accuracy: 0.9309 - val_loss: 0.6562 - val_accuracy: 0.8568\n",
            "Epoch 15/35\n",
            "56/56 [==============================] - 40s 717ms/step - loss: 0.2799 - accuracy: 0.9315 - val_loss: 0.6818 - val_accuracy: 0.8488\n",
            "Epoch 16/35\n",
            "56/56 [==============================] - 41s 723ms/step - loss: 0.2654 - accuracy: 0.9304 - val_loss: 0.6389 - val_accuracy: 0.8727\n",
            "Epoch 00016: early stopping\n"
          ]
        }
      ],
      "source": [
        "startTime=time.time()\n",
        "history = model_vgg19_2.fit(train_generator, epochs = epochs_nb, validation_data  = validation_generator, callbacks=cb_list)\n",
        "executionTime2 = (time.time() - startTime)"
      ]
    },
    {
      "cell_type": "code",
      "execution_count": null,
      "metadata": {
        "id": "YFlqG2b_oU6U"
      },
      "outputs": [],
      "source": [
        "model_vgg19_2.save(f'./Modeles/{modelName}2.h5')"
      ]
    },
    {
      "cell_type": "code",
      "execution_count": null,
      "metadata": {
        "colab": {
          "base_uri": "https://localhost:8080/"
        },
        "id": "MQ1gHhA4ojg4",
        "outputId": "a3a594c9-e800-44d0-f453-60f464a2cfda"
      },
      "outputs": [
        {
          "name": "stdout",
          "output_type": "stream",
          "text": [
            "Durée d'entraînement : 660.5 secondes\n",
            "\n",
            "Performances sur le set de test : \n",
            "\n",
            "   accuracy  precision    recall  f1-score\n",
            "0  0.825521   0.827939  0.825521  0.824667\n"
          ]
        }
      ],
      "source": [
        "study_model(model_vgg19_2, labels, test_generator, executionTime2)"
      ]
    },
    {
      "cell_type": "code",
      "execution_count": null,
      "metadata": {
        "colab": {
          "base_uri": "https://localhost:8080/",
          "height": 349
        },
        "id": "NSNHMtJfodkT",
        "outputId": "a6bd8c5c-60db-409c-a782-72b96161f58d"
      },
      "outputs": [
        {
          "data": {
            "image/png": "[encoded data removed]",
            "text/plain": [
              "<Figure size 1080x360 with 2 Axes>"
            ]
          },
          "metadata": {},
          "output_type": "display_data"
        }
      ],
      "source": [
        "plot_accuracy_loss(history)"
      ]
    },
    {
      "cell_type": "markdown",
      "metadata": {
        "id": "X_cU4UTwpOcM"
      },
      "source": [
        "Les résultats sur les sets d'entraînement et de validation ont légèrement augmenté (passant respectivement de 91 à 93% et de 85 à 87% d'accuracy). Cependant, les résultats sur le set de test ont à peine bougés : **82,5% d'accuracy**. Nous pouvons en conclure que le modèle avait bien convergé.\n",
        "\n",
        "Les performances de VGG19 ne sont pas meilleures que celles de VGG16. De plus, le temps d'entraînement est plus long."
      ]
    },
    {
      "cell_type": "markdown",
      "metadata": {
        "id": "5QgGj0EwEraS"
      },
      "source": [
        "# ResNet50"
      ]
    },
    {
      "cell_type": "code",
      "execution_count": null,
      "metadata": {
        "colab": {
          "base_uri": "https://localhost:8080/"
        },
        "id": "sdzcCDkKOf9A",
        "outputId": "791cda62-1e02-43f5-c08f-e06f8eb2b8d3"
      },
      "outputs": [
        {
          "name": "stdout",
          "output_type": "stream",
          "text": [
            "Found 1766 images belonging to 6 classes.\n",
            "Found 384 images belonging to 6 classes.\n",
            "Found 377 images belonging to 6 classes.\n"
          ]
        }
      ],
      "source": [
        "modelName = \"ResNet50\"\n",
        "epochs_nb = 65\n",
        "\n",
        "input_shape, train_generator, test_generator, validation_generator =  makeGenerators(modelName, inputFolder, batch_size)\n",
        "model = ResNet50(include_top = False, weights = 'imagenet', input_shape = input_shape)\n",
        "model_resnet50 = Architecture(model, nClasses)\n",
        "model_resnet50.compile(loss='categorical_crossentropy', optimizer=keras.optimizers.RMSprop(learning_rate=2e-5), metrics=['accuracy'])"
      ]
    },
    {
      "cell_type": "code",
      "execution_count": null,
      "metadata": {
        "colab": {
          "background_save": true,
          "base_uri": "https://localhost:8080/"
        },
        "id": "jcOG-DHfrMMg",
        "outputId": "60e9b4a1-4f12-4ba4-d8d7-a5bbd60e0f09"
      },
      "outputs": [
        {
          "name": "stdout",
          "output_type": "stream",
          "text": [
            "Epoch 1/65\n",
            "56/56 [==============================] - 48s 774ms/step - loss: 1.2637 - accuracy: 0.6212 - val_loss: 0.6737 - val_accuracy: 0.7560\n",
            "Epoch 2/65\n",
            "56/56 [==============================] - 40s 705ms/step - loss: 0.7157 - accuracy: 0.7639 - val_loss: 0.5755 - val_accuracy: 0.8170\n",
            "Epoch 3/65\n",
            "56/56 [==============================] - 40s 717ms/step - loss: 0.5495 - accuracy: 0.7984 - val_loss: 0.4457 - val_accuracy: 0.8515\n",
            "Epoch 4/65\n",
            "56/56 [==============================] - 39s 699ms/step - loss: 0.5154 - accuracy: 0.8347 - val_loss: 0.5979 - val_accuracy: 0.8302\n",
            "Epoch 5/65\n",
            "56/56 [==============================] - 40s 713ms/step - loss: 0.4391 - accuracy: 0.8505 - val_loss: 0.4202 - val_accuracy: 0.8594\n",
            "Epoch 6/65\n",
            "56/56 [==============================] - 39s 701ms/step - loss: 0.4320 - accuracy: 0.8613 - val_loss: 0.4260 - val_accuracy: 0.8753\n",
            "Epoch 7/65\n",
            "56/56 [==============================] - 39s 702ms/step - loss: 0.3394 - accuracy: 0.8884 - val_loss: 0.4386 - val_accuracy: 0.8727\n",
            "Epoch 8/65\n",
            "56/56 [==============================] - 40s 706ms/step - loss: 0.3524 - accuracy: 0.8851 - val_loss: 0.3596 - val_accuracy: 0.8939\n",
            "Epoch 9/65\n",
            "56/56 [==============================] - 39s 701ms/step - loss: 0.3506 - accuracy: 0.8856 - val_loss: 0.4323 - val_accuracy: 0.8674\n",
            "Epoch 10/65\n",
            "56/56 [==============================] - 40s 709ms/step - loss: 0.3591 - accuracy: 0.8867 - val_loss: 0.4377 - val_accuracy: 0.8700\n",
            "Epoch 11/65\n",
            "56/56 [==============================] - 40s 715ms/step - loss: 0.2938 - accuracy: 0.9015 - val_loss: 0.3431 - val_accuracy: 0.8886\n",
            "Epoch 12/65\n",
            "56/56 [==============================] - 40s 714ms/step - loss: 0.2937 - accuracy: 0.9088 - val_loss: 0.4167 - val_accuracy: 0.8833\n",
            "Epoch 13/65\n",
            "56/56 [==============================] - 40s 704ms/step - loss: 0.2630 - accuracy: 0.9094 - val_loss: 0.5050 - val_accuracy: 0.8594\n",
            "Epoch 14/65\n",
            "56/56 [==============================] - 39s 699ms/step - loss: 0.2625 - accuracy: 0.9122 - val_loss: 0.4529 - val_accuracy: 0.8753\n",
            "Epoch 15/65\n",
            "56/56 [==============================] - 39s 701ms/step - loss: 0.2476 - accuracy: 0.9230 - val_loss: 0.4583 - val_accuracy: 0.8780\n",
            "Epoch 16/65\n",
            "56/56 [==============================] - 39s 697ms/step - loss: 0.2244 - accuracy: 0.9264 - val_loss: 0.4522 - val_accuracy: 0.8939\n",
            "Epoch 17/65\n",
            "56/56 [==============================] - 39s 702ms/step - loss: 0.2209 - accuracy: 0.9281 - val_loss: 0.4743 - val_accuracy: 0.8859\n",
            "Epoch 18/65\n",
            "56/56 [==============================] - 40s 715ms/step - loss: 0.2311 - accuracy: 0.9281 - val_loss: 0.3845 - val_accuracy: 0.8939\n",
            "Epoch 19/65\n",
            "56/56 [==============================] - 40s 708ms/step - loss: 0.2076 - accuracy: 0.9332 - val_loss: 0.3755 - val_accuracy: 0.8912\n",
            "Epoch 20/65\n",
            "56/56 [==============================] - 39s 699ms/step - loss: 0.1782 - accuracy: 0.9451 - val_loss: 0.4266 - val_accuracy: 0.8859\n",
            "Epoch 21/65\n",
            "56/56 [==============================] - 39s 695ms/step - loss: 0.1577 - accuracy: 0.9422 - val_loss: 0.4378 - val_accuracy: 0.8939\n",
            "Epoch 22/65\n",
            "56/56 [==============================] - 39s 698ms/step - loss: 0.1887 - accuracy: 0.9360 - val_loss: 0.4428 - val_accuracy: 0.8992\n",
            "Epoch 23/65\n",
            "56/56 [==============================] - 39s 700ms/step - loss: 0.1801 - accuracy: 0.9405 - val_loss: 0.4709 - val_accuracy: 0.8886\n",
            "Epoch 24/65\n",
            "56/56 [==============================] - 39s 698ms/step - loss: 0.1687 - accuracy: 0.9473 - val_loss: 0.4632 - val_accuracy: 0.8912\n",
            "Epoch 25/65\n",
            "56/56 [==============================] - 40s 708ms/step - loss: 0.1758 - accuracy: 0.9445 - val_loss: 0.3914 - val_accuracy: 0.9045\n",
            "Epoch 26/65\n",
            "56/56 [==============================] - 40s 705ms/step - loss: 0.1707 - accuracy: 0.9473 - val_loss: 0.4130 - val_accuracy: 0.8912\n",
            "Epoch 27/65\n",
            "56/56 [==============================] - 40s 711ms/step - loss: 0.1641 - accuracy: 0.9513 - val_loss: 0.3479 - val_accuracy: 0.9231\n",
            "Epoch 28/65\n",
            "56/56 [==============================] - 40s 715ms/step - loss: 0.1432 - accuracy: 0.9536 - val_loss: 0.4680 - val_accuracy: 0.8939\n",
            "Epoch 29/65\n",
            "56/56 [==============================] - 41s 727ms/step - loss: 0.1541 - accuracy: 0.9502 - val_loss: 0.4747 - val_accuracy: 0.8912\n",
            "Epoch 30/65\n",
            "56/56 [==============================] - 39s 702ms/step - loss: 0.1518 - accuracy: 0.9513 - val_loss: 0.4075 - val_accuracy: 0.9019\n",
            "Epoch 31/65\n",
            "56/56 [==============================] - 40s 705ms/step - loss: 0.1383 - accuracy: 0.9587 - val_loss: 0.3739 - val_accuracy: 0.9125\n",
            "Epoch 32/65\n",
            "56/56 [==============================] - 39s 703ms/step - loss: 0.1216 - accuracy: 0.9581 - val_loss: 0.3448 - val_accuracy: 0.9178\n",
            "Epoch 33/65\n",
            "56/56 [==============================] - 39s 700ms/step - loss: 0.1325 - accuracy: 0.9587 - val_loss: 0.3985 - val_accuracy: 0.9019\n",
            "Epoch 34/65\n",
            "56/56 [==============================] - 40s 716ms/step - loss: 0.1243 - accuracy: 0.9575 - val_loss: 0.4046 - val_accuracy: 0.9045\n",
            "Epoch 35/65\n",
            "56/56 [==============================] - 40s 706ms/step - loss: 0.1209 - accuracy: 0.9609 - val_loss: 0.4166 - val_accuracy: 0.8912\n",
            "Epoch 36/65\n",
            "56/56 [==============================] - 39s 701ms/step - loss: 0.1254 - accuracy: 0.9621 - val_loss: 0.4023 - val_accuracy: 0.9125\n",
            "Epoch 37/65\n",
            "56/56 [==============================] - 40s 707ms/step - loss: 0.1109 - accuracy: 0.9621 - val_loss: 0.4366 - val_accuracy: 0.8966\n",
            "Epoch 38/65\n",
            "56/56 [==============================] - 39s 701ms/step - loss: 0.0964 - accuracy: 0.9694 - val_loss: 0.3957 - val_accuracy: 0.9019\n",
            "Epoch 39/65\n",
            "56/56 [==============================] - 39s 698ms/step - loss: 0.1164 - accuracy: 0.9689 - val_loss: 0.4097 - val_accuracy: 0.9178\n",
            "Epoch 40/65\n",
            "56/56 [==============================] - 40s 711ms/step - loss: 0.1252 - accuracy: 0.9621 - val_loss: 0.4050 - val_accuracy: 0.9098\n",
            "Epoch 41/65\n",
            "56/56 [==============================] - 40s 721ms/step - loss: 0.1191 - accuracy: 0.9655 - val_loss: 0.4126 - val_accuracy: 0.9178\n",
            "Epoch 42/65\n",
            "56/56 [==============================] - 40s 715ms/step - loss: 0.0983 - accuracy: 0.9717 - val_loss: 0.3723 - val_accuracy: 0.9178\n",
            "Epoch 43/65\n",
            "56/56 [==============================] - 40s 707ms/step - loss: 0.0927 - accuracy: 0.9706 - val_loss: 0.4770 - val_accuracy: 0.8939\n",
            "Epoch 44/65\n",
            "56/56 [==============================] - 40s 709ms/step - loss: 0.1195 - accuracy: 0.9643 - val_loss: 0.4164 - val_accuracy: 0.9098\n",
            "Epoch 45/65\n",
            "56/56 [==============================] - 40s 708ms/step - loss: 0.1165 - accuracy: 0.9655 - val_loss: 0.4635 - val_accuracy: 0.8992\n",
            "Epoch 46/65\n",
            "56/56 [==============================] - 40s 708ms/step - loss: 0.0991 - accuracy: 0.9706 - val_loss: 0.4863 - val_accuracy: 0.9019\n",
            "Epoch 47/65\n",
            "56/56 [==============================] - 40s 711ms/step - loss: 0.0832 - accuracy: 0.9757 - val_loss: 0.4082 - val_accuracy: 0.9178\n",
            "Epoch 48/65\n",
            "56/56 [==============================] - 40s 705ms/step - loss: 0.1035 - accuracy: 0.9694 - val_loss: 0.3896 - val_accuracy: 0.9151\n",
            "Epoch 49/65\n",
            "56/56 [==============================] - 40s 708ms/step - loss: 0.1153 - accuracy: 0.9655 - val_loss: 0.4671 - val_accuracy: 0.8966\n",
            "Epoch 50/65\n",
            "56/56 [==============================] - 40s 705ms/step - loss: 0.1105 - accuracy: 0.9655 - val_loss: 0.4576 - val_accuracy: 0.9098\n",
            "Epoch 51/65\n",
            "56/56 [==============================] - 39s 703ms/step - loss: 0.1000 - accuracy: 0.9706 - val_loss: 0.4192 - val_accuracy: 0.9257\n",
            "Epoch 52/65\n",
            "56/56 [==============================] - 40s 707ms/step - loss: 0.0707 - accuracy: 0.9790 - val_loss: 0.4547 - val_accuracy: 0.9204\n",
            "Epoch 53/65\n",
            "56/56 [==============================] - 40s 713ms/step - loss: 0.1115 - accuracy: 0.9638 - val_loss: 0.3798 - val_accuracy: 0.9337\n",
            "Epoch 54/65\n",
            "56/56 [==============================] - 40s 705ms/step - loss: 0.0779 - accuracy: 0.9728 - val_loss: 0.4555 - val_accuracy: 0.9204\n",
            "Epoch 55/65\n",
            "56/56 [==============================] - 40s 705ms/step - loss: 0.1018 - accuracy: 0.9672 - val_loss: 0.3940 - val_accuracy: 0.9231\n",
            "Epoch 56/65\n",
            "56/56 [==============================] - 40s 706ms/step - loss: 0.0895 - accuracy: 0.9706 - val_loss: 0.4460 - val_accuracy: 0.9098\n",
            "Epoch 57/65\n",
            "56/56 [==============================] - 41s 728ms/step - loss: 0.0803 - accuracy: 0.9773 - val_loss: 0.4759 - val_accuracy: 0.8992\n",
            "Epoch 58/65\n",
            "56/56 [==============================] - 41s 731ms/step - loss: 0.0940 - accuracy: 0.9740 - val_loss: 0.3585 - val_accuracy: 0.9178\n",
            "Epoch 59/65\n",
            "56/56 [==============================] - 40s 708ms/step - loss: 0.0759 - accuracy: 0.9773 - val_loss: 0.4500 - val_accuracy: 0.9019\n",
            "Epoch 60/65\n",
            "56/56 [==============================] - 40s 707ms/step - loss: 0.0718 - accuracy: 0.9807 - val_loss: 0.3685 - val_accuracy: 0.9098\n",
            "Epoch 61/65\n",
            "56/56 [==============================] - 40s 705ms/step - loss: 0.0985 - accuracy: 0.9706 - val_loss: 0.3972 - val_accuracy: 0.8966\n",
            "Epoch 62/65\n",
            "56/56 [==============================] - 40s 705ms/step - loss: 0.0700 - accuracy: 0.9751 - val_loss: 0.4272 - val_accuracy: 0.9072\n",
            "Epoch 63/65\n",
            "56/56 [==============================] - 40s 717ms/step - loss: 0.1046 - accuracy: 0.9740 - val_loss: 0.4177 - val_accuracy: 0.9019\n",
            "Epoch 64/65\n",
            "56/56 [==============================] - 41s 735ms/step - loss: 0.0572 - accuracy: 0.9830 - val_loss: 0.4010 - val_accuracy: 0.9125\n",
            "Epoch 65/65\n",
            "56/56 [==============================] - 40s 712ms/step - loss: 0.0658 - accuracy: 0.9802 - val_loss: 0.4568 - val_accuracy: 0.9125\n"
          ]
        },
        {
          "name": "stderr",
          "output_type": "stream",
          "text": [
            "/usr/local/lib/python3.7/dist-packages/keras/engine/functional.py:1410: CustomMaskWarning: Custom mask layers require a config and must override get_config. When loading, the custom mask layer must be passed to the custom_objects argument.\n",
            "  layer_config = serialize_layer_fn(layer)\n"
          ]
        }
      ],
      "source": [
        "startTime=time.time()\n",
        "history = model_resnet50.fit(train_generator, epochs = epochs_nb, validation_data  = validation_generator)\n",
        "executionTime = (time.time() - startTime)\n",
        "model_resnet50.save(f'./Modeles/{modelName}.h5')"
      ]
    },
    {
      "cell_type": "code",
      "source": [
        "study_model(model_resnet50, labels, test_generator, executionTime)"
      ],
      "metadata": {
        "colab": {
          "base_uri": "https://localhost:8080/"
        },
        "id": "dLv8Eu4hDz04",
        "outputId": "1dc40912-330e-450c-ff8b-90b8d5deb1ae"
      },
      "execution_count": null,
      "outputs": [
        {
          "output_type": "stream",
          "name": "stdout",
          "text": [
            "Durée d'entraînement : 2592 secondes\n",
            "\n",
            "Performances sur le set de test : \n",
            "\n",
            "   accuracy  precision    recall  f1-score\n",
            "0  0.885417   0.887026  0.885417  0.884463\n"
          ]
        }
      ]
    },
    {
      "cell_type": "markdown",
      "source": [
        "Les performances de ResNet50 surpassent largement celles de VGG16 et VGG19 car nous arrivons à une **accuracy de 88,5%** (contre 83% et 82,5%)."
      ],
      "metadata": {
        "id": "hFjqJcl6Fjsc"
      }
    },
    {
      "cell_type": "markdown",
      "source": [
        "# Xception"
      ],
      "metadata": {
        "id": "WSQpanxtGHIN"
      }
    },
    {
      "cell_type": "code",
      "source": [
        "modelName = \"Xception\"\n",
        "epochs_nb = 65\n",
        "\n",
        "input_shape, train_generator, test_generator, validation_generator =  makeGenerators(modelName, inputFolder, batch_size)\n",
        "model = Xception(include_top = False, weights = 'imagenet', input_shape = input_shape)\n",
        "model_xception = Architecture(model, nClasses)\n",
        "model_xception.compile(loss='categorical_crossentropy', optimizer=keras.optimizers.RMSprop(learning_rate=2e-5), metrics=['accuracy'])"
      ],
      "metadata": {
        "colab": {
          "base_uri": "https://localhost:8080/"
        },
        "id": "5GGiobpjGNa0",
        "outputId": "44a5c7cf-606a-4e8d-8b41-eb245090604e"
      },
      "execution_count": null,
      "outputs": [
        {
          "output_type": "stream",
          "name": "stdout",
          "text": [
            "Found 1766 images belonging to 6 classes.\n",
            "Found 384 images belonging to 6 classes.\n",
            "Found 377 images belonging to 6 classes.\n",
            "Downloading data from https://storage.googleapis.com/tensorflow/keras-applications/xception/xception_weights_tf_dim_ordering_tf_kernels_notop.h5\n",
            "83689472/83683744 [==============================] - 1s 0us/step\n",
            "83697664/83683744 [==============================] - 1s 0us/step\n"
          ]
        }
      ]
    },
    {
      "cell_type": "code",
      "source": [
        "startTime=time.time()\n",
        "history = model_xception.fit(train_generator, epochs = epochs_nb, validation_data  = validation_generator)\n",
        "executionTime = (time.time() - startTime)\n",
        "model_xception.save(f'./Modeles/{modelName}.h5')"
      ],
      "metadata": {
        "colab": {
          "base_uri": "https://localhost:8080/"
        },
        "id": "v7BgNfd_GXbd",
        "outputId": "d59e5f11-d993-4e3b-8a6e-b69deddf1ca6"
      },
      "execution_count": null,
      "outputs": [
        {
          "output_type": "stream",
          "name": "stdout",
          "text": [
            "Epoch 1/65\n",
            "56/56 [==============================] - 451s 8s/step - loss: 0.8667 - accuracy: 0.6971 - val_loss: 0.5361 - val_accuracy: 0.8090\n",
            "Epoch 2/65\n",
            "56/56 [==============================] - 69s 1s/step - loss: 0.5406 - accuracy: 0.8024 - val_loss: 0.4174 - val_accuracy: 0.8541\n",
            "Epoch 3/65\n",
            "56/56 [==============================] - 70s 1s/step - loss: 0.4489 - accuracy: 0.8409 - val_loss: 0.4657 - val_accuracy: 0.8515\n",
            "Epoch 4/65\n",
            "56/56 [==============================] - 68s 1s/step - loss: 0.4267 - accuracy: 0.8460 - val_loss: 0.4083 - val_accuracy: 0.8674\n",
            "Epoch 5/65\n",
            "56/56 [==============================] - 68s 1s/step - loss: 0.3474 - accuracy: 0.8681 - val_loss: 0.5582 - val_accuracy: 0.8276\n",
            "Epoch 6/65\n",
            "56/56 [==============================] - 68s 1s/step - loss: 0.3323 - accuracy: 0.8845 - val_loss: 0.4224 - val_accuracy: 0.8488\n",
            "Epoch 7/65\n",
            "56/56 [==============================] - 68s 1s/step - loss: 0.3390 - accuracy: 0.8918 - val_loss: 0.4507 - val_accuracy: 0.8621\n",
            "Epoch 8/65\n",
            "56/56 [==============================] - 67s 1s/step - loss: 0.3139 - accuracy: 0.8867 - val_loss: 0.4874 - val_accuracy: 0.8408\n",
            "Epoch 9/65\n",
            "56/56 [==============================] - 68s 1s/step - loss: 0.2892 - accuracy: 0.8998 - val_loss: 0.3683 - val_accuracy: 0.8939\n",
            "Epoch 10/65\n",
            "56/56 [==============================] - 69s 1s/step - loss: 0.2687 - accuracy: 0.9066 - val_loss: 0.3593 - val_accuracy: 0.9019\n",
            "Epoch 11/65\n",
            "56/56 [==============================] - 70s 1s/step - loss: 0.2478 - accuracy: 0.9196 - val_loss: 0.3638 - val_accuracy: 0.8966\n",
            "Epoch 12/65\n",
            "56/56 [==============================] - 69s 1s/step - loss: 0.2415 - accuracy: 0.9156 - val_loss: 0.3415 - val_accuracy: 0.8966\n",
            "Epoch 13/65\n",
            "56/56 [==============================] - 68s 1s/step - loss: 0.2302 - accuracy: 0.9213 - val_loss: 0.3827 - val_accuracy: 0.8912\n",
            "Epoch 14/65\n",
            "56/56 [==============================] - 67s 1s/step - loss: 0.2390 - accuracy: 0.9168 - val_loss: 0.3625 - val_accuracy: 0.9045\n",
            "Epoch 15/65\n",
            "56/56 [==============================] - 67s 1s/step - loss: 0.2040 - accuracy: 0.9219 - val_loss: 0.3612 - val_accuracy: 0.8886\n",
            "Epoch 16/65\n",
            "56/56 [==============================] - 68s 1s/step - loss: 0.2202 - accuracy: 0.9202 - val_loss: 0.4550 - val_accuracy: 0.8647\n",
            "Epoch 17/65\n",
            "56/56 [==============================] - 68s 1s/step - loss: 0.2018 - accuracy: 0.9275 - val_loss: 0.4814 - val_accuracy: 0.8780\n",
            "Epoch 18/65\n",
            "56/56 [==============================] - 67s 1s/step - loss: 0.1911 - accuracy: 0.9270 - val_loss: 0.4124 - val_accuracy: 0.8700\n",
            "Epoch 19/65\n",
            "56/56 [==============================] - 67s 1s/step - loss: 0.1878 - accuracy: 0.9360 - val_loss: 0.4231 - val_accuracy: 0.8992\n",
            "Epoch 20/65\n",
            "56/56 [==============================] - 67s 1s/step - loss: 0.1486 - accuracy: 0.9451 - val_loss: 0.4076 - val_accuracy: 0.8886\n",
            "Epoch 21/65\n",
            "56/56 [==============================] - 67s 1s/step - loss: 0.1632 - accuracy: 0.9422 - val_loss: 0.4590 - val_accuracy: 0.8859\n",
            "Epoch 22/65\n",
            "56/56 [==============================] - 66s 1s/step - loss: 0.1696 - accuracy: 0.9422 - val_loss: 0.4105 - val_accuracy: 0.8939\n",
            "Epoch 23/65\n",
            "56/56 [==============================] - 67s 1s/step - loss: 0.1568 - accuracy: 0.9417 - val_loss: 0.3830 - val_accuracy: 0.8992\n",
            "Epoch 24/65\n",
            "56/56 [==============================] - 67s 1s/step - loss: 0.1451 - accuracy: 0.9513 - val_loss: 0.4201 - val_accuracy: 0.8727\n",
            "Epoch 25/65\n",
            "56/56 [==============================] - 67s 1s/step - loss: 0.1476 - accuracy: 0.9479 - val_loss: 0.4903 - val_accuracy: 0.8700\n",
            "Epoch 26/65\n",
            "56/56 [==============================] - 67s 1s/step - loss: 0.1484 - accuracy: 0.9468 - val_loss: 0.4481 - val_accuracy: 0.8727\n",
            "Epoch 27/65\n",
            "56/56 [==============================] - 66s 1s/step - loss: 0.1295 - accuracy: 0.9547 - val_loss: 0.3953 - val_accuracy: 0.9045\n",
            "Epoch 28/65\n",
            "56/56 [==============================] - 67s 1s/step - loss: 0.1356 - accuracy: 0.9547 - val_loss: 0.4527 - val_accuracy: 0.8992\n",
            "Epoch 29/65\n",
            "56/56 [==============================] - 67s 1s/step - loss: 0.1442 - accuracy: 0.9536 - val_loss: 0.4456 - val_accuracy: 0.8833\n",
            "Epoch 30/65\n",
            "56/56 [==============================] - 67s 1s/step - loss: 0.1353 - accuracy: 0.9598 - val_loss: 0.4720 - val_accuracy: 0.8833\n",
            "Epoch 31/65\n",
            "56/56 [==============================] - 67s 1s/step - loss: 0.1273 - accuracy: 0.9575 - val_loss: 0.4426 - val_accuracy: 0.8833\n",
            "Epoch 32/65\n",
            "56/56 [==============================] - 67s 1s/step - loss: 0.1355 - accuracy: 0.9564 - val_loss: 0.4639 - val_accuracy: 0.8912\n",
            "Epoch 33/65\n",
            "56/56 [==============================] - 67s 1s/step - loss: 0.1148 - accuracy: 0.9570 - val_loss: 0.4574 - val_accuracy: 0.8859\n",
            "Epoch 34/65\n",
            "56/56 [==============================] - 67s 1s/step - loss: 0.0899 - accuracy: 0.9643 - val_loss: 0.4814 - val_accuracy: 0.8727\n",
            "Epoch 35/65\n",
            "56/56 [==============================] - 67s 1s/step - loss: 0.1210 - accuracy: 0.9581 - val_loss: 0.3833 - val_accuracy: 0.9072\n",
            "Epoch 36/65\n",
            "56/56 [==============================] - 69s 1s/step - loss: 0.1158 - accuracy: 0.9581 - val_loss: 0.4538 - val_accuracy: 0.8859\n",
            "Epoch 37/65\n",
            "56/56 [==============================] - 69s 1s/step - loss: 0.1351 - accuracy: 0.9479 - val_loss: 0.4506 - val_accuracy: 0.8753\n",
            "Epoch 38/65\n",
            "56/56 [==============================] - 69s 1s/step - loss: 0.1023 - accuracy: 0.9655 - val_loss: 0.4647 - val_accuracy: 0.9125\n",
            "Epoch 39/65\n",
            "56/56 [==============================] - 69s 1s/step - loss: 0.1154 - accuracy: 0.9609 - val_loss: 0.4349 - val_accuracy: 0.9178\n",
            "Epoch 40/65\n",
            "56/56 [==============================] - 68s 1s/step - loss: 0.1089 - accuracy: 0.9660 - val_loss: 0.5448 - val_accuracy: 0.8939\n",
            "Epoch 41/65\n",
            "56/56 [==============================] - 69s 1s/step - loss: 0.0781 - accuracy: 0.9706 - val_loss: 0.5227 - val_accuracy: 0.8939\n",
            "Epoch 42/65\n",
            "56/56 [==============================] - 68s 1s/step - loss: 0.0887 - accuracy: 0.9717 - val_loss: 0.5050 - val_accuracy: 0.8992\n",
            "Epoch 43/65\n",
            "56/56 [==============================] - 68s 1s/step - loss: 0.1002 - accuracy: 0.9638 - val_loss: 0.5534 - val_accuracy: 0.8992\n",
            "Epoch 44/65\n",
            "56/56 [==============================] - 67s 1s/step - loss: 0.1060 - accuracy: 0.9689 - val_loss: 0.4460 - val_accuracy: 0.8992\n",
            "Epoch 45/65\n",
            "56/56 [==============================] - 67s 1s/step - loss: 0.0960 - accuracy: 0.9632 - val_loss: 0.5205 - val_accuracy: 0.8939\n",
            "Epoch 46/65\n",
            "56/56 [==============================] - 67s 1s/step - loss: 0.1107 - accuracy: 0.9609 - val_loss: 0.4494 - val_accuracy: 0.9072\n",
            "Epoch 47/65\n",
            "56/56 [==============================] - 68s 1s/step - loss: 0.0758 - accuracy: 0.9734 - val_loss: 0.5484 - val_accuracy: 0.8912\n",
            "Epoch 48/65\n",
            "56/56 [==============================] - 68s 1s/step - loss: 0.0978 - accuracy: 0.9643 - val_loss: 0.4245 - val_accuracy: 0.9045\n",
            "Epoch 49/65\n",
            "56/56 [==============================] - 67s 1s/step - loss: 0.0748 - accuracy: 0.9728 - val_loss: 0.4945 - val_accuracy: 0.9045\n",
            "Epoch 50/65\n",
            "56/56 [==============================] - 67s 1s/step - loss: 0.1010 - accuracy: 0.9615 - val_loss: 0.5082 - val_accuracy: 0.8912\n",
            "Epoch 51/65\n",
            "56/56 [==============================] - 67s 1s/step - loss: 0.0820 - accuracy: 0.9711 - val_loss: 0.4674 - val_accuracy: 0.8966\n",
            "Epoch 52/65\n",
            "56/56 [==============================] - 67s 1s/step - loss: 0.0988 - accuracy: 0.9711 - val_loss: 0.4673 - val_accuracy: 0.8966\n",
            "Epoch 53/65\n",
            "56/56 [==============================] - 67s 1s/step - loss: 0.0754 - accuracy: 0.9790 - val_loss: 0.5060 - val_accuracy: 0.8859\n",
            "Epoch 54/65\n",
            "56/56 [==============================] - 67s 1s/step - loss: 0.0777 - accuracy: 0.9740 - val_loss: 0.5326 - val_accuracy: 0.8912\n",
            "Epoch 55/65\n",
            "56/56 [==============================] - 67s 1s/step - loss: 0.0732 - accuracy: 0.9723 - val_loss: 0.4219 - val_accuracy: 0.8912\n",
            "Epoch 56/65\n",
            "56/56 [==============================] - 67s 1s/step - loss: 0.0914 - accuracy: 0.9700 - val_loss: 0.6114 - val_accuracy: 0.8886\n",
            "Epoch 57/65\n",
            "56/56 [==============================] - 67s 1s/step - loss: 0.0848 - accuracy: 0.9740 - val_loss: 0.5445 - val_accuracy: 0.8912\n",
            "Epoch 58/65\n",
            "56/56 [==============================] - 67s 1s/step - loss: 0.0663 - accuracy: 0.9751 - val_loss: 0.5208 - val_accuracy: 0.8992\n",
            "Epoch 59/65\n",
            "56/56 [==============================] - 67s 1s/step - loss: 0.0719 - accuracy: 0.9779 - val_loss: 0.5170 - val_accuracy: 0.8992\n",
            "Epoch 60/65\n",
            "56/56 [==============================] - 67s 1s/step - loss: 0.0805 - accuracy: 0.9734 - val_loss: 0.4918 - val_accuracy: 0.9125\n",
            "Epoch 61/65\n",
            "56/56 [==============================] - 67s 1s/step - loss: 0.0845 - accuracy: 0.9745 - val_loss: 0.5175 - val_accuracy: 0.8912\n",
            "Epoch 62/65\n",
            "56/56 [==============================] - 67s 1s/step - loss: 0.0734 - accuracy: 0.9768 - val_loss: 0.5209 - val_accuracy: 0.8966\n",
            "Epoch 63/65\n",
            "56/56 [==============================] - 67s 1s/step - loss: 0.0819 - accuracy: 0.9734 - val_loss: 0.5052 - val_accuracy: 0.9072\n",
            "Epoch 64/65\n",
            "56/56 [==============================] - 67s 1s/step - loss: 0.0699 - accuracy: 0.9757 - val_loss: 0.4886 - val_accuracy: 0.9019\n",
            "Epoch 65/65\n",
            "56/56 [==============================] - 67s 1s/step - loss: 0.0677 - accuracy: 0.9762 - val_loss: 0.5104 - val_accuracy: 0.9045\n"
          ]
        },
        {
          "output_type": "stream",
          "name": "stderr",
          "text": [
            "/usr/local/lib/python3.7/dist-packages/keras/engine/functional.py:1410: CustomMaskWarning: Custom mask layers require a config and must override get_config. When loading, the custom mask layer must be passed to the custom_objects argument.\n",
            "  layer_config = serialize_layer_fn(layer)\n"
          ]
        }
      ]
    },
    {
      "cell_type": "code",
      "source": [
        "study_model(model_xception, labels, test_generator, executionTime)"
      ],
      "metadata": {
        "colab": {
          "base_uri": "https://localhost:8080/"
        },
        "id": "ucoM-HuoY7on",
        "outputId": "378296f9-ea3a-464b-d80c-9bd3dba3a293"
      },
      "execution_count": null,
      "outputs": [
        {
          "output_type": "stream",
          "name": "stdout",
          "text": [
            "Durée d'entraînement : 4824.38 secondes\n",
            "\n",
            "Performances sur le set de test : \n",
            "\n",
            "   accuracy  precision    recall  f1-score\n",
            "0  0.869792    0.86912  0.869792   0.86805\n"
          ]
        }
      ]
    },
    {
      "cell_type": "code",
      "source": [
        "plot_accuracy_loss(history)"
      ],
      "metadata": {
        "colab": {
          "base_uri": "https://localhost:8080/",
          "height": 349
        },
        "id": "ne92kYPeZCwV",
        "outputId": "7670efce-d6e0-4c85-e457-13e70280415b"
      },
      "execution_count": null,
      "outputs": [
        {
          "output_type": "display_data",
          "data": {
            "image/png": "[encoded data removed]",
            "text/plain": [
              "<Figure size 1080x360 with 2 Axes>"
            ]
          },
          "metadata": {
            "needs_background": "light"
          }
        }
      ]
    },
    {
      "cell_type": "markdown",
      "source": [
        "L'accuracy atteint presque les 87%."
      ],
      "metadata": {
        "id": "IfHbt1BrpDki"
      }
    },
    {
      "cell_type": "code",
      "execution_count": null,
      "metadata": {
        "colab": {
          "base_uri": "https://localhost:8080/"
        },
        "id": "49Pb1xav_6-L",
        "outputId": "9b160743-81c8-4358-ddf7-0c8fa4c01127"
      },
      "outputs": [
        {
          "output_type": "stream",
          "name": "stdout",
          "text": [
            "Mounted at /content/drive\n"
          ]
        }
      ],
      "source": [
        "#change working directory to save the files\n",
        "from google.colab import drive \n",
        "drive.mount('/content/drive')"
      ]
    },
    {
      "cell_type": "code",
      "execution_count": null,
      "metadata": {
        "colab": {
          "base_uri": "https://localhost:8080/"
        },
        "id": "5gL39AALV0lz",
        "outputId": "10cbe023-ac6d-442b-e80c-7da9e808ae76"
      },
      "outputs": [
        {
          "output_type": "stream",
          "name": "stdout",
          "text": [
            "/content/drive/My Drive/Centrale-A5 Deep Learning/Projet_tutos/Garbage\n"
          ]
        }
      ],
      "source": [
        "%cd /content/drive/My\\ Drive/Centrale-A5 Deep Learning/Projet_tutos/Garbage"
      ]
    },
    {
      "cell_type": "code",
      "execution_count": null,
      "metadata": {
        "colab": {
          "base_uri": "https://localhost:8080/"
        },
        "id": "DCXljgq9_7Yj",
        "outputId": "787b38b1-5e8b-43a5-d530-2b552244d648"
      },
      "outputs": [
        {
          "name": "stdout",
          "output_type": "stream",
          "text": [
            "/content/drive/.shortcut-targets-by-id/1YUU_BfxIcyKet1fbcy82Pc3_Q_12H8ux/Garbage\n"
          ]
        }
      ],
      "source": [
        "%cd /content/drive/My\\ Drive/Garbage"
      ]
    },
    {
      "cell_type": "code",
      "execution_count": null,
      "metadata": {
        "id": "MNCeagzZAFNj"
      },
      "outputs": [],
      "source": [
        ""
      ]
    }
  ],
  "metadata": {
    "accelerator": "GPU",
    "colab": {
      "collapsed_sections": [],
      "name": "transfer_learning.ipynb",
      "toc_visible": true,
      "provenance": []
    },
    "kernelspec": {
      "display_name": "Python 3",
      "name": "python3"
    },
    "language_info": {
      "name": "python"
    }
  },
  "nbformat": 4,
  "nbformat_minor": 0
}